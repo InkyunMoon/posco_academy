{
 "cells": [
  {
   "cell_type": "markdown",
   "metadata": {},
   "source": [
    "부동산 가격 평균이상인 것을 1\n",
    "평균 이하인 것을 0  \n",
    "높은 집단, 낮은 집단으로 데이터 변환..."
   ]
  },
  {
   "cell_type": "markdown",
   "metadata": {},
   "source": [
    "강 조망권에 따라 가격이 높아질까? - t테스트\n",
    "\n",
    "부동산 가격 높은 집단과 낮은 집단을 구분한 뒤, 나머지 변수로 확인...\n",
    "\n",
    "모델링 - 부동산 가격 예측\n",
    "\n",
    "논리를 ppt로 정리\n",
    "\n",
    "- 코드도 제출"
   ]
  },
  {
   "cell_type": "code",
   "execution_count": null,
   "metadata": {},
   "outputs": [],
   "source": []
  }
 ],
 "metadata": {
  "kernelspec": {
   "display_name": "Python 3",
   "language": "python",
   "name": "python3"
  },
  "language_info": {
   "codemirror_mode": {
    "name": "ipython",
    "version": 3
   },
   "file_extension": ".py",
   "mimetype": "text/x-python",
   "name": "python",
   "nbconvert_exporter": "python",
   "pygments_lexer": "ipython3",
   "version": "3.7.3"
  }
 },
 "nbformat": 4,
 "nbformat_minor": 2
}
