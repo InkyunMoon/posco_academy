{
 "cells": [
  {
   "cell_type": "code",
   "execution_count": 56,
   "metadata": {},
   "outputs": [],
   "source": [
    "# path = 'C:/Users/moon/Documents/github/posco_academy/'\n",
    "path = '/home/piai/github/posco_academy/'\n",
    "with open(path + 'students.txt', 'r') as f:\n",
    "    students = f.readlines()"
   ]
  },
  {
   "cell_type": "code",
   "execution_count": 57,
   "metadata": {},
   "outputs": [],
   "source": [
    "student_list = []\n",
    "for student in students:\n",
    "    student = student.split()\n",
    "    name = student[1] + ' ' + student[2]\n",
    "    student_list.append([int(student[0]),name,int(student[3]),int(student[4])])"
   ]
  },
  {
   "cell_type": "code",
   "execution_count": 58,
   "metadata": {},
   "outputs": [],
   "source": [
    "def mean_grade(score_list,get=True): # 리스트 요소 하나씩(리스트형태)을 넣어준다.\n",
    "    mean = (score_list[2] + score_list[3])/2\n",
    "    if mean >= 90:\n",
    "        grade = 'A'\n",
    "    elif (mean >= 80) & (mean < 90):\n",
    "        grade = 'B'\n",
    "    elif (mean >= 70) & (mean < 80):\n",
    "        grade = 'C'\n",
    "    elif (mean >= 60) & (mean < 70):\n",
    "        grade = 'D'\n",
    "    else:\n",
    "        grade = 'F'\n",
    "\n",
    "    score_list.append(mean)\n",
    "    score_list.append(grade)\n",
    "    if get==True:\n",
    "        return score_list"
   ]
  },
  {
   "cell_type": "code",
   "execution_count": 59,
   "metadata": {},
   "outputs": [],
   "source": [
    "result_list = []\n",
    "for student in student_list:\n",
    "    result_list.append(mean_grade(student))\n",
    "\n",
    "# 정렬\n",
    "result_list.sort(key = lambda x: x[3], reverse=True)\n",
    "# result_list"
   ]
  },
  {
   "cell_type": "code",
   "execution_count": 60,
   "metadata": {},
   "outputs": [],
   "source": [
    "result_list.sort(key=lambda x:x[4], reverse=True)"
   ]
  },
  {
   "cell_type": "code",
   "execution_count": 51,
   "metadata": {},
   "outputs": [],
   "source": [
    "# 함수 정의"
   ]
  },
  {
   "cell_type": "code",
   "execution_count": 10,
   "metadata": {},
   "outputs": [],
   "source": [
    "def func_show():\n",
    "    result_list.sort(key=lambda x:x[4], reverse=True)\n",
    "    print('Student', 'Name','Midterm','Final','Average','Grade',sep='\\t')\n",
    "    print('----------------------------------------------------------')\n",
    "    for row in result_list:\n",
    "        \n",
    "        print(row[0],row[1],row[2],row[3],row[4],row[5], sep='\\t')"
   ]
  },
  {
   "cell_type": "code",
   "execution_count": 11,
   "metadata": {},
   "outputs": [],
   "source": [
    "def func_search(ID,get=False, print=True):\n",
    "    id_list = []\n",
    "    for row in result_list:\n",
    "        id_list.append(row[0])\n",
    "    if ID not in id_list:\n",
    "        print('NO SUCH PERSON.')\n",
    "    else:\n",
    "        idx =id_list.index(ID)\n",
    "        chosen_row = result_list[idx]\n",
    "#         print(chosen_row[0],chosen_row[1],chosen_row[2],chosen_row[3],chosen_row[4],chosen_row[5], sep='\\t')\n",
    "        if get == True:\n",
    "            return [chosen_row[0],chosen_row[1],chosen_row[2],chosen_row[3],chosen_row[4],chosen_row[5]]"
   ]
  },
  {
   "cell_type": "code",
   "execution_count": 12,
   "metadata": {
    "scrolled": true
   },
   "outputs": [],
   "source": [
    "def func_searchgrade(GRADE):\n",
    "    if GRADE not in ['A','B','C','D','F']:\n",
    "        pass\n",
    "    else:\n",
    "        idx_list = []\n",
    "        for idx, row in enumerate(result_list):\n",
    "            if GRADE == row[5]:\n",
    "                idx_list.append(idx)\n",
    "                if len(idx_list) == 0:\n",
    "                    print('NO RESULTS')\n",
    "        for i in idx_list:\n",
    "            func_search(result_list[i][0])"
   ]
  },
  {
   "cell_type": "code",
   "execution_count": 14,
   "metadata": {},
   "outputs": [],
   "source": [
    "def func_remove(ID):\n",
    "    if ID not in [id[0] for id in result_list]:\n",
    "        print('NO SUCH PERSON')\n",
    "    else:\n",
    "        for idx, row in enumerate(result_list):\n",
    "            if ID == row[0]:\n",
    "                del result_list[idx]\n",
    "                print('Student removed')"
   ]
  },
  {
   "cell_type": "code",
   "execution_count": 15,
   "metadata": {},
   "outputs": [],
   "source": [
    "def func_add(ID):\n",
    "    if ID in [id[0] for id in result_list]:\n",
    "        print('ALREADY EXISTS.')\n",
    "    else:\n",
    "#         ID = int(input('Student ID: '))\n",
    "        NAME = input('Name: ')\n",
    "        MID = int(input('Midterm Score: '))\n",
    "        FINAL = int(input('Final Score: '))\n",
    "        \n",
    "        result_list.append(mean_grade([ID,NAME,MID,FINAL]))\n",
    "        print('Student added.')"
   ]
  },
  {
   "cell_type": "code",
   "execution_count": 16,
   "metadata": {},
   "outputs": [],
   "source": [
    "def func_changescore(ID):\n",
    "    if ID not in [id[0] for id in result_list]:\n",
    "        print('NO SUCH PERSON')\n",
    "    else:\n",
    "        idx = [id[0] for id in result_list].index(ID)\n",
    "    exam = input('Mid/Final?').lower()\n",
    "    if exam not in ['mid','final']:\n",
    "        pass\n",
    "    else:\n",
    "        new_score = int(input('Input new score: '))\n",
    "    if abs(new_score) < 100:\n",
    "        pass\n",
    "    \n",
    "    changed = mean_grade(func_search(ID, True))\n",
    "    print(changed[0], changed[1], changed[2], changed[3], changed[4], changed[5], sep='\\t')\n",
    "\n",
    "    if exam == 'mid':\n",
    "        changed = [changed[0], changed[1], new_score, changed[3], changed[4], changed[5]]\n",
    "        \n",
    "    elif exam == 'final':\n",
    "        changed = [changed[0], changed[1], changed[2], new_score ,changed[4], changed[5]]\n",
    "        \n",
    "    result_list[idx] = mean_grade(changed[:4])\n",
    "    print('Score changed')\n",
    "    print(result_list[idx][0],result_list[idx][1],result_list[idx][2],result_list[idx][3],\\\n",
    "          result_list[idx][4],result_list[idx][5],sep='\\t')"
   ]
  },
  {
   "cell_type": "code",
   "execution_count": 90,
   "metadata": {},
   "outputs": [],
   "source": [
    "def quit():\n",
    "    answer = input('Save data?[yes/no]')\n",
    "    if answer == 'yes':\n",
    "        result_list.sort(key=lambda x:x[4], reverse=True)\n",
    "        temp = ''\n",
    "        with open(path+'newStudent', 'w') as f:\n",
    "            for line in result_list:\n",
    "                for word in line:\n",
    "                    temp += str(word) + '\\t'\n",
    "                temp += '\\n'\n",
    "            f.write(temp)\n",
    "        print('File Saved.')\n",
    "    else:\n",
    "        print('Have a nice day.')\n",
    "    pass"
   ]
  },
  {
   "cell_type": "code",
   "execution_count": 91,
   "metadata": {},
   "outputs": [
    {
     "name": "stdout",
     "output_type": "stream",
     "text": [
      "# quit\n",
      "Save data?[yes/no]no\n",
      "Have a nice day.\n"
     ]
    }
   ],
   "source": [
    "func_list = ['show','search','changescore','searchgrade','add','remove','quit']\n",
    "while True:\n",
    "    param = input('# ').lower()\n",
    "# 1번 함수    \n",
    "    if param == 'show':\n",
    "        func_show()\n",
    "  \n",
    "    elif param == 'quit':\n",
    "        quit()\n",
    "        break\n",
    "\n",
    "# 2번 함수\n",
    "    elif param == 'search':\n",
    "        ID = int(input('Student ID: '))\n",
    "        func_search(ID)\n",
    "    \n",
    "# 3번 함수\n",
    "    elif param == 'changescore':\n",
    "        ID = int(input('Student ID: '))\n",
    "        func_changescore(ID)\n",
    "\n",
    "# 4번 함수\n",
    "    elif param == 'add':\n",
    "        ID = int(input('Student ID: '))\n",
    "        func_add(ID)\n",
    "        \n",
    "# 5번 함수\n",
    "    elif param == 'searchgrade':\n",
    "        GRADE = input('Grade to search:: ').upper()\n",
    "        func_searchgrade(GRADE)\n",
    "        \n",
    "# 6번 함수\n",
    "    elif param == 'remove':\n",
    "        ID = int(input('Student ID: '))\n",
    "        func_remove(ID)\n",
    "        \n",
    "# 7번 함수"
   ]
  },
  {
   "cell_type": "code",
   "execution_count": null,
   "metadata": {},
   "outputs": [],
   "source": []
  }
 ],
 "metadata": {
  "hide_input": false,
  "kernelspec": {
   "display_name": "Python 3",
   "language": "python",
   "name": "python3"
  },
  "language_info": {
   "codemirror_mode": {
    "name": "ipython",
    "version": 3
   },
   "file_extension": ".py",
   "mimetype": "text/x-python",
   "name": "python",
   "nbconvert_exporter": "python",
   "pygments_lexer": "ipython3",
   "version": "3.7.3"
  }
 },
 "nbformat": 4,
 "nbformat_minor": 4
}
