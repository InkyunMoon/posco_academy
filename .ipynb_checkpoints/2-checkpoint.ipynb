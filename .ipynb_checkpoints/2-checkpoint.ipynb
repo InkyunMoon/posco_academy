{
 "cells": [
  {
   "cell_type": "code",
   "execution_count": 3,
   "metadata": {},
   "outputs": [],
   "source": [
    "import pandas as pd\n",
    "import numpy as np\n",
    "import seaborn as sns\n",
    "import matplotlib.pyplot as plt\n",
    "import matplotlib\n",
    "from sklearn.preprocessing import StandardScaler\n",
    "\n",
    "from scipy.cluster.hierarchy import linkage, dendrogram, fcluster\n",
    "from sklearn.cluster import KMeans, DBSCAN\n",
    "matplotlib.rc('font',family='Malgun Gothic')\n",
    "df = pd.read_csv('C:\\\\Users\\\\moon\\\\Documents\\\\posco_academy\\\\practice_data\\\\3_bigdata\\\\FITNESS.csv', encoding = 'CP949')\n",
    "path = 'C:\\\\Users\\\\moon\\\\Documents\\\\posco_academy\\\\practice_data\\\\3_bigdata\\\\'"
   ]
  },
  {
   "cell_type": "code",
   "execution_count": 4,
   "metadata": {},
   "outputs": [],
   "source": [
    "from sklearn.preprocessing import RobustScaler"
   ]
  },
  {
   "cell_type": "code",
   "execution_count": 7,
   "metadata": {},
   "outputs": [
    {
     "name": "stdout",
     "output_type": "stream",
     "text": [
      "<class 'pandas.core.frame.DataFrame'>\n",
      "RangeIndex: 31 entries, 0 to 30\n",
      "Data columns (total 10 columns):\n",
      " #   Column    Non-Null Count  Dtype  \n",
      "---  ------    --------------  -----  \n",
      " 0   NAME      31 non-null     object \n",
      " 1   GENDER    31 non-null     object \n",
      " 2   AGE       31 non-null     int64  \n",
      " 3   AGEGROUP  31 non-null     object \n",
      " 4   WEIGHT    31 non-null     float64\n",
      " 5   OXY       31 non-null     float64\n",
      " 6   RUNTIME   31 non-null     float64\n",
      " 7   RUNPULSE  31 non-null     int64  \n",
      " 8   RSTPULSE  31 non-null     int64  \n",
      " 9   MAXPULSE  31 non-null     int64  \n",
      "dtypes: float64(3), int64(4), object(3)\n",
      "memory usage: 2.5+ KB\n"
     ]
    }
   ],
   "source": [
    "df.info()"
   ]
  },
  {
   "cell_type": "code",
   "execution_count": 8,
   "metadata": {},
   "outputs": [],
   "source": [
    "scaler = RobustScaler()\n",
    "df_num = df.select_dtypes(exclude = 'object')"
   ]
  },
  {
   "cell_type": "code",
   "execution_count": 12,
   "metadata": {},
   "outputs": [],
   "source": [
    "df_num_scaled = pd.DataFrame(scaler.fit_transform(df_num))"
   ]
  },
  {
   "cell_type": "code",
   "execution_count": 15,
   "metadata": {},
   "outputs": [
    {
     "data": {
      "text/html": [
       "<div>\n",
       "<style scoped>\n",
       "    .dataframe tbody tr th:only-of-type {\n",
       "        vertical-align: middle;\n",
       "    }\n",
       "\n",
       "    .dataframe tbody tr th {\n",
       "        vertical-align: top;\n",
       "    }\n",
       "\n",
       "    .dataframe thead th {\n",
       "        text-align: right;\n",
       "    }\n",
       "</style>\n",
       "<table border=\"1\" class=\"dataframe\">\n",
       "  <thead>\n",
       "    <tr style=\"text-align: right;\">\n",
       "      <th></th>\n",
       "      <th>0</th>\n",
       "      <th>1</th>\n",
       "      <th>2</th>\n",
       "      <th>3</th>\n",
       "      <th>4</th>\n",
       "      <th>5</th>\n",
       "      <th>6</th>\n",
       "    </tr>\n",
       "  </thead>\n",
       "  <tbody>\n",
       "    <tr>\n",
       "      <th>count</th>\n",
       "      <td>31.000000</td>\n",
       "      <td>31.000000</td>\n",
       "      <td>31.000000</td>\n",
       "      <td>31.000000</td>\n",
       "      <td>31.000000</td>\n",
       "      <td>31.000000</td>\n",
       "      <td>31.000000</td>\n",
       "    </tr>\n",
       "    <tr>\n",
       "      <th>mean</th>\n",
       "      <td>-0.145161</td>\n",
       "      <td>-0.000601</td>\n",
       "      <td>0.116482</td>\n",
       "      <td>0.077939</td>\n",
       "      <td>-0.027295</td>\n",
       "      <td>0.138249</td>\n",
       "      <td>0.147849</td>\n",
       "    </tr>\n",
       "    <tr>\n",
       "      <th>std</th>\n",
       "      <td>0.732502</td>\n",
       "      <td>0.912720</td>\n",
       "      <td>1.031110</td>\n",
       "      <td>0.931150</td>\n",
       "      <td>0.788614</td>\n",
       "      <td>0.725661</td>\n",
       "      <td>0.763675</td>\n",
       "    </tr>\n",
       "    <tr>\n",
       "      <th>min</th>\n",
       "      <td>-1.375000</td>\n",
       "      <td>-2.013151</td>\n",
       "      <td>-1.816704</td>\n",
       "      <td>-1.543624</td>\n",
       "      <td>-1.846154</td>\n",
       "      <td>-1.142857</td>\n",
       "      <td>-1.416667</td>\n",
       "    </tr>\n",
       "    <tr>\n",
       "      <th>25%</th>\n",
       "      <td>-0.625000</td>\n",
       "      <td>-0.465753</td>\n",
       "      <td>-0.350237</td>\n",
       "      <td>-0.463087</td>\n",
       "      <td>-0.538462</td>\n",
       "      <td>-0.380952</td>\n",
       "      <td>-0.333333</td>\n",
       "    </tr>\n",
       "    <tr>\n",
       "      <th>50%</th>\n",
       "      <td>0.000000</td>\n",
       "      <td>0.000000</td>\n",
       "      <td>0.000000</td>\n",
       "      <td>0.000000</td>\n",
       "      <td>0.000000</td>\n",
       "      <td>0.000000</td>\n",
       "      <td>0.000000</td>\n",
       "    </tr>\n",
       "    <tr>\n",
       "      <th>75%</th>\n",
       "      <td>0.375000</td>\n",
       "      <td>0.534247</td>\n",
       "      <td>0.649763</td>\n",
       "      <td>0.536913</td>\n",
       "      <td>0.461538</td>\n",
       "      <td>0.619048</td>\n",
       "      <td>0.666667</td>\n",
       "    </tr>\n",
       "    <tr>\n",
       "      <th>max</th>\n",
       "      <td>1.125000</td>\n",
       "      <td>1.553973</td>\n",
       "      <td>2.570599</td>\n",
       "      <td>2.389262</td>\n",
       "      <td>1.230769</td>\n",
       "      <td>1.714286</td>\n",
       "      <td>1.666667</td>\n",
       "    </tr>\n",
       "  </tbody>\n",
       "</table>\n",
       "</div>"
      ],
      "text/plain": [
       "               0          1          2          3          4          5  \\\n",
       "count  31.000000  31.000000  31.000000  31.000000  31.000000  31.000000   \n",
       "mean   -0.145161  -0.000601   0.116482   0.077939  -0.027295   0.138249   \n",
       "std     0.732502   0.912720   1.031110   0.931150   0.788614   0.725661   \n",
       "min    -1.375000  -2.013151  -1.816704  -1.543624  -1.846154  -1.142857   \n",
       "25%    -0.625000  -0.465753  -0.350237  -0.463087  -0.538462  -0.380952   \n",
       "50%     0.000000   0.000000   0.000000   0.000000   0.000000   0.000000   \n",
       "75%     0.375000   0.534247   0.649763   0.536913   0.461538   0.619048   \n",
       "max     1.125000   1.553973   2.570599   2.389262   1.230769   1.714286   \n",
       "\n",
       "               6  \n",
       "count  31.000000  \n",
       "mean    0.147849  \n",
       "std     0.763675  \n",
       "min    -1.416667  \n",
       "25%    -0.333333  \n",
       "50%     0.000000  \n",
       "75%     0.666667  \n",
       "max     1.666667  "
      ]
     },
     "execution_count": 15,
     "metadata": {},
     "output_type": "execute_result"
    }
   ],
   "source": [
    "df_num_scaled.describe()"
   ]
  },
  {
   "cell_type": "code",
   "execution_count": 19,
   "metadata": {
    "scrolled": true
   },
   "outputs": [
    {
     "data": {
      "text/plain": [
       "<matplotlib.axes._subplots.AxesSubplot at 0x25edfb41808>"
      ]
     },
     "execution_count": 19,
     "metadata": {},
     "output_type": "execute_result"
    },
    {
     "data": {
      "image/png": "[encoded data removed]",
      "text/plain": [
       "<Figure size 432x288 with 1 Axes>"
      ]
     },
     "metadata": {
      "needs_background": "light"
     },
     "output_type": "display_data"
    }
   ],
   "source": [
    "df['AGEGROUP'].value_counts().plot.bar()"
   ]
  },
  {
   "cell_type": "code",
   "execution_count": 30,
   "metadata": {},
   "outputs": [
    {
     "data": {
      "text/plain": [
       "<matplotlib.axes._subplots.AxesSubplot at 0x25ee0c49808>"
      ]
     },
     "execution_count": 30,
     "metadata": {},
     "output_type": "execute_result"
    },
    {
     "name": "stderr",
     "output_type": "stream",
     "text": [
      "C:\\Users\\moon\\anaconda3\\lib\\site-packages\\matplotlib\\backends\\backend_agg.py:211: RuntimeWarning: Glyph 45224 missing from current font.\n",
      "  font.set_text(s, 0.0, flags=flags)\n",
      "C:\\Users\\moon\\anaconda3\\lib\\site-packages\\matplotlib\\backends\\backend_agg.py:211: RuntimeWarning: Glyph 49457 missing from current font.\n",
      "  font.set_text(s, 0.0, flags=flags)\n",
      "C:\\Users\\moon\\anaconda3\\lib\\site-packages\\matplotlib\\backends\\backend_agg.py:211: RuntimeWarning: Glyph 45824 missing from current font.\n",
      "  font.set_text(s, 0.0, flags=flags)\n",
      "C:\\Users\\moon\\anaconda3\\lib\\site-packages\\matplotlib\\backends\\backend_agg.py:211: RuntimeWarning: Glyph 50668 missing from current font.\n",
      "  font.set_text(s, 0.0, flags=flags)\n",
      "C:\\Users\\moon\\anaconda3\\lib\\site-packages\\matplotlib\\backends\\backend_agg.py:180: RuntimeWarning: Glyph 45224 missing from current font.\n",
      "  font.set_text(s, 0, flags=flags)\n",
      "C:\\Users\\moon\\anaconda3\\lib\\site-packages\\matplotlib\\backends\\backend_agg.py:180: RuntimeWarning: Glyph 49457 missing from current font.\n",
      "  font.set_text(s, 0, flags=flags)\n",
      "C:\\Users\\moon\\anaconda3\\lib\\site-packages\\matplotlib\\backends\\backend_agg.py:180: RuntimeWarning: Glyph 45824 missing from current font.\n",
      "  font.set_text(s, 0, flags=flags)\n",
      "C:\\Users\\moon\\anaconda3\\lib\\site-packages\\matplotlib\\backends\\backend_agg.py:180: RuntimeWarning: Glyph 50668 missing from current font.\n",
      "  font.set_text(s, 0, flags=flags)\n"
     ]
    },
    {
     "data": {
      "image/png": "[encoded data removed]",
      "text/plain": [
       "<Figure size 432x288 with 1 Axes>"
      ]
     },
     "metadata": {
      "needs_background": "light"
     },
     "output_type": "display_data"
    }
   ],
   "source": [
    "df.groupby(['GENDER','AGEGROUP'], as_index = False).size().plot.bar()"
   ]
  },
  {
   "cell_type": "code",
   "execution_count": 31,
   "metadata": {},
   "outputs": [
    {
     "data": {
      "text/plain": [
       "array([[<matplotlib.axes._subplots.AxesSubplot object at 0x0000025EE0DDCDC8>,\n",
       "        <matplotlib.axes._subplots.AxesSubplot object at 0x0000025EE0E180C8>,\n",
       "        <matplotlib.axes._subplots.AxesSubplot object at 0x0000025EE0E4D0C8>],\n",
       "       [<matplotlib.axes._subplots.AxesSubplot object at 0x0000025EE0E7EC88>,\n",
       "        <matplotlib.axes._subplots.AxesSubplot object at 0x0000025EE0EB3A08>,\n",
       "        <matplotlib.axes._subplots.AxesSubplot object at 0x0000025EE0EEA788>],\n",
       "       [<matplotlib.axes._subplots.AxesSubplot object at 0x0000025EE0F20508>,\n",
       "        <matplotlib.axes._subplots.AxesSubplot object at 0x0000025EE0F562C8>,\n",
       "        <matplotlib.axes._subplots.AxesSubplot object at 0x0000025EE0F8F4C8>]],\n",
       "      dtype=object)"
      ]
     },
     "execution_count": 31,
     "metadata": {},
     "output_type": "execute_result"
    },
    {
     "data": {
      "image/png": "[encoded data removed]",
      "text/plain": [
       "<Figure size 432x288 with 9 Axes>"
      ]
     },
     "metadata": {
      "needs_background": "light"
     },
     "output_type": "display_data"
    }
   ],
   "source": [
    "df.hist()"
   ]
  },
  {
   "cell_type": "code",
   "execution_count": 32,
   "metadata": {},
   "outputs": [
    {
     "data": {
      "text/plain": [
       "array([<matplotlib.axes._subplots.AxesSubplot object at 0x0000025EE10A7B08>,\n",
       "       <matplotlib.axes._subplots.AxesSubplot object at 0x0000025EE1169688>],\n",
       "      dtype=object)"
      ]
     },
     "execution_count": 32,
     "metadata": {},
     "output_type": "execute_result"
    },
    {
     "data": {
      "image/png": "[encoded data removed]",
      "text/plain": [
       "<Figure size 432x288 with 2 Axes>"
      ]
     },
     "metadata": {
      "needs_background": "light"
     },
     "output_type": "display_data"
    }
   ],
   "source": [
    "df.hist(column='OXY',by='GENDER',range=(35,65))"
   ]
  },
  {
   "cell_type": "code",
   "execution_count": 37,
   "metadata": {},
   "outputs": [
    {
     "name": "stderr",
     "output_type": "stream",
     "text": [
      "C:\\Users\\moon\\anaconda3\\lib\\site-packages\\matplotlib\\backends\\backend_agg.py:211: RuntimeWarning: Glyph 50668 missing from current font.\n",
      "  font.set_text(s, 0.0, flags=flags)\n",
      "C:\\Users\\moon\\anaconda3\\lib\\site-packages\\matplotlib\\backends\\backend_agg.py:211: RuntimeWarning: Glyph 49457 missing from current font.\n",
      "  font.set_text(s, 0.0, flags=flags)\n",
      "C:\\Users\\moon\\anaconda3\\lib\\site-packages\\matplotlib\\backends\\backend_agg.py:211: RuntimeWarning: Glyph 45224 missing from current font.\n",
      "  font.set_text(s, 0.0, flags=flags)\n"
     ]
    },
    {
     "data": {
      "text/plain": [
       "<seaborn.axisgrid.FacetGrid at 0x25ee1582108>"
      ]
     },
     "execution_count": 37,
     "metadata": {},
     "output_type": "execute_result"
    },
    {
     "name": "stderr",
     "output_type": "stream",
     "text": [
      "C:\\Users\\moon\\anaconda3\\lib\\site-packages\\matplotlib\\backends\\backend_agg.py:180: RuntimeWarning: Glyph 50668 missing from current font.\n",
      "  font.set_text(s, 0, flags=flags)\n",
      "C:\\Users\\moon\\anaconda3\\lib\\site-packages\\matplotlib\\backends\\backend_agg.py:180: RuntimeWarning: Glyph 49457 missing from current font.\n",
      "  font.set_text(s, 0, flags=flags)\n",
      "C:\\Users\\moon\\anaconda3\\lib\\site-packages\\matplotlib\\backends\\backend_agg.py:180: RuntimeWarning: Glyph 45224 missing from current font.\n",
      "  font.set_text(s, 0, flags=flags)\n"
     ]
    },
    {
     "data": {
      "image/png": "[encoded data removed]",
      "text/plain": [
       "<Figure size 432x216 with 2 Axes>"
      ]
     },
     "metadata": {
      "needs_background": "light"
     },
     "output_type": "display_data"
    }
   ],
   "source": [
    "grid = sns.FacetGrid(df,col='GENDER')\n",
    "grid.map(plt.hist, 'OXY')"
   ]
  },
  {
   "cell_type": "code",
   "execution_count": 38,
   "metadata": {},
   "outputs": [],
   "source": [
    "df_count = df.groupby(['GENDER']).size()"
   ]
  },
  {
   "cell_type": "code",
   "execution_count": 42,
   "metadata": {},
   "outputs": [
    {
     "data": {
      "text/plain": [
       "<matplotlib.axes._subplots.AxesSubplot at 0x25ee16d5508>"
      ]
     },
     "execution_count": 42,
     "metadata": {},
     "output_type": "execute_result"
    },
    {
     "data": {
      "image/png": "[encoded data removed]",
      "text/plain": [
       "<Figure size 432x288 with 1 Axes>"
      ]
     },
     "metadata": {},
     "output_type": "display_data"
    }
   ],
   "source": [
    "df_count.plot.pie(y='OXY', autopct='%.1f%%')"
   ]
  },
  {
   "cell_type": "code",
   "execution_count": 45,
   "metadata": {},
   "outputs": [
    {
     "data": {
      "text/html": [
       "<div>\n",
       "<style scoped>\n",
       "    .dataframe tbody tr th:only-of-type {\n",
       "        vertical-align: middle;\n",
       "    }\n",
       "\n",
       "    .dataframe tbody tr th {\n",
       "        vertical-align: top;\n",
       "    }\n",
       "\n",
       "    .dataframe thead th {\n",
       "        text-align: right;\n",
       "    }\n",
       "</style>\n",
       "<table border=\"1\" class=\"dataframe\">\n",
       "  <thead>\n",
       "    <tr style=\"text-align: right;\">\n",
       "      <th></th>\n",
       "      <th>NAME</th>\n",
       "      <th>GENDER</th>\n",
       "      <th>AGE</th>\n",
       "      <th>AGEGROUP</th>\n",
       "      <th>WEIGHT</th>\n",
       "      <th>OXY</th>\n",
       "      <th>RUNTIME</th>\n",
       "      <th>RUNPULSE</th>\n",
       "      <th>RSTPULSE</th>\n",
       "      <th>MAXPULSE</th>\n",
       "    </tr>\n",
       "  </thead>\n",
       "  <tbody>\n",
       "    <tr>\n",
       "      <th>0</th>\n",
       "      <td>Donna</td>\n",
       "      <td>여성</td>\n",
       "      <td>42</td>\n",
       "      <td>40대</td>\n",
       "      <td>68.15</td>\n",
       "      <td>59.571</td>\n",
       "      <td>8.17</td>\n",
       "      <td>166</td>\n",
       "      <td>40</td>\n",
       "      <td>172</td>\n",
       "    </tr>\n",
       "    <tr>\n",
       "      <th>1</th>\n",
       "      <td>Gracie</td>\n",
       "      <td>여성</td>\n",
       "      <td>38</td>\n",
       "      <td>30대</td>\n",
       "      <td>81.87</td>\n",
       "      <td>60.055</td>\n",
       "      <td>8.63</td>\n",
       "      <td>170</td>\n",
       "      <td>48</td>\n",
       "      <td>186</td>\n",
       "    </tr>\n",
       "    <tr>\n",
       "      <th>2</th>\n",
       "      <td>Luanne</td>\n",
       "      <td>여성</td>\n",
       "      <td>43</td>\n",
       "      <td>40대</td>\n",
       "      <td>85.84</td>\n",
       "      <td>54.297</td>\n",
       "      <td>8.65</td>\n",
       "      <td>156</td>\n",
       "      <td>45</td>\n",
       "      <td>168</td>\n",
       "    </tr>\n",
       "    <tr>\n",
       "      <th>3</th>\n",
       "      <td>Mimi</td>\n",
       "      <td>여성</td>\n",
       "      <td>50</td>\n",
       "      <td>50대</td>\n",
       "      <td>70.87</td>\n",
       "      <td>54.625</td>\n",
       "      <td>8.92</td>\n",
       "      <td>146</td>\n",
       "      <td>48</td>\n",
       "      <td>155</td>\n",
       "    </tr>\n",
       "    <tr>\n",
       "      <th>4</th>\n",
       "      <td>Chris</td>\n",
       "      <td>남성</td>\n",
       "      <td>49</td>\n",
       "      <td>40대</td>\n",
       "      <td>81.42</td>\n",
       "      <td>49.156</td>\n",
       "      <td>8.95</td>\n",
       "      <td>180</td>\n",
       "      <td>44</td>\n",
       "      <td>185</td>\n",
       "    </tr>\n",
       "  </tbody>\n",
       "</table>\n",
       "</div>"
      ],
      "text/plain": [
       "     NAME GENDER  AGE AGEGROUP  WEIGHT     OXY  RUNTIME  RUNPULSE  RSTPULSE  \\\n",
       "0   Donna     여성   42      40대   68.15  59.571     8.17       166        40   \n",
       "1  Gracie     여성   38      30대   81.87  60.055     8.63       170        48   \n",
       "2  Luanne     여성   43      40대   85.84  54.297     8.65       156        45   \n",
       "3    Mimi     여성   50      50대   70.87  54.625     8.92       146        48   \n",
       "4   Chris     남성   49      40대   81.42  49.156     8.95       180        44   \n",
       "\n",
       "   MAXPULSE  \n",
       "0       172  \n",
       "1       186  \n",
       "2       168  \n",
       "3       155  \n",
       "4       185  "
      ]
     },
     "execution_count": 45,
     "metadata": {},
     "output_type": "execute_result"
    }
   ],
   "source": [
    "df.head()"
   ]
  },
  {
   "cell_type": "code",
   "execution_count": 44,
   "metadata": {},
   "outputs": [
    {
     "data": {
      "text/plain": [
       "<matplotlib.axes._subplots.AxesSubplot at 0x25ee16ee708>"
      ]
     },
     "execution_count": 44,
     "metadata": {},
     "output_type": "execute_result"
    },
    {
     "data": {
      "image/png": "[encoded data removed]",
      "text/plain": [
       "<Figure size 432x288 with 1 Axes>"
      ]
     },
     "metadata": {
      "needs_background": "light"
     },
     "output_type": "display_data"
    }
   ],
   "source": [
    "sns.scatterplot(x='RUNTIME',y='OXY',hue='GENDER',style='GENDER',data=df)"
   ]
  },
  {
   "cell_type": "code",
   "execution_count": 49,
   "metadata": {},
   "outputs": [
    {
     "data": {
      "text/plain": [
       "<matplotlib.axes._subplots.AxesSubplot at 0x25ee192c608>"
      ]
     },
     "execution_count": 49,
     "metadata": {},
     "output_type": "execute_result"
    },
    {
     "data": {
      "image/png": "[encoded data removed]",
      "text/plain": [
       "<Figure size 432x288 with 1 Axes>"
      ]
     },
     "metadata": {
      "needs_background": "light"
     },
     "output_type": "display_data"
    }
   ],
   "source": [
    "sns.scatterplot(x='RUNTIME',y='OXY',hue='GENDER',data=df)"
   ]
  },
  {
   "cell_type": "code",
   "execution_count": 55,
   "metadata": {},
   "outputs": [
    {
     "data": {
      "text/plain": [
       "<seaborn.axisgrid.PairGrid at 0x25ee2ad3e48>"
      ]
     },
     "execution_count": 55,
     "metadata": {},
     "output_type": "execute_result"
    },
    {
     "data": {
      "image/png": "[encoded data removed]",
      "text/plain": [
       "<Figure size 540x180 with 3 Axes>"
      ]
     },
     "metadata": {
      "needs_background": "light"
     },
     "output_type": "display_data"
    }
   ],
   "source": [
    "sns.pairplot(df, y_vars=['OXY'], x_vars= ['RUNPULSE','MAXPULSE','RUNTIME'])"
   ]
  },
  {
   "cell_type": "code",
   "execution_count": 52,
   "metadata": {},
   "outputs": [
    {
     "name": "stdout",
     "output_type": "stream",
     "text": [
      "Help on function pairplot in module seaborn.axisgrid:\n",
      "\n",
      "pairplot(data, hue=None, hue_order=None, palette=None, vars=None, x_vars=None, y_vars=None, kind='scatter', diag_kind='auto', markers=None, height=2.5, aspect=1, corner=False, dropna=True, plot_kws=None, diag_kws=None, grid_kws=None, size=None)\n",
      "    Plot pairwise relationships in a dataset.\n",
      "    \n",
      "    By default, this function will create a grid of Axes such that each numeric\n",
      "    variable in ``data`` will by shared in the y-axis across a single row and\n",
      "    in the x-axis across a single column. The diagonal Axes are treated\n",
      "    differently, drawing a plot to show the univariate distribution of the data\n",
      "    for the variable in that column.\n",
      "    \n",
      "    It is also possible to show a subset of variables or plot different\n",
      "    variables on the rows and columns.\n",
      "    \n",
      "    This is a high-level interface for :class:`PairGrid` that is intended to\n",
      "    make it easy to draw a few common styles. You should use :class:`PairGrid`\n",
      "    directly if you need more flexibility.\n",
      "    \n",
      "    Parameters\n",
      "    ----------\n",
      "    data : DataFrame\n",
      "        Tidy (long-form) dataframe where each column is a variable and\n",
      "        each row is an observation.\n",
      "    hue : string (variable name), optional\n",
      "        Variable in ``data`` to map plot aspects to different colors.\n",
      "    hue_order : list of strings\n",
      "        Order for the levels of the hue variable in the palette\n",
      "    palette : dict or seaborn color palette\n",
      "        Set of colors for mapping the ``hue`` variable. If a dict, keys\n",
      "        should be values  in the ``hue`` variable.\n",
      "    vars : list of variable names, optional\n",
      "        Variables within ``data`` to use, otherwise use every column with\n",
      "        a numeric datatype.\n",
      "    {x, y}_vars : lists of variable names, optional\n",
      "        Variables within ``data`` to use separately for the rows and\n",
      "        columns of the figure; i.e. to make a non-square plot.\n",
      "    kind : {'scatter', 'reg'}, optional\n",
      "        Kind of plot for the non-identity relationships.\n",
      "    diag_kind : {'auto', 'hist', 'kde', None}, optional\n",
      "        Kind of plot for the diagonal subplots. The default depends on whether\n",
      "        ``\"hue\"`` is used or not.\n",
      "    markers : single matplotlib marker code or list, optional\n",
      "        Either the marker to use for all datapoints or a list of markers with\n",
      "        a length the same as the number of levels in the hue variable so that\n",
      "        differently colored points will also have different scatterplot\n",
      "        markers.\n",
      "    height : scalar, optional\n",
      "        Height (in inches) of each facet.\n",
      "    aspect : scalar, optional\n",
      "        Aspect * height gives the width (in inches) of each facet.\n",
      "    corner : bool, optional\n",
      "        If True, don't add axes to the upper (off-diagonal) triangle of the\n",
      "        grid, making this a \"corner\" plot.\n",
      "    dropna : boolean, optional\n",
      "        Drop missing values from the data before plotting.\n",
      "    {plot, diag, grid}_kws : dicts, optional\n",
      "        Dictionaries of keyword arguments. ``plot_kws`` are passed to the\n",
      "        bivariate plotting function, ``diag_kws`` are passed to the univariate\n",
      "        plotting function, and ``grid_kws`` are passed to the :class:`PairGrid`\n",
      "        constructor.\n",
      "    \n",
      "    Returns\n",
      "    -------\n",
      "    grid : :class:`PairGrid`\n",
      "        Returns the underlying :class:`PairGrid` instance for further tweaking.\n",
      "    \n",
      "    See Also\n",
      "    --------\n",
      "    PairGrid : Subplot grid for more flexible plotting of pairwise\n",
      "               relationships.\n",
      "    \n",
      "    Examples\n",
      "    --------\n",
      "    \n",
      "    Draw scatterplots for joint relationships and histograms for univariate\n",
      "    distributions:\n",
      "    \n",
      "    .. plot::\n",
      "        :context: close-figs\n",
      "    \n",
      "        >>> import seaborn as sns; sns.set(style=\"ticks\", color_codes=True)\n",
      "        >>> iris = sns.load_dataset(\"iris\")\n",
      "        >>> g = sns.pairplot(iris)\n",
      "    \n",
      "    Show different levels of a categorical variable by the color of plot\n",
      "    elements:\n",
      "    \n",
      "    .. plot::\n",
      "        :context: close-figs\n",
      "    \n",
      "        >>> g = sns.pairplot(iris, hue=\"species\")\n",
      "    \n",
      "    Use a different color palette:\n",
      "    \n",
      "    .. plot::\n",
      "        :context: close-figs\n",
      "    \n",
      "        >>> g = sns.pairplot(iris, hue=\"species\", palette=\"husl\")\n",
      "    \n",
      "    Use different markers for each level of the hue variable:\n",
      "    \n",
      "    .. plot::\n",
      "        :context: close-figs\n",
      "    \n",
      "        >>> g = sns.pairplot(iris, hue=\"species\", markers=[\"o\", \"s\", \"D\"])\n",
      "    \n",
      "    Plot a subset of variables:\n",
      "    \n",
      "    .. plot::\n",
      "        :context: close-figs\n",
      "    \n",
      "        >>> g = sns.pairplot(iris, vars=[\"sepal_width\", \"sepal_length\"])\n",
      "    \n",
      "    Draw larger plots:\n",
      "    \n",
      "    .. plot::\n",
      "        :context: close-figs\n",
      "    \n",
      "        >>> g = sns.pairplot(iris, height=3,\n",
      "        ...                  vars=[\"sepal_width\", \"sepal_length\"])\n",
      "    \n",
      "    Plot different variables in the rows and columns:\n",
      "    \n",
      "    .. plot::\n",
      "        :context: close-figs\n",
      "    \n",
      "        >>> g = sns.pairplot(iris,\n",
      "        ...                  x_vars=[\"sepal_width\", \"sepal_length\"],\n",
      "        ...                  y_vars=[\"petal_width\", \"petal_length\"])\n",
      "    \n",
      "    Plot only the lower triangle of bivariate axes:\n",
      "    \n",
      "    .. plot::\n",
      "        :context: close-figs\n",
      "    \n",
      "        >>> g = sns.pairplot(iris, corner=True)\n",
      "    \n",
      "    Use kernel density estimates for univariate plots:\n",
      "    \n",
      "    .. plot::\n",
      "        :context: close-figs\n",
      "    \n",
      "        >>> g = sns.pairplot(iris, diag_kind=\"kde\")\n",
      "    \n",
      "    Fit linear regression models to the scatter plots:\n",
      "    \n",
      "    .. plot::\n",
      "        :context: close-figs\n",
      "    \n",
      "        >>> g = sns.pairplot(iris, kind=\"reg\")\n",
      "    \n",
      "    Pass keyword arguments down to the underlying functions (it may be easier\n",
      "    to use :class:`PairGrid` directly):\n",
      "    \n",
      "    .. plot::\n",
      "        :context: close-figs\n",
      "    \n",
      "        >>> g = sns.pairplot(iris, diag_kind=\"kde\", markers=\"+\",\n",
      "        ...                  plot_kws=dict(s=50, edgecolor=\"b\", linewidth=1),\n",
      "        ...                  diag_kws=dict(shade=True))\n",
      "\n"
     ]
    }
   ],
   "source": [
    "help(sns.pairplot)"
   ]
  },
  {
   "cell_type": "code",
   "execution_count": 56,
   "metadata": {},
   "outputs": [],
   "source": [
    "df_currency = pd.read_csv('C:\\\\Users\\\\moon\\\\Documents\\\\posco_academy\\\\practice_data\\\\3_bigdata\\\\환율.csv',encoding='CP949')"
   ]
  },
  {
   "cell_type": "code",
   "execution_count": 63,
   "metadata": {},
   "outputs": [
    {
     "data": {
      "text/plain": [
       "<matplotlib.axes._subplots.AxesSubplot at 0x25ee2d05f88>"
      ]
     },
     "execution_count": 63,
     "metadata": {},
     "output_type": "execute_result"
    },
    {
     "data": {
      "image/png": "[encoded data removed]",
      "text/plain": [
       "<Figure size 432x288 with 1 Axes>"
      ]
     },
     "metadata": {
      "needs_background": "light"
     },
     "output_type": "display_data"
    }
   ],
   "source": [
    "df_currency.pivot(index = 'APPL_DATE',columns='CURRENCY',values='STD_RATE')[['JPY','USD']].plot()"
   ]
  },
  {
   "cell_type": "code",
   "execution_count": 66,
   "metadata": {},
   "outputs": [
    {
     "data": {
      "text/html": [
       "<div>\n",
       "<style scoped>\n",
       "    .dataframe tbody tr th:only-of-type {\n",
       "        vertical-align: middle;\n",
       "    }\n",
       "\n",
       "    .dataframe tbody tr th {\n",
       "        vertical-align: top;\n",
       "    }\n",
       "\n",
       "    .dataframe thead th {\n",
       "        text-align: right;\n",
       "    }\n",
       "</style>\n",
       "<table border=\"1\" class=\"dataframe\">\n",
       "  <thead>\n",
       "    <tr style=\"text-align: right;\">\n",
       "      <th></th>\n",
       "      <th>GENDER</th>\n",
       "      <th>AGEGROUP</th>\n",
       "      <th>AGE</th>\n",
       "      <th>WEIGHT</th>\n",
       "      <th>OXY</th>\n",
       "      <th>RUNTIME</th>\n",
       "      <th>RUNPULSE</th>\n",
       "      <th>RSTPULSE</th>\n",
       "      <th>MAXPULSE</th>\n",
       "    </tr>\n",
       "  </thead>\n",
       "  <tbody>\n",
       "    <tr>\n",
       "      <th>0</th>\n",
       "      <td>남성</td>\n",
       "      <td>30대</td>\n",
       "      <td>38.000000</td>\n",
       "      <td>81.080000</td>\n",
       "      <td>46.866250</td>\n",
       "      <td>10.355000</td>\n",
       "      <td>177.250000</td>\n",
       "      <td>57.000000</td>\n",
       "      <td>178.250000</td>\n",
       "    </tr>\n",
       "    <tr>\n",
       "      <th>1</th>\n",
       "      <td>남성</td>\n",
       "      <td>40대</td>\n",
       "      <td>45.500000</td>\n",
       "      <td>85.465000</td>\n",
       "      <td>44.410000</td>\n",
       "      <td>11.421667</td>\n",
       "      <td>173.666667</td>\n",
       "      <td>56.166667</td>\n",
       "      <td>178.166667</td>\n",
       "    </tr>\n",
       "    <tr>\n",
       "      <th>2</th>\n",
       "      <td>남성</td>\n",
       "      <td>50대</td>\n",
       "      <td>54.000000</td>\n",
       "      <td>79.426000</td>\n",
       "      <td>43.476200</td>\n",
       "      <td>11.592000</td>\n",
       "      <td>166.400000</td>\n",
       "      <td>54.200000</td>\n",
       "      <td>171.000000</td>\n",
       "    </tr>\n",
       "    <tr>\n",
       "      <th>3</th>\n",
       "      <td>여성</td>\n",
       "      <td>30대</td>\n",
       "      <td>38.500000</td>\n",
       "      <td>78.925000</td>\n",
       "      <td>52.868000</td>\n",
       "      <td>10.290000</td>\n",
       "      <td>173.000000</td>\n",
       "      <td>59.000000</td>\n",
       "      <td>183.000000</td>\n",
       "    </tr>\n",
       "    <tr>\n",
       "      <th>4</th>\n",
       "      <td>여성</td>\n",
       "      <td>40대</td>\n",
       "      <td>45.875000</td>\n",
       "      <td>72.943750</td>\n",
       "      <td>50.427125</td>\n",
       "      <td>9.956250</td>\n",
       "      <td>169.000000</td>\n",
       "      <td>50.375000</td>\n",
       "      <td>172.500000</td>\n",
       "    </tr>\n",
       "    <tr>\n",
       "      <th>5</th>\n",
       "      <td>여성</td>\n",
       "      <td>50대</td>\n",
       "      <td>52.166667</td>\n",
       "      <td>70.856667</td>\n",
       "      <td>48.031833</td>\n",
       "      <td>10.005000</td>\n",
       "      <td>163.000000</td>\n",
       "      <td>50.000000</td>\n",
       "      <td>167.333333</td>\n",
       "    </tr>\n",
       "  </tbody>\n",
       "</table>\n",
       "</div>"
      ],
      "text/plain": [
       "  GENDER AGEGROUP        AGE     WEIGHT        OXY    RUNTIME    RUNPULSE  \\\n",
       "0     남성      30대  38.000000  81.080000  46.866250  10.355000  177.250000   \n",
       "1     남성      40대  45.500000  85.465000  44.410000  11.421667  173.666667   \n",
       "2     남성      50대  54.000000  79.426000  43.476200  11.592000  166.400000   \n",
       "3     여성      30대  38.500000  78.925000  52.868000  10.290000  173.000000   \n",
       "4     여성      40대  45.875000  72.943750  50.427125   9.956250  169.000000   \n",
       "5     여성      50대  52.166667  70.856667  48.031833  10.005000  163.000000   \n",
       "\n",
       "    RSTPULSE    MAXPULSE  \n",
       "0  57.000000  178.250000  \n",
       "1  56.166667  178.166667  \n",
       "2  54.200000  171.000000  \n",
       "3  59.000000  183.000000  \n",
       "4  50.375000  172.500000  \n",
       "5  50.000000  167.333333  "
      ]
     },
     "execution_count": 66,
     "metadata": {},
     "output_type": "execute_result"
    }
   ],
   "source": [
    "df.groupby(['GENDER','AGEGROUP'],as_index=False).agg('mean')"
   ]
  },
  {
   "cell_type": "code",
   "execution_count": 70,
   "metadata": {
    "scrolled": true
   },
   "outputs": [],
   "source": [
    "df_agg = df.groupby(['GENDER','AGEGROUP'],as_index=True).agg('mean')"
   ]
  },
  {
   "cell_type": "code",
   "execution_count": 78,
   "metadata": {},
   "outputs": [
    {
     "data": {
      "text/html": [
       "<div>\n",
       "<style scoped>\n",
       "    .dataframe tbody tr th:only-of-type {\n",
       "        vertical-align: middle;\n",
       "    }\n",
       "\n",
       "    .dataframe tbody tr th {\n",
       "        vertical-align: top;\n",
       "    }\n",
       "\n",
       "    .dataframe thead th {\n",
       "        text-align: right;\n",
       "    }\n",
       "</style>\n",
       "<table border=\"1\" class=\"dataframe\">\n",
       "  <thead>\n",
       "    <tr style=\"text-align: right;\">\n",
       "      <th></th>\n",
       "      <th></th>\n",
       "      <th>AGE</th>\n",
       "      <th>WEIGHT</th>\n",
       "      <th>OXY</th>\n",
       "      <th>RUNTIME</th>\n",
       "      <th>RUNPULSE</th>\n",
       "      <th>RSTPULSE</th>\n",
       "      <th>MAXPULSE</th>\n",
       "    </tr>\n",
       "    <tr>\n",
       "      <th>GENDER</th>\n",
       "      <th>AGEGROUP</th>\n",
       "      <th></th>\n",
       "      <th></th>\n",
       "      <th></th>\n",
       "      <th></th>\n",
       "      <th></th>\n",
       "      <th></th>\n",
       "      <th></th>\n",
       "    </tr>\n",
       "  </thead>\n",
       "  <tbody>\n",
       "    <tr>\n",
       "      <th rowspan=\"3\" valign=\"top\">남성</th>\n",
       "      <th>30대</th>\n",
       "      <td>38.000000</td>\n",
       "      <td>81.080000</td>\n",
       "      <td>46.866250</td>\n",
       "      <td>10.355000</td>\n",
       "      <td>177.250000</td>\n",
       "      <td>57.000000</td>\n",
       "      <td>178.250000</td>\n",
       "    </tr>\n",
       "    <tr>\n",
       "      <th>40대</th>\n",
       "      <td>45.500000</td>\n",
       "      <td>85.465000</td>\n",
       "      <td>44.410000</td>\n",
       "      <td>11.421667</td>\n",
       "      <td>173.666667</td>\n",
       "      <td>56.166667</td>\n",
       "      <td>178.166667</td>\n",
       "    </tr>\n",
       "    <tr>\n",
       "      <th>50대</th>\n",
       "      <td>54.000000</td>\n",
       "      <td>79.426000</td>\n",
       "      <td>43.476200</td>\n",
       "      <td>11.592000</td>\n",
       "      <td>166.400000</td>\n",
       "      <td>54.200000</td>\n",
       "      <td>171.000000</td>\n",
       "    </tr>\n",
       "    <tr>\n",
       "      <th rowspan=\"3\" valign=\"top\">여성</th>\n",
       "      <th>30대</th>\n",
       "      <td>38.500000</td>\n",
       "      <td>78.925000</td>\n",
       "      <td>52.868000</td>\n",
       "      <td>10.290000</td>\n",
       "      <td>173.000000</td>\n",
       "      <td>59.000000</td>\n",
       "      <td>183.000000</td>\n",
       "    </tr>\n",
       "    <tr>\n",
       "      <th>40대</th>\n",
       "      <td>45.875000</td>\n",
       "      <td>72.943750</td>\n",
       "      <td>50.427125</td>\n",
       "      <td>9.956250</td>\n",
       "      <td>169.000000</td>\n",
       "      <td>50.375000</td>\n",
       "      <td>172.500000</td>\n",
       "    </tr>\n",
       "    <tr>\n",
       "      <th>50대</th>\n",
       "      <td>52.166667</td>\n",
       "      <td>70.856667</td>\n",
       "      <td>48.031833</td>\n",
       "      <td>10.005000</td>\n",
       "      <td>163.000000</td>\n",
       "      <td>50.000000</td>\n",
       "      <td>167.333333</td>\n",
       "    </tr>\n",
       "  </tbody>\n",
       "</table>\n",
       "</div>"
      ],
      "text/plain": [
       "                       AGE     WEIGHT        OXY    RUNTIME    RUNPULSE  \\\n",
       "GENDER AGEGROUP                                                           \n",
       "남성     30대       38.000000  81.080000  46.866250  10.355000  177.250000   \n",
       "       40대       45.500000  85.465000  44.410000  11.421667  173.666667   \n",
       "       50대       54.000000  79.426000  43.476200  11.592000  166.400000   \n",
       "여성     30대       38.500000  78.925000  52.868000  10.290000  173.000000   \n",
       "       40대       45.875000  72.943750  50.427125   9.956250  169.000000   \n",
       "       50대       52.166667  70.856667  48.031833  10.005000  163.000000   \n",
       "\n",
       "                  RSTPULSE    MAXPULSE  \n",
       "GENDER AGEGROUP                         \n",
       "남성     30대       57.000000  178.250000  \n",
       "       40대       56.166667  178.166667  \n",
       "       50대       54.200000  171.000000  \n",
       "여성     30대       59.000000  183.000000  \n",
       "       40대       50.375000  172.500000  \n",
       "       50대       50.000000  167.333333  "
      ]
     },
     "execution_count": 78,
     "metadata": {},
     "output_type": "execute_result"
    }
   ],
   "source": [
    "df_agg"
   ]
  },
  {
   "cell_type": "code",
   "execution_count": 79,
   "metadata": {
    "collapsed": true
   },
   "outputs": [
    {
     "ename": "KeyError",
     "evalue": "'GENDER'",
     "output_type": "error",
     "traceback": [
      "\u001b[1;31m---------------------------------------------------------------------------\u001b[0m",
      "\u001b[1;31mKeyError\u001b[0m                                  Traceback (most recent call last)",
      "\u001b[1;32m~\\anaconda3\\lib\\site-packages\\pandas\\core\\indexes\\base.py\u001b[0m in \u001b[0;36mget_loc\u001b[1;34m(self, key, method, tolerance)\u001b[0m\n\u001b[0;32m   2645\u001b[0m             \u001b[1;32mtry\u001b[0m\u001b[1;33m:\u001b[0m\u001b[1;33m\u001b[0m\u001b[1;33m\u001b[0m\u001b[0m\n\u001b[1;32m-> 2646\u001b[1;33m                 \u001b[1;32mreturn\u001b[0m \u001b[0mself\u001b[0m\u001b[1;33m.\u001b[0m\u001b[0m_engine\u001b[0m\u001b[1;33m.\u001b[0m\u001b[0mget_loc\u001b[0m\u001b[1;33m(\u001b[0m\u001b[0mkey\u001b[0m\u001b[1;33m)\u001b[0m\u001b[1;33m\u001b[0m\u001b[1;33m\u001b[0m\u001b[0m\n\u001b[0m\u001b[0;32m   2647\u001b[0m             \u001b[1;32mexcept\u001b[0m \u001b[0mKeyError\u001b[0m\u001b[1;33m:\u001b[0m\u001b[1;33m\u001b[0m\u001b[1;33m\u001b[0m\u001b[0m\n",
      "\u001b[1;32mpandas\\_libs\\index.pyx\u001b[0m in \u001b[0;36mpandas._libs.index.IndexEngine.get_loc\u001b[1;34m()\u001b[0m\n",
      "\u001b[1;32mpandas\\_libs\\index.pyx\u001b[0m in \u001b[0;36mpandas._libs.index.IndexEngine.get_loc\u001b[1;34m()\u001b[0m\n",
      "\u001b[1;32mpandas\\_libs\\hashtable_class_helper.pxi\u001b[0m in \u001b[0;36mpandas._libs.hashtable.PyObjectHashTable.get_item\u001b[1;34m()\u001b[0m\n",
      "\u001b[1;32mpandas\\_libs\\hashtable_class_helper.pxi\u001b[0m in \u001b[0;36mpandas._libs.hashtable.PyObjectHashTable.get_item\u001b[1;34m()\u001b[0m\n",
      "\u001b[1;31mKeyError\u001b[0m: 'GENDER'",
      "\nDuring handling of the above exception, another exception occurred:\n",
      "\u001b[1;31mKeyError\u001b[0m                                  Traceback (most recent call last)",
      "\u001b[1;32m<ipython-input-79-32f378235a62>\u001b[0m in \u001b[0;36m<module>\u001b[1;34m\u001b[0m\n\u001b[1;32m----> 1\u001b[1;33m \u001b[0mdf_agg\u001b[0m\u001b[1;33m.\u001b[0m\u001b[0mpivot\u001b[0m\u001b[1;33m(\u001b[0m\u001b[0mindex\u001b[0m \u001b[1;33m=\u001b[0m \u001b[1;34m'GENDER'\u001b[0m\u001b[1;33m,\u001b[0m\u001b[0mcolumns\u001b[0m\u001b[1;33m=\u001b[0m\u001b[1;34m'AGEGROUP'\u001b[0m\u001b[1;33m,\u001b[0m\u001b[0mvalues\u001b[0m\u001b[1;33m=\u001b[0m\u001b[1;34m'OXY'\u001b[0m\u001b[1;33m)\u001b[0m\u001b[1;33m\u001b[0m\u001b[1;33m\u001b[0m\u001b[0m\n\u001b[0m",
      "\u001b[1;32m~\\anaconda3\\lib\\site-packages\\pandas\\core\\frame.py\u001b[0m in \u001b[0;36mpivot\u001b[1;34m(self, index, columns, values)\u001b[0m\n\u001b[0;32m   5921\u001b[0m         \u001b[1;32mfrom\u001b[0m \u001b[0mpandas\u001b[0m\u001b[1;33m.\u001b[0m\u001b[0mcore\u001b[0m\u001b[1;33m.\u001b[0m\u001b[0mreshape\u001b[0m\u001b[1;33m.\u001b[0m\u001b[0mpivot\u001b[0m \u001b[1;32mimport\u001b[0m \u001b[0mpivot\u001b[0m\u001b[1;33m\u001b[0m\u001b[1;33m\u001b[0m\u001b[0m\n\u001b[0;32m   5922\u001b[0m \u001b[1;33m\u001b[0m\u001b[0m\n\u001b[1;32m-> 5923\u001b[1;33m         \u001b[1;32mreturn\u001b[0m \u001b[0mpivot\u001b[0m\u001b[1;33m(\u001b[0m\u001b[0mself\u001b[0m\u001b[1;33m,\u001b[0m \u001b[0mindex\u001b[0m\u001b[1;33m=\u001b[0m\u001b[0mindex\u001b[0m\u001b[1;33m,\u001b[0m \u001b[0mcolumns\u001b[0m\u001b[1;33m=\u001b[0m\u001b[0mcolumns\u001b[0m\u001b[1;33m,\u001b[0m \u001b[0mvalues\u001b[0m\u001b[1;33m=\u001b[0m\u001b[0mvalues\u001b[0m\u001b[1;33m)\u001b[0m\u001b[1;33m\u001b[0m\u001b[1;33m\u001b[0m\u001b[0m\n\u001b[0m\u001b[0;32m   5924\u001b[0m \u001b[1;33m\u001b[0m\u001b[0m\n\u001b[0;32m   5925\u001b[0m     _shared_docs[\n",
      "\u001b[1;32m~\\anaconda3\\lib\\site-packages\\pandas\\core\\reshape\\pivot.py\u001b[0m in \u001b[0;36mpivot\u001b[1;34m(data, index, columns, values)\u001b[0m\n\u001b[0;32m    436\u001b[0m             \u001b[0mindex\u001b[0m \u001b[1;33m=\u001b[0m \u001b[0mdata\u001b[0m\u001b[1;33m.\u001b[0m\u001b[0mindex\u001b[0m\u001b[1;33m\u001b[0m\u001b[1;33m\u001b[0m\u001b[0m\n\u001b[0;32m    437\u001b[0m         \u001b[1;32melse\u001b[0m\u001b[1;33m:\u001b[0m\u001b[1;33m\u001b[0m\u001b[1;33m\u001b[0m\u001b[0m\n\u001b[1;32m--> 438\u001b[1;33m             \u001b[0mindex\u001b[0m \u001b[1;33m=\u001b[0m \u001b[0mdata\u001b[0m\u001b[1;33m[\u001b[0m\u001b[0mindex\u001b[0m\u001b[1;33m]\u001b[0m\u001b[1;33m\u001b[0m\u001b[1;33m\u001b[0m\u001b[0m\n\u001b[0m\u001b[0;32m    439\u001b[0m         \u001b[0mindex\u001b[0m \u001b[1;33m=\u001b[0m \u001b[0mMultiIndex\u001b[0m\u001b[1;33m.\u001b[0m\u001b[0mfrom_arrays\u001b[0m\u001b[1;33m(\u001b[0m\u001b[1;33m[\u001b[0m\u001b[0mindex\u001b[0m\u001b[1;33m,\u001b[0m \u001b[0mdata\u001b[0m\u001b[1;33m[\u001b[0m\u001b[0mcolumns\u001b[0m\u001b[1;33m]\u001b[0m\u001b[1;33m]\u001b[0m\u001b[1;33m)\u001b[0m\u001b[1;33m\u001b[0m\u001b[1;33m\u001b[0m\u001b[0m\n\u001b[0;32m    440\u001b[0m \u001b[1;33m\u001b[0m\u001b[0m\n",
      "\u001b[1;32m~\\anaconda3\\lib\\site-packages\\pandas\\core\\frame.py\u001b[0m in \u001b[0;36m__getitem__\u001b[1;34m(self, key)\u001b[0m\n\u001b[0;32m   2798\u001b[0m             \u001b[1;32mif\u001b[0m \u001b[0mself\u001b[0m\u001b[1;33m.\u001b[0m\u001b[0mcolumns\u001b[0m\u001b[1;33m.\u001b[0m\u001b[0mnlevels\u001b[0m \u001b[1;33m>\u001b[0m \u001b[1;36m1\u001b[0m\u001b[1;33m:\u001b[0m\u001b[1;33m\u001b[0m\u001b[1;33m\u001b[0m\u001b[0m\n\u001b[0;32m   2799\u001b[0m                 \u001b[1;32mreturn\u001b[0m \u001b[0mself\u001b[0m\u001b[1;33m.\u001b[0m\u001b[0m_getitem_multilevel\u001b[0m\u001b[1;33m(\u001b[0m\u001b[0mkey\u001b[0m\u001b[1;33m)\u001b[0m\u001b[1;33m\u001b[0m\u001b[1;33m\u001b[0m\u001b[0m\n\u001b[1;32m-> 2800\u001b[1;33m             \u001b[0mindexer\u001b[0m \u001b[1;33m=\u001b[0m \u001b[0mself\u001b[0m\u001b[1;33m.\u001b[0m\u001b[0mcolumns\u001b[0m\u001b[1;33m.\u001b[0m\u001b[0mget_loc\u001b[0m\u001b[1;33m(\u001b[0m\u001b[0mkey\u001b[0m\u001b[1;33m)\u001b[0m\u001b[1;33m\u001b[0m\u001b[1;33m\u001b[0m\u001b[0m\n\u001b[0m\u001b[0;32m   2801\u001b[0m             \u001b[1;32mif\u001b[0m \u001b[0mis_integer\u001b[0m\u001b[1;33m(\u001b[0m\u001b[0mindexer\u001b[0m\u001b[1;33m)\u001b[0m\u001b[1;33m:\u001b[0m\u001b[1;33m\u001b[0m\u001b[1;33m\u001b[0m\u001b[0m\n\u001b[0;32m   2802\u001b[0m                 \u001b[0mindexer\u001b[0m \u001b[1;33m=\u001b[0m \u001b[1;33m[\u001b[0m\u001b[0mindexer\u001b[0m\u001b[1;33m]\u001b[0m\u001b[1;33m\u001b[0m\u001b[1;33m\u001b[0m\u001b[0m\n",
      "\u001b[1;32m~\\anaconda3\\lib\\site-packages\\pandas\\core\\indexes\\base.py\u001b[0m in \u001b[0;36mget_loc\u001b[1;34m(self, key, method, tolerance)\u001b[0m\n\u001b[0;32m   2646\u001b[0m                 \u001b[1;32mreturn\u001b[0m \u001b[0mself\u001b[0m\u001b[1;33m.\u001b[0m\u001b[0m_engine\u001b[0m\u001b[1;33m.\u001b[0m\u001b[0mget_loc\u001b[0m\u001b[1;33m(\u001b[0m\u001b[0mkey\u001b[0m\u001b[1;33m)\u001b[0m\u001b[1;33m\u001b[0m\u001b[1;33m\u001b[0m\u001b[0m\n\u001b[0;32m   2647\u001b[0m             \u001b[1;32mexcept\u001b[0m \u001b[0mKeyError\u001b[0m\u001b[1;33m:\u001b[0m\u001b[1;33m\u001b[0m\u001b[1;33m\u001b[0m\u001b[0m\n\u001b[1;32m-> 2648\u001b[1;33m                 \u001b[1;32mreturn\u001b[0m \u001b[0mself\u001b[0m\u001b[1;33m.\u001b[0m\u001b[0m_engine\u001b[0m\u001b[1;33m.\u001b[0m\u001b[0mget_loc\u001b[0m\u001b[1;33m(\u001b[0m\u001b[0mself\u001b[0m\u001b[1;33m.\u001b[0m\u001b[0m_maybe_cast_indexer\u001b[0m\u001b[1;33m(\u001b[0m\u001b[0mkey\u001b[0m\u001b[1;33m)\u001b[0m\u001b[1;33m)\u001b[0m\u001b[1;33m\u001b[0m\u001b[1;33m\u001b[0m\u001b[0m\n\u001b[0m\u001b[0;32m   2649\u001b[0m         \u001b[0mindexer\u001b[0m \u001b[1;33m=\u001b[0m \u001b[0mself\u001b[0m\u001b[1;33m.\u001b[0m\u001b[0mget_indexer\u001b[0m\u001b[1;33m(\u001b[0m\u001b[1;33m[\u001b[0m\u001b[0mkey\u001b[0m\u001b[1;33m]\u001b[0m\u001b[1;33m,\u001b[0m \u001b[0mmethod\u001b[0m\u001b[1;33m=\u001b[0m\u001b[0mmethod\u001b[0m\u001b[1;33m,\u001b[0m \u001b[0mtolerance\u001b[0m\u001b[1;33m=\u001b[0m\u001b[0mtolerance\u001b[0m\u001b[1;33m)\u001b[0m\u001b[1;33m\u001b[0m\u001b[1;33m\u001b[0m\u001b[0m\n\u001b[0;32m   2650\u001b[0m         \u001b[1;32mif\u001b[0m \u001b[0mindexer\u001b[0m\u001b[1;33m.\u001b[0m\u001b[0mndim\u001b[0m \u001b[1;33m>\u001b[0m \u001b[1;36m1\u001b[0m \u001b[1;32mor\u001b[0m \u001b[0mindexer\u001b[0m\u001b[1;33m.\u001b[0m\u001b[0msize\u001b[0m \u001b[1;33m>\u001b[0m \u001b[1;36m1\u001b[0m\u001b[1;33m:\u001b[0m\u001b[1;33m\u001b[0m\u001b[1;33m\u001b[0m\u001b[0m\n",
      "\u001b[1;32mpandas\\_libs\\index.pyx\u001b[0m in \u001b[0;36mpandas._libs.index.IndexEngine.get_loc\u001b[1;34m()\u001b[0m\n",
      "\u001b[1;32mpandas\\_libs\\index.pyx\u001b[0m in \u001b[0;36mpandas._libs.index.IndexEngine.get_loc\u001b[1;34m()\u001b[0m\n",
      "\u001b[1;32mpandas\\_libs\\hashtable_class_helper.pxi\u001b[0m in \u001b[0;36mpandas._libs.hashtable.PyObjectHashTable.get_item\u001b[1;34m()\u001b[0m\n",
      "\u001b[1;32mpandas\\_libs\\hashtable_class_helper.pxi\u001b[0m in \u001b[0;36mpandas._libs.hashtable.PyObjectHashTable.get_item\u001b[1;34m()\u001b[0m\n",
      "\u001b[1;31mKeyError\u001b[0m: 'GENDER'"
     ]
    }
   ],
   "source": [
    "df_agg.pivot(index = 'GENDER',columns='AGEGROUP',values='OXY')"
   ]
  },
  {
   "cell_type": "code",
   "execution_count": 82,
   "metadata": {},
   "outputs": [
    {
     "data": {
      "text/plain": [
       "<matplotlib.axes._subplots.AxesSubplot at 0x25ee2f0b508>"
      ]
     },
     "execution_count": 82,
     "metadata": {},
     "output_type": "execute_result"
    },
    {
     "data": {
      "image/png": "[encoded data removed]",
      "text/plain": [
       "<Figure size 432x288 with 1 Axes>"
      ]
     },
     "metadata": {
      "needs_background": "light"
     },
     "output_type": "display_data"
    }
   ],
   "source": [
    "sns.kdeplot(df['RUNTIME'],df['OXY'], shade = True)"
   ]
  },
  {
   "cell_type": "code",
   "execution_count": 84,
   "metadata": {},
   "outputs": [
    {
     "data": {
      "text/plain": [
       "<matplotlib.axes._subplots.AxesSubplot at 0x25ee2f84b48>"
      ]
     },
     "execution_count": 84,
     "metadata": {},
     "output_type": "execute_result"
    },
    {
     "data": {
      "image/png": "[encoded data removed]",
      "text/plain": [
       "<Figure size 432x288 with 1 Axes>"
      ]
     },
     "metadata": {
      "needs_background": "light"
     },
     "output_type": "display_data"
    }
   ],
   "source": [
    "pd.plotting.parallel_coordinates(df,'GENDER',cols=['OXY','WEIGHT','RSTPULSE'], colormap='Accent')"
   ]
  },
  {
   "cell_type": "code",
   "execution_count": 86,
   "metadata": {
    "scrolled": true
   },
   "outputs": [
    {
     "name": "stdout",
     "output_type": "stream",
     "text": [
      "Collecting mlxtend\n",
      "  Downloading mlxtend-0.17.3-py2.py3-none-any.whl (1.3 MB)\n",
      "Requirement already satisfied: numpy>=1.16.2 in c:\\users\\moon\\anaconda3\\lib\\site-packages (from mlxtend) (1.18.1)\n",
      "Requirement already satisfied: scipy>=1.2.1 in c:\\users\\moon\\anaconda3\\lib\\site-packages (from mlxtend) (1.4.1)\n",
      "Requirement already satisfied: matplotlib>=3.0.0 in c:\\users\\moon\\anaconda3\\lib\\site-packages (from mlxtend) (3.1.3)\n",
      "Requirement already satisfied: setuptools in c:\\users\\moon\\anaconda3\\lib\\site-packages (from mlxtend) (45.2.0.post20200210)\n",
      "Requirement already satisfied: scikit-learn>=0.20.3 in c:\\users\\moon\\anaconda3\\lib\\site-packages (from mlxtend) (0.22.1)\n",
      "Requirement already satisfied: pandas>=0.24.2 in c:\\users\\moon\\anaconda3\\lib\\site-packages (from mlxtend) (1.0.1)\n",
      "Requirement already satisfied: joblib>=0.13.2 in c:\\users\\moon\\anaconda3\\lib\\site-packages (from mlxtend) (0.14.1)\n",
      "Requirement already satisfied: kiwisolver>=1.0.1 in c:\\users\\moon\\anaconda3\\lib\\site-packages (from matplotlib>=3.0.0->mlxtend) (1.1.0)\n",
      "Requirement already satisfied: pyparsing!=2.0.4,!=2.1.2,!=2.1.6,>=2.0.1 in c:\\users\\moon\\anaconda3\\lib\\site-packages (from matplotlib>=3.0.0->mlxtend) (2.4.6)\n",
      "Requirement already satisfied: python-dateutil>=2.1 in c:\\users\\moon\\anaconda3\\lib\\site-packages (from matplotlib>=3.0.0->mlxtend) (2.8.1)\n",
      "Requirement already satisfied: cycler>=0.10 in c:\\users\\moon\\anaconda3\\lib\\site-packages (from matplotlib>=3.0.0->mlxtend) (0.10.0)\n",
      "Requirement already satisfied: pytz>=2017.2 in c:\\users\\moon\\anaconda3\\lib\\site-packages (from pandas>=0.24.2->mlxtend) (2019.3)\n",
      "Requirement already satisfied: six>=1.5 in c:\\users\\moon\\anaconda3\\lib\\site-packages (from python-dateutil>=2.1->matplotlib>=3.0.0->mlxtend) (1.14.0)\n",
      "Installing collected packages: mlxtend\n",
      "Successfully installed mlxtend-0.17.3\n"
     ]
    }
   ],
   "source": [
    "# !pip install mlxtend"
   ]
  },
  {
   "cell_type": "code",
   "execution_count": 89,
   "metadata": {},
   "outputs": [],
   "source": [
    "# 장바구니 분석 apriori, 순차분석\n",
    "\n",
    "from mlxtend.preprocessing import TransactionEncoder\n",
    "from mlxtend.frequent_patterns import apriori, association_rules"
   ]
  },
  {
   "cell_type": "code",
   "execution_count": 90,
   "metadata": {},
   "outputs": [
    {
     "data": {
      "text/plain": [
       "[['소주', '콜라', '맥주'],\n",
       " ['소주', '콜라', '와인'],\n",
       " ['소주', '주스'],\n",
       " ['콜라', '맥주'],\n",
       " ['소주', '콜라', '맥주', '와인'],\n",
       " ['주스']]"
      ]
     },
     "execution_count": 90,
     "metadata": {},
     "output_type": "execute_result"
    }
   ],
   "source": [
    "df_raw = [['소주','콜라','맥주'],\n",
    "         ['소주','콜라','와인'],\n",
    "         ['소주','주스'],\n",
    "         ['콜라','맥주'],\n",
    "         ['소주','콜라','맥주','와인'],\n",
    "         ['주스']]\n",
    "df_raw"
   ]
  },
  {
   "cell_type": "code",
   "execution_count": 91,
   "metadata": {},
   "outputs": [
    {
     "data": {
      "text/html": [
       "<div>\n",
       "<style scoped>\n",
       "    .dataframe tbody tr th:only-of-type {\n",
       "        vertical-align: middle;\n",
       "    }\n",
       "\n",
       "    .dataframe tbody tr th {\n",
       "        vertical-align: top;\n",
       "    }\n",
       "\n",
       "    .dataframe thead th {\n",
       "        text-align: right;\n",
       "    }\n",
       "</style>\n",
       "<table border=\"1\" class=\"dataframe\">\n",
       "  <thead>\n",
       "    <tr style=\"text-align: right;\">\n",
       "      <th></th>\n",
       "      <th>맥주</th>\n",
       "      <th>소주</th>\n",
       "      <th>와인</th>\n",
       "      <th>주스</th>\n",
       "      <th>콜라</th>\n",
       "    </tr>\n",
       "  </thead>\n",
       "  <tbody>\n",
       "    <tr>\n",
       "      <th>0</th>\n",
       "      <td>True</td>\n",
       "      <td>True</td>\n",
       "      <td>False</td>\n",
       "      <td>False</td>\n",
       "      <td>True</td>\n",
       "    </tr>\n",
       "    <tr>\n",
       "      <th>1</th>\n",
       "      <td>False</td>\n",
       "      <td>True</td>\n",
       "      <td>True</td>\n",
       "      <td>False</td>\n",
       "      <td>True</td>\n",
       "    </tr>\n",
       "    <tr>\n",
       "      <th>2</th>\n",
       "      <td>False</td>\n",
       "      <td>True</td>\n",
       "      <td>False</td>\n",
       "      <td>True</td>\n",
       "      <td>False</td>\n",
       "    </tr>\n",
       "    <tr>\n",
       "      <th>3</th>\n",
       "      <td>True</td>\n",
       "      <td>False</td>\n",
       "      <td>False</td>\n",
       "      <td>False</td>\n",
       "      <td>True</td>\n",
       "    </tr>\n",
       "    <tr>\n",
       "      <th>4</th>\n",
       "      <td>True</td>\n",
       "      <td>True</td>\n",
       "      <td>True</td>\n",
       "      <td>False</td>\n",
       "      <td>True</td>\n",
       "    </tr>\n",
       "  </tbody>\n",
       "</table>\n",
       "</div>"
      ],
      "text/plain": [
       "      맥주     소주     와인     주스     콜라\n",
       "0   True   True  False  False   True\n",
       "1  False   True   True  False   True\n",
       "2  False   True  False   True  False\n",
       "3   True  False  False  False   True\n",
       "4   True   True   True  False   True"
      ]
     },
     "execution_count": 91,
     "metadata": {},
     "output_type": "execute_result"
    }
   ],
   "source": [
    "# 위 df에서 인덱스 0번이 가지고 있으면 트루, 아니면 폴스\n",
    "enc = TransactionEncoder()\n",
    "df_raw_enc = enc.fit_transform(X = df_raw)\n",
    "# 행렬 형태로 반환\n",
    "df_asso = pd.DataFrame(df_raw_enc, columns = enc.columns_)\n",
    "df_asso.head()"
   ]
  },
  {
   "cell_type": "code",
   "execution_count": 92,
   "metadata": {},
   "outputs": [
    {
     "data": {
      "text/html": [
       "<div>\n",
       "<style scoped>\n",
       "    .dataframe tbody tr th:only-of-type {\n",
       "        vertical-align: middle;\n",
       "    }\n",
       "\n",
       "    .dataframe tbody tr th {\n",
       "        vertical-align: top;\n",
       "    }\n",
       "\n",
       "    .dataframe thead th {\n",
       "        text-align: right;\n",
       "    }\n",
       "</style>\n",
       "<table border=\"1\" class=\"dataframe\">\n",
       "  <thead>\n",
       "    <tr style=\"text-align: right;\">\n",
       "      <th></th>\n",
       "      <th>support</th>\n",
       "      <th>itemsets</th>\n",
       "    </tr>\n",
       "  </thead>\n",
       "  <tbody>\n",
       "    <tr>\n",
       "      <th>0</th>\n",
       "      <td>0.500</td>\n",
       "      <td>(맥주)</td>\n",
       "    </tr>\n",
       "    <tr>\n",
       "      <th>1</th>\n",
       "      <td>0.667</td>\n",
       "      <td>(소주)</td>\n",
       "    </tr>\n",
       "    <tr>\n",
       "      <th>2</th>\n",
       "      <td>0.667</td>\n",
       "      <td>(콜라)</td>\n",
       "    </tr>\n",
       "    <tr>\n",
       "      <th>3</th>\n",
       "      <td>0.500</td>\n",
       "      <td>(맥주, 콜라)</td>\n",
       "    </tr>\n",
       "    <tr>\n",
       "      <th>4</th>\n",
       "      <td>0.500</td>\n",
       "      <td>(소주, 콜라)</td>\n",
       "    </tr>\n",
       "  </tbody>\n",
       "</table>\n",
       "</div>"
      ],
      "text/plain": [
       "   support  itemsets\n",
       "0    0.500      (맥주)\n",
       "1    0.667      (소주)\n",
       "2    0.667      (콜라)\n",
       "3    0.500  (맥주, 콜라)\n",
       "4    0.500  (소주, 콜라)"
      ]
     },
     "execution_count": 92,
     "metadata": {},
     "output_type": "execute_result"
    }
   ],
   "source": [
    "# 최소 지지도\n",
    "v_min_sup = 0.5\n",
    "# 지지도 계산\n",
    "df_freq= apriori(df_asso, min_support = v_min_sup, use_colnames = True)\n",
    "df_freq.round(3)"
   ]
  },
  {
   "cell_type": "code",
   "execution_count": 93,
   "metadata": {},
   "outputs": [
    {
     "data": {
      "text/html": [
       "<div>\n",
       "<style scoped>\n",
       "    .dataframe tbody tr th:only-of-type {\n",
       "        vertical-align: middle;\n",
       "    }\n",
       "\n",
       "    .dataframe tbody tr th {\n",
       "        vertical-align: top;\n",
       "    }\n",
       "\n",
       "    .dataframe thead th {\n",
       "        text-align: right;\n",
       "    }\n",
       "</style>\n",
       "<table border=\"1\" class=\"dataframe\">\n",
       "  <thead>\n",
       "    <tr style=\"text-align: right;\">\n",
       "      <th></th>\n",
       "      <th>antecedents</th>\n",
       "      <th>consequents</th>\n",
       "      <th>antecedent support</th>\n",
       "      <th>consequent support</th>\n",
       "      <th>support</th>\n",
       "      <th>confidence</th>\n",
       "      <th>lift</th>\n",
       "      <th>leverage</th>\n",
       "      <th>conviction</th>\n",
       "    </tr>\n",
       "  </thead>\n",
       "  <tbody>\n",
       "    <tr>\n",
       "      <th>0</th>\n",
       "      <td>(맥주)</td>\n",
       "      <td>(콜라)</td>\n",
       "      <td>0.500</td>\n",
       "      <td>0.667</td>\n",
       "      <td>0.5</td>\n",
       "      <td>1.00</td>\n",
       "      <td>1.500</td>\n",
       "      <td>0.167</td>\n",
       "      <td>inf</td>\n",
       "    </tr>\n",
       "    <tr>\n",
       "      <th>1</th>\n",
       "      <td>(콜라)</td>\n",
       "      <td>(맥주)</td>\n",
       "      <td>0.667</td>\n",
       "      <td>0.500</td>\n",
       "      <td>0.5</td>\n",
       "      <td>0.75</td>\n",
       "      <td>1.500</td>\n",
       "      <td>0.167</td>\n",
       "      <td>2.000</td>\n",
       "    </tr>\n",
       "    <tr>\n",
       "      <th>2</th>\n",
       "      <td>(소주)</td>\n",
       "      <td>(콜라)</td>\n",
       "      <td>0.667</td>\n",
       "      <td>0.667</td>\n",
       "      <td>0.5</td>\n",
       "      <td>0.75</td>\n",
       "      <td>1.125</td>\n",
       "      <td>0.056</td>\n",
       "      <td>1.333</td>\n",
       "    </tr>\n",
       "    <tr>\n",
       "      <th>3</th>\n",
       "      <td>(콜라)</td>\n",
       "      <td>(소주)</td>\n",
       "      <td>0.667</td>\n",
       "      <td>0.667</td>\n",
       "      <td>0.5</td>\n",
       "      <td>0.75</td>\n",
       "      <td>1.125</td>\n",
       "      <td>0.056</td>\n",
       "      <td>1.333</td>\n",
       "    </tr>\n",
       "  </tbody>\n",
       "</table>\n",
       "</div>"
      ],
      "text/plain": [
       "  antecedents consequents  antecedent support  consequent support  support  \\\n",
       "0        (맥주)        (콜라)               0.500               0.667      0.5   \n",
       "1        (콜라)        (맥주)               0.667               0.500      0.5   \n",
       "2        (소주)        (콜라)               0.667               0.667      0.5   \n",
       "3        (콜라)        (소주)               0.667               0.667      0.5   \n",
       "\n",
       "   confidence   lift  leverage  conviction  \n",
       "0        1.00  1.500     0.167         inf  \n",
       "1        0.75  1.500     0.167       2.000  \n",
       "2        0.75  1.125     0.056       1.333  \n",
       "3        0.75  1.125     0.056       1.333  "
      ]
     },
     "execution_count": 93,
     "metadata": {},
     "output_type": "execute_result"
    }
   ],
   "source": [
    "# 기준=신뢰도, 최소 신뢰도 = 0.5\n",
    "df_asso_rule = association_rules(df_freq, metric='confidence', min_threshold = 0.5)\n",
    "df_asso_rule.round(3)"
   ]
  },
  {
   "cell_type": "markdown",
   "metadata": {},
   "source": []
  },
  {
   "cell_type": "code",
   "execution_count": 95,
   "metadata": {},
   "outputs": [],
   "source": [
    "dept = pd.read_csv(path + 'HMEQ.csv', encoding='CP949')"
   ]
  },
  {
   "cell_type": "code",
   "execution_count": 97,
   "metadata": {},
   "outputs": [],
   "source": [
    "# 생략"
   ]
  },
  {
   "cell_type": "code",
   "execution_count": 99,
   "metadata": {},
   "outputs": [],
   "source": [
    "# fpr, tpr, thresholds = roc_curve(df_test_y, y_pred)\n",
    "# roc_auc = auc(fpr, tpr)"
   ]
  },
  {
   "cell_type": "code",
   "execution_count": 101,
   "metadata": {},
   "outputs": [],
   "source": [
    "# model_auc.append(roc_auc)"
   ]
  },
  {
   "cell_type": "code",
   "execution_count": 102,
   "metadata": {},
   "outputs": [],
   "source": [
    "# model_f1_score.append(f1_score(df_test_y, y_pred))"
   ]
  },
  {
   "cell_type": "code",
   "execution_count": 104,
   "metadata": {},
   "outputs": [],
   "source": [
    "# 평가함수 rmse\n",
    "from sklearn.metrics import mean_squared_error\n",
    "from sklearn.metrics import mean_absolute_error\n",
    "\n",
    "def root_mean_squared_error(y_true, y_pred): # RMSE\n",
    "    return np.sqrt(mean_squared_error(y_true, y_pred))\n",
    "\n",
    "def mean_absolute_percentage_error(y_true, y_pred): # MAPE-mse, rmse의 단점(스케일에 영향)을 보완\n",
    "    return np.mean(np.abs((y_true - y_pred)/y_true)) *100"
   ]
  },
  {
   "cell_type": "code",
   "execution_count": 106,
   "metadata": {},
   "outputs": [],
   "source": [
    "# PCA\n",
    "# 스케일 차이 큼 -> 상관계수 행렬/ 스케일 유사 -> 공분산 행렬\n",
    "# 개수 결정/ 상관계수 행렬 사용시 고유값 > 1인 값/ 공분산 행렬시 고유값 누적비율 > 80%\n",
    "from sklearn.decomposition import PCA\n",
    "import statsmodels.api as sm"
   ]
  },
  {
   "cell_type": "code",
   "execution_count": 108,
   "metadata": {},
   "outputs": [
    {
     "data": {
      "text/plain": [
       "0    43\n",
       "1    63\n",
       "2    71\n",
       "3    61\n",
       "4    81\n",
       "Name: EVAL, dtype: int64"
      ]
     },
     "execution_count": 108,
     "metadata": {},
     "output_type": "execute_result"
    }
   ],
   "source": [
    "df_raw = pd.read_csv(path+'직무능력평가.csv', encoding = 'CP949')\n",
    "\n",
    "df_raw_x = df_raw.drop('EVAL',axis=1)\n",
    "df_raw_y = df_raw['EVAL']\n",
    "df_raw_y.head()"
   ]
  },
  {
   "cell_type": "code",
   "execution_count": 111,
   "metadata": {},
   "outputs": [
    {
     "data": {
      "text/html": [
       "<div>\n",
       "<style scoped>\n",
       "    .dataframe tbody tr th:only-of-type {\n",
       "        vertical-align: middle;\n",
       "    }\n",
       "\n",
       "    .dataframe tbody tr th {\n",
       "        vertical-align: top;\n",
       "    }\n",
       "\n",
       "    .dataframe thead th {\n",
       "        text-align: right;\n",
       "    }\n",
       "</style>\n",
       "<table border=\"1\" class=\"dataframe\">\n",
       "  <thead>\n",
       "    <tr style=\"text-align: right;\">\n",
       "      <th></th>\n",
       "      <th>DISSATIS</th>\n",
       "      <th>PRIVILEGE</th>\n",
       "      <th>CHANCE</th>\n",
       "      <th>ADVANCE</th>\n",
       "      <th>CRITISM</th>\n",
       "      <th>PROMOTION</th>\n",
       "    </tr>\n",
       "  </thead>\n",
       "  <tbody>\n",
       "    <tr>\n",
       "      <th>0</th>\n",
       "      <td>51</td>\n",
       "      <td>30</td>\n",
       "      <td>39</td>\n",
       "      <td>61</td>\n",
       "      <td>92</td>\n",
       "      <td>45</td>\n",
       "    </tr>\n",
       "    <tr>\n",
       "      <th>1</th>\n",
       "      <td>64</td>\n",
       "      <td>51</td>\n",
       "      <td>54</td>\n",
       "      <td>63</td>\n",
       "      <td>73</td>\n",
       "      <td>47</td>\n",
       "    </tr>\n",
       "    <tr>\n",
       "      <th>2</th>\n",
       "      <td>70</td>\n",
       "      <td>68</td>\n",
       "      <td>69</td>\n",
       "      <td>76</td>\n",
       "      <td>86</td>\n",
       "      <td>48</td>\n",
       "    </tr>\n",
       "    <tr>\n",
       "      <th>3</th>\n",
       "      <td>63</td>\n",
       "      <td>45</td>\n",
       "      <td>47</td>\n",
       "      <td>54</td>\n",
       "      <td>84</td>\n",
       "      <td>35</td>\n",
       "    </tr>\n",
       "    <tr>\n",
       "      <th>4</th>\n",
       "      <td>78</td>\n",
       "      <td>56</td>\n",
       "      <td>66</td>\n",
       "      <td>71</td>\n",
       "      <td>83</td>\n",
       "      <td>47</td>\n",
       "    </tr>\n",
       "  </tbody>\n",
       "</table>\n",
       "</div>"
      ],
      "text/plain": [
       "   DISSATIS  PRIVILEGE  CHANCE  ADVANCE  CRITISM  PROMOTION\n",
       "0        51         30      39       61       92         45\n",
       "1        64         51      54       63       73         47\n",
       "2        70         68      69       76       86         48\n",
       "3        63         45      47       54       84         35\n",
       "4        78         56      66       71       83         47"
      ]
     },
     "execution_count": 111,
     "metadata": {},
     "output_type": "execute_result"
    }
   ],
   "source": [
    "df_raw_x.head()"
   ]
  },
  {
   "cell_type": "code",
   "execution_count": 112,
   "metadata": {},
   "outputs": [],
   "source": [
    "x_cols = df_raw_x.columns"
   ]
  },
  {
   "cell_type": "code",
   "execution_count": 115,
   "metadata": {},
   "outputs": [],
   "source": [
    "scaler = StandardScaler()\n",
    "nd_scaled = scaler.fit_transform(df_raw_x)"
   ]
  },
  {
   "cell_type": "code",
   "execution_count": 117,
   "metadata": {},
   "outputs": [
    {
     "data": {
      "text/html": [
       "<div>\n",
       "<style scoped>\n",
       "    .dataframe tbody tr th:only-of-type {\n",
       "        vertical-align: middle;\n",
       "    }\n",
       "\n",
       "    .dataframe tbody tr th {\n",
       "        vertical-align: top;\n",
       "    }\n",
       "\n",
       "    .dataframe thead th {\n",
       "        text-align: right;\n",
       "    }\n",
       "</style>\n",
       "<table border=\"1\" class=\"dataframe\">\n",
       "  <thead>\n",
       "    <tr style=\"text-align: right;\">\n",
       "      <th></th>\n",
       "      <th>DISSATIS</th>\n",
       "      <th>PRIVILEGE</th>\n",
       "      <th>CHANCE</th>\n",
       "      <th>ADVANCE</th>\n",
       "      <th>CRITISM</th>\n",
       "      <th>PROMOTION</th>\n",
       "    </tr>\n",
       "  </thead>\n",
       "  <tbody>\n",
       "    <tr>\n",
       "      <th>0</th>\n",
       "      <td>-1.192</td>\n",
       "      <td>-1.923</td>\n",
       "      <td>-1.505</td>\n",
       "      <td>-0.355</td>\n",
       "      <td>1.771</td>\n",
       "      <td>0.204</td>\n",
       "    </tr>\n",
       "    <tr>\n",
       "      <th>1</th>\n",
       "      <td>-0.199</td>\n",
       "      <td>-0.177</td>\n",
       "      <td>-0.205</td>\n",
       "      <td>-0.160</td>\n",
       "      <td>-0.182</td>\n",
       "      <td>0.402</td>\n",
       "    </tr>\n",
       "    <tr>\n",
       "      <th>2</th>\n",
       "      <td>0.260</td>\n",
       "      <td>1.236</td>\n",
       "      <td>1.095</td>\n",
       "      <td>1.112</td>\n",
       "      <td>1.155</td>\n",
       "      <td>0.501</td>\n",
       "    </tr>\n",
       "    <tr>\n",
       "      <th>3</th>\n",
       "      <td>-0.275</td>\n",
       "      <td>-0.676</td>\n",
       "      <td>-0.812</td>\n",
       "      <td>-1.040</td>\n",
       "      <td>0.949</td>\n",
       "      <td>-0.784</td>\n",
       "    </tr>\n",
       "    <tr>\n",
       "      <th>4</th>\n",
       "      <td>0.871</td>\n",
       "      <td>0.238</td>\n",
       "      <td>0.835</td>\n",
       "      <td>0.623</td>\n",
       "      <td>0.846</td>\n",
       "      <td>0.402</td>\n",
       "    </tr>\n",
       "  </tbody>\n",
       "</table>\n",
       "</div>"
      ],
      "text/plain": [
       "   DISSATIS  PRIVILEGE  CHANCE  ADVANCE  CRITISM  PROMOTION\n",
       "0    -1.192     -1.923  -1.505   -0.355    1.771      0.204\n",
       "1    -0.199     -0.177  -0.205   -0.160   -0.182      0.402\n",
       "2     0.260      1.236   1.095    1.112    1.155      0.501\n",
       "3    -0.275     -0.676  -0.812   -1.040    0.949     -0.784\n",
       "4     0.871      0.238   0.835    0.623    0.846      0.402"
      ]
     },
     "execution_count": 117,
     "metadata": {},
     "output_type": "execute_result"
    }
   ],
   "source": [
    "df_scaled = pd.DataFrame(nd_scaled, columns = x_cols)\n",
    "df_scaled.head().round(3)"
   ]
  },
  {
   "cell_type": "code",
   "execution_count": 120,
   "metadata": {},
   "outputs": [
    {
     "name": "stdout",
     "output_type": "stream",
     "text": [
      "[[ 1.67606983 -2.73856419 -0.12843595 -0.50321261  0.24330658  0.22576117]\n",
      " [ 0.21834397 -0.12615302  0.43115839  0.08726221  0.19566103  0.1941439 ]\n",
      " [-2.10515127 -0.51500683 -0.27683087  0.49131136 -0.44691698 -0.63174369]\n",
      " [ 1.35994032 -0.86064574 -0.91799066  0.03173793 -0.40137177  0.44095403]\n",
      " [-1.5120347  -0.35277019 -0.32684445 -0.32877858 -0.32709718  0.21246099]]\n"
     ]
    }
   ],
   "source": [
    "pca = PCA(n_components=6)\n",
    "nd_pca = pca.fit_transform(df_scaled)\n",
    "print(nd_pca[:5])"
   ]
  },
  {
   "cell_type": "code",
   "execution_count": 121,
   "metadata": {},
   "outputs": [
    {
     "data": {
      "text/html": [
       "<div>\n",
       "<style scoped>\n",
       "    .dataframe tbody tr th:only-of-type {\n",
       "        vertical-align: middle;\n",
       "    }\n",
       "\n",
       "    .dataframe tbody tr th {\n",
       "        vertical-align: top;\n",
       "    }\n",
       "\n",
       "    .dataframe thead th {\n",
       "        text-align: right;\n",
       "    }\n",
       "</style>\n",
       "<table border=\"1\" class=\"dataframe\">\n",
       "  <thead>\n",
       "    <tr style=\"text-align: right;\">\n",
       "      <th></th>\n",
       "      <th>DISSATIS</th>\n",
       "      <th>PRIVILEGE</th>\n",
       "      <th>CHANCE</th>\n",
       "      <th>ADVANCE</th>\n",
       "      <th>CRITISM</th>\n",
       "      <th>PROMOTION</th>\n",
       "      <th>Prin1</th>\n",
       "      <th>Prin2</th>\n",
       "      <th>Prin3</th>\n",
       "      <th>Prin4</th>\n",
       "      <th>Prin5</th>\n",
       "      <th>Print6</th>\n",
       "    </tr>\n",
       "  </thead>\n",
       "  <tbody>\n",
       "    <tr>\n",
       "      <th>0</th>\n",
       "      <td>-1.191662</td>\n",
       "      <td>-1.923006</td>\n",
       "      <td>-1.504945</td>\n",
       "      <td>-0.355426</td>\n",
       "      <td>1.771410</td>\n",
       "      <td>0.204301</td>\n",
       "      <td>1.676070</td>\n",
       "      <td>-2.738564</td>\n",
       "      <td>-0.128436</td>\n",
       "      <td>-0.503213</td>\n",
       "      <td>0.243307</td>\n",
       "      <td>0.225761</td>\n",
       "    </tr>\n",
       "    <tr>\n",
       "      <th>1</th>\n",
       "      <td>-0.198610</td>\n",
       "      <td>-0.177338</td>\n",
       "      <td>-0.205088</td>\n",
       "      <td>-0.159779</td>\n",
       "      <td>-0.181595</td>\n",
       "      <td>0.402012</td>\n",
       "      <td>0.218344</td>\n",
       "      <td>-0.126153</td>\n",
       "      <td>0.431158</td>\n",
       "      <td>0.087262</td>\n",
       "      <td>0.195661</td>\n",
       "      <td>0.194144</td>\n",
       "    </tr>\n",
       "    <tr>\n",
       "      <th>2</th>\n",
       "      <td>0.259721</td>\n",
       "      <td>1.235822</td>\n",
       "      <td>1.094768</td>\n",
       "      <td>1.111930</td>\n",
       "      <td>1.154672</td>\n",
       "      <td>0.500868</td>\n",
       "      <td>-2.105151</td>\n",
       "      <td>-0.515007</td>\n",
       "      <td>-0.276831</td>\n",
       "      <td>0.491311</td>\n",
       "      <td>-0.446917</td>\n",
       "      <td>-0.631744</td>\n",
       "    </tr>\n",
       "    <tr>\n",
       "      <th>3</th>\n",
       "      <td>-0.274999</td>\n",
       "      <td>-0.676100</td>\n",
       "      <td>-0.811688</td>\n",
       "      <td>-1.040192</td>\n",
       "      <td>0.949092</td>\n",
       "      <td>-0.784254</td>\n",
       "      <td>1.359940</td>\n",
       "      <td>-0.860646</td>\n",
       "      <td>-0.917991</td>\n",
       "      <td>0.031738</td>\n",
       "      <td>-0.401372</td>\n",
       "      <td>0.440954</td>\n",
       "    </tr>\n",
       "    <tr>\n",
       "      <th>4</th>\n",
       "      <td>0.870830</td>\n",
       "      <td>0.238298</td>\n",
       "      <td>0.834797</td>\n",
       "      <td>0.622811</td>\n",
       "      <td>0.846302</td>\n",
       "      <td>0.402012</td>\n",
       "      <td>-1.512035</td>\n",
       "      <td>-0.352770</td>\n",
       "      <td>-0.326844</td>\n",
       "      <td>-0.328779</td>\n",
       "      <td>-0.327097</td>\n",
       "      <td>0.212461</td>\n",
       "    </tr>\n",
       "  </tbody>\n",
       "</table>\n",
       "</div>"
      ],
      "text/plain": [
       "   DISSATIS  PRIVILEGE    CHANCE   ADVANCE   CRITISM  PROMOTION     Prin1  \\\n",
       "0 -1.191662  -1.923006 -1.504945 -0.355426  1.771410   0.204301  1.676070   \n",
       "1 -0.198610  -0.177338 -0.205088 -0.159779 -0.181595   0.402012  0.218344   \n",
       "2  0.259721   1.235822  1.094768  1.111930  1.154672   0.500868 -2.105151   \n",
       "3 -0.274999  -0.676100 -0.811688 -1.040192  0.949092  -0.784254  1.359940   \n",
       "4  0.870830   0.238298  0.834797  0.622811  0.846302   0.402012 -1.512035   \n",
       "\n",
       "      Prin2     Prin3     Prin4     Prin5    Print6  \n",
       "0 -2.738564 -0.128436 -0.503213  0.243307  0.225761  \n",
       "1 -0.126153  0.431158  0.087262  0.195661  0.194144  \n",
       "2 -0.515007 -0.276831  0.491311 -0.446917 -0.631744  \n",
       "3 -0.860646 -0.917991  0.031738 -0.401372  0.440954  \n",
       "4 -0.352770 -0.326844 -0.328779 -0.327097  0.212461  "
      ]
     },
     "execution_count": 121,
     "metadata": {},
     "output_type": "execute_result"
    }
   ],
   "source": [
    "df_pca = pd.DataFrame(nd_pca, columns = ['Prin1','Prin2','Prin3','Prin4','Prin5','Print6'])\n",
    "df_scaled_pca = df_scaled.join(df_pca)\n",
    "df_scaled_pca.head()"
   ]
  },
  {
   "cell_type": "code",
   "execution_count": 124,
   "metadata": {},
   "outputs": [
    {
     "data": {
      "text/html": [
       "<div>\n",
       "<style scoped>\n",
       "    .dataframe tbody tr th:only-of-type {\n",
       "        vertical-align: middle;\n",
       "    }\n",
       "\n",
       "    .dataframe tbody tr th {\n",
       "        vertical-align: top;\n",
       "    }\n",
       "\n",
       "    .dataframe thead th {\n",
       "        text-align: right;\n",
       "    }\n",
       "</style>\n",
       "<table border=\"1\" class=\"dataframe\">\n",
       "  <thead>\n",
       "    <tr style=\"text-align: right;\">\n",
       "      <th></th>\n",
       "      <th>PrinNo</th>\n",
       "      <th>EigenValues</th>\n",
       "      <th>EigenValueRation</th>\n",
       "      <th>CumEigenValueRatio</th>\n",
       "    </tr>\n",
       "  </thead>\n",
       "  <tbody>\n",
       "    <tr>\n",
       "      <th>0</th>\n",
       "      <td>1</td>\n",
       "      <td>3.279</td>\n",
       "      <td>0.528</td>\n",
       "      <td>0.528</td>\n",
       "    </tr>\n",
       "    <tr>\n",
       "      <th>1</th>\n",
       "      <td>2</td>\n",
       "      <td>1.041</td>\n",
       "      <td>0.168</td>\n",
       "      <td>0.696</td>\n",
       "    </tr>\n",
       "    <tr>\n",
       "      <th>2</th>\n",
       "      <td>3</td>\n",
       "      <td>0.789</td>\n",
       "      <td>0.127</td>\n",
       "      <td>0.823</td>\n",
       "    </tr>\n",
       "    <tr>\n",
       "      <th>3</th>\n",
       "      <td>4</td>\n",
       "      <td>0.572</td>\n",
       "      <td>0.092</td>\n",
       "      <td>0.915</td>\n",
       "    </tr>\n",
       "    <tr>\n",
       "      <th>4</th>\n",
       "      <td>5</td>\n",
       "      <td>0.328</td>\n",
       "      <td>0.053</td>\n",
       "      <td>0.968</td>\n",
       "    </tr>\n",
       "    <tr>\n",
       "      <th>5</th>\n",
       "      <td>6</td>\n",
       "      <td>0.198</td>\n",
       "      <td>0.032</td>\n",
       "      <td>1.000</td>\n",
       "    </tr>\n",
       "  </tbody>\n",
       "</table>\n",
       "</div>"
      ],
      "text/plain": [
       "   PrinNo  EigenValues  EigenValueRation  CumEigenValueRatio\n",
       "0       1        3.279             0.528               0.528\n",
       "1       2        1.041             0.168               0.696\n",
       "2       3        0.789             0.127               0.823\n",
       "3       4        0.572             0.092               0.915\n",
       "4       5        0.328             0.053               0.968\n",
       "5       6        0.198             0.032               1.000"
      ]
     },
     "execution_count": 124,
     "metadata": {},
     "output_type": "execute_result"
    }
   ],
   "source": [
    "df_pca_stat = pd.DataFrame()\n",
    "df_pca_stat['PrinNo'] = [I for I in range(1,7)]\n",
    "df_pca_stat['EigenValues'] = pca.explained_variance_\n",
    "df_pca_stat['EigenValueRation'] = pca.explained_variance_ratio_\n",
    "df_pca_stat['CumEigenValueRatio'] = np.cumsum(pca.explained_variance_ratio_)\n",
    "df_pca_stat.round(3)\n",
    "# 공분산 기준 3개, 상관계수 기준 2개"
   ]
  },
  {
   "cell_type": "code",
   "execution_count": 126,
   "metadata": {},
   "outputs": [
    {
     "data": {
      "text/html": [
       "<div>\n",
       "<style scoped>\n",
       "    .dataframe tbody tr th:only-of-type {\n",
       "        vertical-align: middle;\n",
       "    }\n",
       "\n",
       "    .dataframe tbody tr th {\n",
       "        vertical-align: top;\n",
       "    }\n",
       "\n",
       "    .dataframe thead th {\n",
       "        text-align: right;\n",
       "    }\n",
       "</style>\n",
       "<table border=\"1\" class=\"dataframe\">\n",
       "  <thead>\n",
       "    <tr style=\"text-align: right;\">\n",
       "      <th></th>\n",
       "      <th>Feature</th>\n",
       "      <th>Prin1</th>\n",
       "      <th>Prin2</th>\n",
       "      <th>Prin3</th>\n",
       "      <th>Prin4</th>\n",
       "      <th>Prin5</th>\n",
       "      <th>Prin6</th>\n",
       "    </tr>\n",
       "  </thead>\n",
       "  <tbody>\n",
       "    <tr>\n",
       "      <th>0</th>\n",
       "      <td>DISSATIS</td>\n",
       "      <td>0.439</td>\n",
       "      <td>-0.313</td>\n",
       "      <td>0.445</td>\n",
       "      <td>0.316</td>\n",
       "      <td>-0.192</td>\n",
       "      <td>-0.612</td>\n",
       "    </tr>\n",
       "    <tr>\n",
       "      <th>1</th>\n",
       "      <td>PRIVILEGE</td>\n",
       "      <td>0.395</td>\n",
       "      <td>-0.309</td>\n",
       "      <td>0.217</td>\n",
       "      <td>-0.815</td>\n",
       "      <td>-0.038</td>\n",
       "      <td>0.190</td>\n",
       "    </tr>\n",
       "    <tr>\n",
       "      <th>2</th>\n",
       "      <td>CHANCE</td>\n",
       "      <td>0.461</td>\n",
       "      <td>-0.217</td>\n",
       "      <td>-0.272</td>\n",
       "      <td>0.225</td>\n",
       "      <td>0.776</td>\n",
       "      <td>0.118</td>\n",
       "    </tr>\n",
       "    <tr>\n",
       "      <th>3</th>\n",
       "      <td>ADVANCE</td>\n",
       "      <td>0.493</td>\n",
       "      <td>0.116</td>\n",
       "      <td>0.006</td>\n",
       "      <td>0.365</td>\n",
       "      <td>-0.460</td>\n",
       "      <td>0.631</td>\n",
       "    </tr>\n",
       "    <tr>\n",
       "      <th>4</th>\n",
       "      <td>CRITISM</td>\n",
       "      <td>0.225</td>\n",
       "      <td>0.802</td>\n",
       "      <td>0.457</td>\n",
       "      <td>-0.100</td>\n",
       "      <td>0.289</td>\n",
       "      <td>-0.058</td>\n",
       "    </tr>\n",
       "    <tr>\n",
       "      <th>5</th>\n",
       "      <td>PROMOTION</td>\n",
       "      <td>0.381</td>\n",
       "      <td>0.321</td>\n",
       "      <td>-0.687</td>\n",
       "      <td>-0.206</td>\n",
       "      <td>-0.255</td>\n",
       "      <td>-0.416</td>\n",
       "    </tr>\n",
       "  </tbody>\n",
       "</table>\n",
       "</div>"
      ],
      "text/plain": [
       "     Feature  Prin1  Prin2  Prin3  Prin4  Prin5  Prin6\n",
       "0   DISSATIS  0.439 -0.313  0.445  0.316 -0.192 -0.612\n",
       "1  PRIVILEGE  0.395 -0.309  0.217 -0.815 -0.038  0.190\n",
       "2     CHANCE  0.461 -0.217 -0.272  0.225  0.776  0.118\n",
       "3    ADVANCE  0.493  0.116  0.006  0.365 -0.460  0.631\n",
       "4    CRITISM  0.225  0.802  0.457 -0.100  0.289 -0.058\n",
       "5  PROMOTION  0.381  0.321 -0.687 -0.206 -0.255 -0.416"
      ]
     },
     "execution_count": 126,
     "metadata": {},
     "output_type": "execute_result"
    }
   ],
   "source": [
    "x_cols = pd.DataFrame({'Feature':df_raw_x.columns})\n",
    "\n",
    "df_eigenvector = pd.concat([x_cols, pd.DataFrame(pca.components_.T * -1, \\\n",
    "                                                columns = ['Prin1','Prin2','Prin3','Prin4','Prin5','Prin6'])], axis=1)\n",
    "df_eigenvector.round(3)\n",
    "# 1주성분은 배움 기회와 승진간의 양의 연관성\n",
    "# 2주성분은 불만처리와 특권 허용 간의 음의 연관성 확인"
   ]
  },
  {
   "cell_type": "code",
   "execution_count": 1,
   "metadata": {},
   "outputs": [],
   "source": [
    "# # RFC oob score\n",
    "# oob_error = []\n",
    "\n",
    "# for v_n_estimator in range(1,151):\n",
    "#     rf = RandomForestClassifier(n_estimators = v_n_estimator, oob_score = True, random_state =1234)\n",
    "#     rf.fit(df_train_x, df_train_y)\n",
    "#     oob_error.append(1 - rf.oob_score_)"
   ]
  },
  {
   "cell_type": "code",
   "execution_count": 25,
   "metadata": {},
   "outputs": [],
   "source": [
    "# 군집화\n",
    "df_raw = pd.read_csv(path + '직무능력평가.csv', encoding = 'CP949')\n",
    "\n",
    "scaler = StandardScaler()\n",
    "df_raw_scaled = scaler.fit_transform(df_raw)\n",
    "df_raw_scaled[:5]\n",
    "\n",
    "df_raw_y = df_raw_scaled[:,0]\n",
    "df_raw_x = df_raw_scaled[:,1::]"
   ]
  },
  {
   "cell_type": "code",
   "execution_count": 26,
   "metadata": {},
   "outputs": [
    {
     "data": {
      "text/plain": [
       "Text(0, 0.5, 'sample index')"
      ]
     },
     "execution_count": 26,
     "metadata": {},
     "output_type": "execute_result"
    },
    {
     "data": {
      "image/png": "[encoded data removed]",
      "text/plain": [
       "<Figure size 720x720 with 1 Axes>"
      ]
     },
     "metadata": {
      "needs_background": "light"
     },
     "output_type": "display_data"
    }
   ],
   "source": [
    "Z_ward = linkage(df_raw_x, method = 'ward', metric = 'euclidean')\n",
    "\n",
    "Z_average = linkage(df_raw_x, method = 'average', metric = 'euclidean')\n",
    "\n",
    "Z_Minkowski = linkage(df_raw_x, method='average', metric = 'minkowski')\n",
    "\n",
    "# 덴드로그램 연결\n",
    "plt.figure(figsize=(10,10))\n",
    "ax = plt.subplot(111)\n",
    "\n",
    "# 데이터프레임 변경. 워드, #평균, #민코우스키\n",
    "dendrogram(Z_ward, leaf_font_size = 10, orientation = 'right')\n",
    "plt.title('Hierarchical Clustering Dendrogram')\n",
    "plt.xlabel('distance')\n",
    "plt.ylabel('sample index')"
   ]
  },
  {
   "cell_type": "code",
   "execution_count": 27,
   "metadata": {},
   "outputs": [
    {
     "data": {
      "text/html": [
       "<div>\n",
       "<style scoped>\n",
       "    .dataframe tbody tr th:only-of-type {\n",
       "        vertical-align: middle;\n",
       "    }\n",
       "\n",
       "    .dataframe tbody tr th {\n",
       "        vertical-align: top;\n",
       "    }\n",
       "\n",
       "    .dataframe thead th {\n",
       "        text-align: right;\n",
       "    }\n",
       "</style>\n",
       "<table border=\"1\" class=\"dataframe\">\n",
       "  <thead>\n",
       "    <tr style=\"text-align: right;\">\n",
       "      <th></th>\n",
       "      <th>EVAL</th>\n",
       "      <th>DISSATIS</th>\n",
       "      <th>PRIVILEGE</th>\n",
       "      <th>CHANCE</th>\n",
       "      <th>ADVANCE</th>\n",
       "      <th>CRITISM</th>\n",
       "      <th>PROMOTION</th>\n",
       "      <th>ClusteringHierarchical</th>\n",
       "    </tr>\n",
       "  </thead>\n",
       "  <tbody>\n",
       "    <tr>\n",
       "      <th>0</th>\n",
       "      <td>43</td>\n",
       "      <td>51</td>\n",
       "      <td>30</td>\n",
       "      <td>39</td>\n",
       "      <td>61</td>\n",
       "      <td>92</td>\n",
       "      <td>45</td>\n",
       "      <td>1</td>\n",
       "    </tr>\n",
       "    <tr>\n",
       "      <th>1</th>\n",
       "      <td>63</td>\n",
       "      <td>64</td>\n",
       "      <td>51</td>\n",
       "      <td>54</td>\n",
       "      <td>63</td>\n",
       "      <td>73</td>\n",
       "      <td>47</td>\n",
       "      <td>5</td>\n",
       "    </tr>\n",
       "    <tr>\n",
       "      <th>2</th>\n",
       "      <td>71</td>\n",
       "      <td>70</td>\n",
       "      <td>68</td>\n",
       "      <td>69</td>\n",
       "      <td>76</td>\n",
       "      <td>86</td>\n",
       "      <td>48</td>\n",
       "      <td>3</td>\n",
       "    </tr>\n",
       "    <tr>\n",
       "      <th>3</th>\n",
       "      <td>61</td>\n",
       "      <td>63</td>\n",
       "      <td>45</td>\n",
       "      <td>47</td>\n",
       "      <td>54</td>\n",
       "      <td>84</td>\n",
       "      <td>35</td>\n",
       "      <td>1</td>\n",
       "    </tr>\n",
       "    <tr>\n",
       "      <th>4</th>\n",
       "      <td>81</td>\n",
       "      <td>78</td>\n",
       "      <td>56</td>\n",
       "      <td>66</td>\n",
       "      <td>71</td>\n",
       "      <td>83</td>\n",
       "      <td>47</td>\n",
       "      <td>3</td>\n",
       "    </tr>\n",
       "  </tbody>\n",
       "</table>\n",
       "</div>"
      ],
      "text/plain": [
       "   EVAL  DISSATIS  PRIVILEGE  CHANCE  ADVANCE  CRITISM  PROMOTION  \\\n",
       "0    43        51         30      39       61       92         45   \n",
       "1    63        64         51      54       63       73         47   \n",
       "2    71        70         68      69       76       86         48   \n",
       "3    61        63         45      47       54       84         35   \n",
       "4    81        78         56      66       71       83         47   \n",
       "\n",
       "   ClusteringHierarchical  \n",
       "0                       1  \n",
       "1                       5  \n",
       "2                       3  \n",
       "3                       1  \n",
       "4                       3  "
      ]
     },
     "execution_count": 27,
     "metadata": {},
     "output_type": "execute_result"
    }
   ],
   "source": [
    "# 스텝3 계층형 군집 생성\n",
    "cluster_hierarchical = fcluster(Z=Z_ward, t=5, criterion = 'distance')\n",
    "\n",
    "df_raw['ClusteringHierarchical'] = cluster_hierarchical\n",
    "df_raw.head()"
   ]
  },
  {
   "cell_type": "code",
   "execution_count": 28,
   "metadata": {},
   "outputs": [
    {
     "data": {
      "text/html": [
       "<div>\n",
       "<style scoped>\n",
       "    .dataframe tbody tr th:only-of-type {\n",
       "        vertical-align: middle;\n",
       "    }\n",
       "\n",
       "    .dataframe tbody tr th {\n",
       "        vertical-align: top;\n",
       "    }\n",
       "\n",
       "    .dataframe thead th {\n",
       "        text-align: right;\n",
       "    }\n",
       "</style>\n",
       "<table border=\"1\" class=\"dataframe\">\n",
       "  <thead>\n",
       "    <tr style=\"text-align: right;\">\n",
       "      <th></th>\n",
       "      <th>ClusteringHierarchical</th>\n",
       "      <th>EVAL_min</th>\n",
       "      <th>EVAL_mean</th>\n",
       "      <th>EVAL_max</th>\n",
       "      <th>DISSATIS_min</th>\n",
       "      <th>DISSATIS_mean</th>\n",
       "      <th>DISSATIS_max</th>\n",
       "      <th>PRIVILEGE_min</th>\n",
       "      <th>PRIVILEGE_mean</th>\n",
       "      <th>PRIVILEGE_max</th>\n",
       "      <th>...</th>\n",
       "      <th>CHANCE_max</th>\n",
       "      <th>ADVANCE_min</th>\n",
       "      <th>ADVANCE_mean</th>\n",
       "      <th>ADVANCE_max</th>\n",
       "      <th>CRITISM_min</th>\n",
       "      <th>CRITISM_mean</th>\n",
       "      <th>CRITISM_max</th>\n",
       "      <th>PROMOTION_min</th>\n",
       "      <th>PROMOTION_mean</th>\n",
       "      <th>PROMOTION_max</th>\n",
       "    </tr>\n",
       "  </thead>\n",
       "  <tbody>\n",
       "    <tr>\n",
       "      <th>0</th>\n",
       "      <td>1</td>\n",
       "      <td>43</td>\n",
       "      <td>57.429</td>\n",
       "      <td>67</td>\n",
       "      <td>51</td>\n",
       "      <td>58.857</td>\n",
       "      <td>66</td>\n",
       "      <td>30</td>\n",
       "      <td>43.571</td>\n",
       "      <td>52</td>\n",
       "      <td>...</td>\n",
       "      <td>50</td>\n",
       "      <td>51</td>\n",
       "      <td>59.429</td>\n",
       "      <td>66</td>\n",
       "      <td>74</td>\n",
       "      <td>81.143</td>\n",
       "      <td>92</td>\n",
       "      <td>33</td>\n",
       "      <td>38.571</td>\n",
       "      <td>45</td>\n",
       "    </tr>\n",
       "    <tr>\n",
       "      <th>1</th>\n",
       "      <td>2</td>\n",
       "      <td>40</td>\n",
       "      <td>53.200</td>\n",
       "      <td>69</td>\n",
       "      <td>37</td>\n",
       "      <td>49.400</td>\n",
       "      <td>62</td>\n",
       "      <td>33</td>\n",
       "      <td>46.800</td>\n",
       "      <td>57</td>\n",
       "      <td>...</td>\n",
       "      <td>58</td>\n",
       "      <td>43</td>\n",
       "      <td>52.000</td>\n",
       "      <td>58</td>\n",
       "      <td>49</td>\n",
       "      <td>60.000</td>\n",
       "      <td>67</td>\n",
       "      <td>25</td>\n",
       "      <td>35.000</td>\n",
       "      <td>49</td>\n",
       "    </tr>\n",
       "    <tr>\n",
       "      <th>2</th>\n",
       "      <td>3</td>\n",
       "      <td>50</td>\n",
       "      <td>71.889</td>\n",
       "      <td>85</td>\n",
       "      <td>58</td>\n",
       "      <td>73.889</td>\n",
       "      <td>85</td>\n",
       "      <td>54</td>\n",
       "      <td>63.333</td>\n",
       "      <td>71</td>\n",
       "      <td>...</td>\n",
       "      <td>75</td>\n",
       "      <td>55</td>\n",
       "      <td>74.333</td>\n",
       "      <td>88</td>\n",
       "      <td>74</td>\n",
       "      <td>79.000</td>\n",
       "      <td>86</td>\n",
       "      <td>46</td>\n",
       "      <td>54.667</td>\n",
       "      <td>72</td>\n",
       "    </tr>\n",
       "    <tr>\n",
       "      <th>3</th>\n",
       "      <td>4</td>\n",
       "      <td>68</td>\n",
       "      <td>70.000</td>\n",
       "      <td>72</td>\n",
       "      <td>82</td>\n",
       "      <td>82.500</td>\n",
       "      <td>83</td>\n",
       "      <td>72</td>\n",
       "      <td>77.500</td>\n",
       "      <td>83</td>\n",
       "      <td>...</td>\n",
       "      <td>67</td>\n",
       "      <td>59</td>\n",
       "      <td>65.000</td>\n",
       "      <td>71</td>\n",
       "      <td>77</td>\n",
       "      <td>80.000</td>\n",
       "      <td>83</td>\n",
       "      <td>31</td>\n",
       "      <td>33.000</td>\n",
       "      <td>35</td>\n",
       "    </tr>\n",
       "    <tr>\n",
       "      <th>4</th>\n",
       "      <td>5</td>\n",
       "      <td>58</td>\n",
       "      <td>69.143</td>\n",
       "      <td>82</td>\n",
       "      <td>61</td>\n",
       "      <td>72.714</td>\n",
       "      <td>90</td>\n",
       "      <td>39</td>\n",
       "      <td>47.143</td>\n",
       "      <td>52</td>\n",
       "      <td>...</td>\n",
       "      <td>72</td>\n",
       "      <td>60</td>\n",
       "      <td>66.286</td>\n",
       "      <td>75</td>\n",
       "      <td>54</td>\n",
       "      <td>72.000</td>\n",
       "      <td>85</td>\n",
       "      <td>35</td>\n",
       "      <td>40.714</td>\n",
       "      <td>47</td>\n",
       "    </tr>\n",
       "  </tbody>\n",
       "</table>\n",
       "<p>5 rows × 22 columns</p>\n",
       "</div>"
      ],
      "text/plain": [
       "   ClusteringHierarchical  EVAL_min  EVAL_mean  EVAL_max  DISSATIS_min  \\\n",
       "0                       1        43     57.429        67            51   \n",
       "1                       2        40     53.200        69            37   \n",
       "2                       3        50     71.889        85            58   \n",
       "3                       4        68     70.000        72            82   \n",
       "4                       5        58     69.143        82            61   \n",
       "\n",
       "   DISSATIS_mean  DISSATIS_max  PRIVILEGE_min  PRIVILEGE_mean  PRIVILEGE_max  \\\n",
       "0         58.857            66             30          43.571             52   \n",
       "1         49.400            62             33          46.800             57   \n",
       "2         73.889            85             54          63.333             71   \n",
       "3         82.500            83             72          77.500             83   \n",
       "4         72.714            90             39          47.143             52   \n",
       "\n",
       "   ...  CHANCE_max  ADVANCE_min  ADVANCE_mean  ADVANCE_max  CRITISM_min  \\\n",
       "0  ...          50           51        59.429           66           74   \n",
       "1  ...          58           43        52.000           58           49   \n",
       "2  ...          75           55        74.333           88           74   \n",
       "3  ...          67           59        65.000           71           77   \n",
       "4  ...          72           60        66.286           75           54   \n",
       "\n",
       "   CRITISM_mean  CRITISM_max  PROMOTION_min  PROMOTION_mean  PROMOTION_max  \n",
       "0        81.143           92             33          38.571             45  \n",
       "1        60.000           67             25          35.000             49  \n",
       "2        79.000           86             46          54.667             72  \n",
       "3        80.000           83             31          33.000             35  \n",
       "4        72.000           85             35          40.714             47  \n",
       "\n",
       "[5 rows x 22 columns]"
      ]
     },
     "execution_count": 28,
     "metadata": {},
     "output_type": "execute_result"
    }
   ],
   "source": [
    "ds_summary_hc = df_raw.groupby('ClusteringHierarchical').agg(['min','mean','max'])\n",
    "\n",
    "level0 = ds_summary_hc.columns.get_level_values(0)\n",
    "level1 = ds_summary_hc.columns.get_level_values(1)\n",
    "ds_summary_hc.columns = level0 + '_' + level1\n",
    "ds_summary_hc.reset_index(inplace = True)\n",
    "ds_summary_hc.round(3)"
   ]
  },
  {
   "cell_type": "code",
   "execution_count": 29,
   "metadata": {},
   "outputs": [
    {
     "data": {
      "text/html": [
       "<div>\n",
       "<style scoped>\n",
       "    .dataframe tbody tr th:only-of-type {\n",
       "        vertical-align: middle;\n",
       "    }\n",
       "\n",
       "    .dataframe tbody tr th {\n",
       "        vertical-align: top;\n",
       "    }\n",
       "\n",
       "    .dataframe thead th {\n",
       "        text-align: right;\n",
       "    }\n",
       "</style>\n",
       "<table border=\"1\" class=\"dataframe\">\n",
       "  <thead>\n",
       "    <tr style=\"text-align: right;\">\n",
       "      <th></th>\n",
       "      <th>NumberofCluster</th>\n",
       "      <th>Error</th>\n",
       "    </tr>\n",
       "  </thead>\n",
       "  <tbody>\n",
       "    <tr>\n",
       "      <th>0</th>\n",
       "      <td>1</td>\n",
       "      <td>180.000000</td>\n",
       "    </tr>\n",
       "    <tr>\n",
       "      <th>1</th>\n",
       "      <td>2</td>\n",
       "      <td>114.082503</td>\n",
       "    </tr>\n",
       "    <tr>\n",
       "      <th>2</th>\n",
       "      <td>3</td>\n",
       "      <td>94.368903</td>\n",
       "    </tr>\n",
       "    <tr>\n",
       "      <th>3</th>\n",
       "      <td>4</td>\n",
       "      <td>80.063734</td>\n",
       "    </tr>\n",
       "    <tr>\n",
       "      <th>4</th>\n",
       "      <td>5</td>\n",
       "      <td>66.483848</td>\n",
       "    </tr>\n",
       "    <tr>\n",
       "      <th>5</th>\n",
       "      <td>6</td>\n",
       "      <td>61.394222</td>\n",
       "    </tr>\n",
       "    <tr>\n",
       "      <th>6</th>\n",
       "      <td>7</td>\n",
       "      <td>51.467325</td>\n",
       "    </tr>\n",
       "    <tr>\n",
       "      <th>7</th>\n",
       "      <td>8</td>\n",
       "      <td>43.098812</td>\n",
       "    </tr>\n",
       "    <tr>\n",
       "      <th>8</th>\n",
       "      <td>9</td>\n",
       "      <td>38.715507</td>\n",
       "    </tr>\n",
       "    <tr>\n",
       "      <th>9</th>\n",
       "      <td>10</td>\n",
       "      <td>34.470679</td>\n",
       "    </tr>\n",
       "    <tr>\n",
       "      <th>10</th>\n",
       "      <td>11</td>\n",
       "      <td>30.154261</td>\n",
       "    </tr>\n",
       "    <tr>\n",
       "      <th>11</th>\n",
       "      <td>12</td>\n",
       "      <td>27.059683</td>\n",
       "    </tr>\n",
       "    <tr>\n",
       "      <th>12</th>\n",
       "      <td>13</td>\n",
       "      <td>22.505313</td>\n",
       "    </tr>\n",
       "    <tr>\n",
       "      <th>13</th>\n",
       "      <td>14</td>\n",
       "      <td>20.320133</td>\n",
       "    </tr>\n",
       "    <tr>\n",
       "      <th>14</th>\n",
       "      <td>15</td>\n",
       "      <td>16.339445</td>\n",
       "    </tr>\n",
       "  </tbody>\n",
       "</table>\n",
       "</div>"
      ],
      "text/plain": [
       "    NumberofCluster       Error\n",
       "0                 1  180.000000\n",
       "1                 2  114.082503\n",
       "2                 3   94.368903\n",
       "3                 4   80.063734\n",
       "4                 5   66.483848\n",
       "5                 6   61.394222\n",
       "6                 7   51.467325\n",
       "7                 8   43.098812\n",
       "8                 9   38.715507\n",
       "9                10   34.470679\n",
       "10               11   30.154261\n",
       "11               12   27.059683\n",
       "12               13   22.505313\n",
       "13               14   20.320133\n",
       "14               15   16.339445"
      ]
     },
     "execution_count": 29,
     "metadata": {},
     "output_type": "execute_result"
    }
   ],
   "source": [
    "n_iter_cluster = 15\n",
    "cluster_range = [i+1 for i in range(n_iter_cluster)]\n",
    "clus_error = []\n",
    "for v_n_clus in cluster_range:\n",
    "    clus = KMeans(v_n_clus)\n",
    "    clus.fit(df_raw_x)\n",
    "    clus_error.append(clus.inertia_)\n",
    "ds_error = pd.DataFrame({'NumberofCluster':cluster_range, 'Error':clus_error})\n",
    "ds_error"
   ]
  },
  {
   "cell_type": "code",
   "execution_count": 30,
   "metadata": {},
   "outputs": [
    {
     "data": {
      "text/plain": [
       "Text(0, 0.5, 'Sum of Squared distance')"
      ]
     },
     "execution_count": 30,
     "metadata": {},
     "output_type": "execute_result"
    },
    {
     "data": {
      "image/png": "[encoded data removed]",
      "text/plain": [
       "<Figure size 720x720 with 1 Axes>"
      ]
     },
     "metadata": {
      "needs_background": "light"
     },
     "output_type": "display_data"
    }
   ],
   "source": [
    "plt.figure(figsize=(10,10))\n",
    "plt.plot(ds_error['NumberofCluster'], ds_error['Error'])\n",
    "plt.title('Sum of squared distance')\n",
    "plt.xlabel('Clusters')\n",
    "plt.ylabel('Sum of Squared distance')"
   ]
  },
  {
   "cell_type": "code",
   "execution_count": 31,
   "metadata": {},
   "outputs": [
    {
     "data": {
      "text/html": [
       "<div>\n",
       "<style scoped>\n",
       "    .dataframe tbody tr th:only-of-type {\n",
       "        vertical-align: middle;\n",
       "    }\n",
       "\n",
       "    .dataframe tbody tr th {\n",
       "        vertical-align: top;\n",
       "    }\n",
       "\n",
       "    .dataframe thead th {\n",
       "        text-align: right;\n",
       "    }\n",
       "</style>\n",
       "<table border=\"1\" class=\"dataframe\">\n",
       "  <thead>\n",
       "    <tr style=\"text-align: right;\">\n",
       "      <th></th>\n",
       "      <th>EVAL</th>\n",
       "      <th>DISSATIS</th>\n",
       "      <th>PRIVILEGE</th>\n",
       "      <th>CHANCE</th>\n",
       "      <th>ADVANCE</th>\n",
       "      <th>CRITISM</th>\n",
       "      <th>PROMOTION</th>\n",
       "      <th>ClusteringHierarchical</th>\n",
       "      <th>ClusterKmeans</th>\n",
       "    </tr>\n",
       "  </thead>\n",
       "  <tbody>\n",
       "    <tr>\n",
       "      <th>0</th>\n",
       "      <td>43</td>\n",
       "      <td>51</td>\n",
       "      <td>30</td>\n",
       "      <td>39</td>\n",
       "      <td>61</td>\n",
       "      <td>92</td>\n",
       "      <td>45</td>\n",
       "      <td>1</td>\n",
       "      <td>1</td>\n",
       "    </tr>\n",
       "    <tr>\n",
       "      <th>1</th>\n",
       "      <td>63</td>\n",
       "      <td>64</td>\n",
       "      <td>51</td>\n",
       "      <td>54</td>\n",
       "      <td>63</td>\n",
       "      <td>73</td>\n",
       "      <td>47</td>\n",
       "      <td>5</td>\n",
       "      <td>4</td>\n",
       "    </tr>\n",
       "    <tr>\n",
       "      <th>2</th>\n",
       "      <td>71</td>\n",
       "      <td>70</td>\n",
       "      <td>68</td>\n",
       "      <td>69</td>\n",
       "      <td>76</td>\n",
       "      <td>86</td>\n",
       "      <td>48</td>\n",
       "      <td>3</td>\n",
       "      <td>2</td>\n",
       "    </tr>\n",
       "    <tr>\n",
       "      <th>3</th>\n",
       "      <td>61</td>\n",
       "      <td>63</td>\n",
       "      <td>45</td>\n",
       "      <td>47</td>\n",
       "      <td>54</td>\n",
       "      <td>84</td>\n",
       "      <td>35</td>\n",
       "      <td>1</td>\n",
       "      <td>1</td>\n",
       "    </tr>\n",
       "    <tr>\n",
       "      <th>4</th>\n",
       "      <td>81</td>\n",
       "      <td>78</td>\n",
       "      <td>56</td>\n",
       "      <td>66</td>\n",
       "      <td>71</td>\n",
       "      <td>83</td>\n",
       "      <td>47</td>\n",
       "      <td>3</td>\n",
       "      <td>2</td>\n",
       "    </tr>\n",
       "  </tbody>\n",
       "</table>\n",
       "</div>"
      ],
      "text/plain": [
       "   EVAL  DISSATIS  PRIVILEGE  CHANCE  ADVANCE  CRITISM  PROMOTION  \\\n",
       "0    43        51         30      39       61       92         45   \n",
       "1    63        64         51      54       63       73         47   \n",
       "2    71        70         68      69       76       86         48   \n",
       "3    61        63         45      47       54       84         35   \n",
       "4    81        78         56      66       71       83         47   \n",
       "\n",
       "   ClusteringHierarchical  ClusterKmeans  \n",
       "0                       1              1  \n",
       "1                       5              4  \n",
       "2                       3              2  \n",
       "3                       1              1  \n",
       "4                       3              2  "
      ]
     },
     "execution_count": 31,
     "metadata": {},
     "output_type": "execute_result"
    }
   ],
   "source": [
    "clus = KMeans(5)\n",
    "clus.fit(df_raw_x)\n",
    "cluster_kmeans = [i+1 for i in clus.labels_]\n",
    "df_raw['ClusterKmeans'] = cluster_kmeans\n",
    "df_raw.head()"
   ]
  },
  {
   "cell_type": "code",
   "execution_count": 32,
   "metadata": {},
   "outputs": [
    {
     "ename": "AttributeError",
     "evalue": "'SeriesGroupBy' object has no attribute 'min,mean,max'",
     "output_type": "error",
     "traceback": [
      "\u001b[1;31m---------------------------------------------------------------------------\u001b[0m",
      "\u001b[1;31mAttributeError\u001b[0m                            Traceback (most recent call last)",
      "\u001b[1;32m<ipython-input-32-069fa2db9d62>\u001b[0m in \u001b[0;36m<module>\u001b[1;34m\u001b[0m\n\u001b[1;32m----> 1\u001b[1;33m \u001b[0mdf_summary_km\u001b[0m \u001b[1;33m=\u001b[0m \u001b[0mdf_raw\u001b[0m\u001b[1;33m.\u001b[0m\u001b[0mdrop\u001b[0m\u001b[1;33m(\u001b[0m\u001b[1;34m'ClusteringHierarchical'\u001b[0m\u001b[1;33m,\u001b[0m \u001b[0maxis\u001b[0m\u001b[1;33m=\u001b[0m\u001b[1;36m1\u001b[0m\u001b[1;33m,\u001b[0m \u001b[0minplace\u001b[0m \u001b[1;33m=\u001b[0m \u001b[1;32mFalse\u001b[0m\u001b[1;33m)\u001b[0m\u001b[1;33m.\u001b[0m\u001b[0mgroupby\u001b[0m\u001b[1;33m(\u001b[0m\u001b[1;34m'ClusterKmeans'\u001b[0m\u001b[1;33m)\u001b[0m\u001b[1;33m.\u001b[0m\u001b[0magg\u001b[0m\u001b[1;33m(\u001b[0m\u001b[1;33m[\u001b[0m\u001b[1;34m'min,mean,max'\u001b[0m\u001b[1;33m]\u001b[0m\u001b[1;33m)\u001b[0m\u001b[1;33m\u001b[0m\u001b[1;33m\u001b[0m\u001b[0m\n\u001b[0m\u001b[0;32m      2\u001b[0m \u001b[0mlevel0\u001b[0m \u001b[1;33m=\u001b[0m \u001b[0mds_summary_km\u001b[0m\u001b[1;33m.\u001b[0m\u001b[0mcolumns\u001b[0m\u001b[1;33m.\u001b[0m\u001b[0mget_level_values\u001b[0m\u001b[1;33m(\u001b[0m\u001b[1;36m0\u001b[0m\u001b[1;33m)\u001b[0m\u001b[1;33m\u001b[0m\u001b[1;33m\u001b[0m\u001b[0m\n\u001b[0;32m      3\u001b[0m \u001b[0mlevel1\u001b[0m \u001b[1;33m=\u001b[0m \u001b[0mds_summary_km\u001b[0m\u001b[1;33m.\u001b[0m\u001b[0mcolumns\u001b[0m\u001b[1;33m.\u001b[0m\u001b[0mget_level_values\u001b[0m\u001b[1;33m(\u001b[0m\u001b[1;36m1\u001b[0m\u001b[1;33m)\u001b[0m\u001b[1;33m\u001b[0m\u001b[1;33m\u001b[0m\u001b[0m\n\u001b[0;32m      4\u001b[0m \u001b[0mds_summary_km\u001b[0m\u001b[1;33m.\u001b[0m\u001b[0mcolumns\u001b[0m \u001b[1;33m=\u001b[0m \u001b[0mlevel0\u001b[0m \u001b[1;33m+\u001b[0m \u001b[1;34m'_'\u001b[0m \u001b[1;33m+\u001b[0m \u001b[0mlevel1\u001b[0m\u001b[1;33m\u001b[0m\u001b[1;33m\u001b[0m\u001b[0m\n\u001b[0;32m      5\u001b[0m \u001b[0mds_summary_km\u001b[0m\u001b[1;33m.\u001b[0m\u001b[0mreset_index\u001b[0m\u001b[1;33m(\u001b[0m\u001b[0minplace\u001b[0m \u001b[1;33m=\u001b[0m \u001b[1;32mTrue\u001b[0m\u001b[1;33m)\u001b[0m\u001b[1;33m\u001b[0m\u001b[1;33m\u001b[0m\u001b[0m\n",
      "\u001b[1;32m~\\anaconda3\\lib\\site-packages\\pandas\\core\\groupby\\generic.py\u001b[0m in \u001b[0;36maggregate\u001b[1;34m(self, func, *args, **kwargs)\u001b[0m\n\u001b[0;32m    938\u001b[0m         \u001b[0mfunc\u001b[0m \u001b[1;33m=\u001b[0m \u001b[0m_maybe_mangle_lambdas\u001b[0m\u001b[1;33m(\u001b[0m\u001b[0mfunc\u001b[0m\u001b[1;33m)\u001b[0m\u001b[1;33m\u001b[0m\u001b[1;33m\u001b[0m\u001b[0m\n\u001b[0;32m    939\u001b[0m \u001b[1;33m\u001b[0m\u001b[0m\n\u001b[1;32m--> 940\u001b[1;33m         \u001b[0mresult\u001b[0m\u001b[1;33m,\u001b[0m \u001b[0mhow\u001b[0m \u001b[1;33m=\u001b[0m \u001b[0mself\u001b[0m\u001b[1;33m.\u001b[0m\u001b[0m_aggregate\u001b[0m\u001b[1;33m(\u001b[0m\u001b[0mfunc\u001b[0m\u001b[1;33m,\u001b[0m \u001b[1;33m*\u001b[0m\u001b[0margs\u001b[0m\u001b[1;33m,\u001b[0m \u001b[1;33m**\u001b[0m\u001b[0mkwargs\u001b[0m\u001b[1;33m)\u001b[0m\u001b[1;33m\u001b[0m\u001b[1;33m\u001b[0m\u001b[0m\n\u001b[0m\u001b[0;32m    941\u001b[0m         \u001b[1;32mif\u001b[0m \u001b[0mhow\u001b[0m \u001b[1;32mis\u001b[0m \u001b[1;32mNone\u001b[0m\u001b[1;33m:\u001b[0m\u001b[1;33m\u001b[0m\u001b[1;33m\u001b[0m\u001b[0m\n\u001b[0;32m    942\u001b[0m             \u001b[1;32mreturn\u001b[0m \u001b[0mresult\u001b[0m\u001b[1;33m\u001b[0m\u001b[1;33m\u001b[0m\u001b[0m\n",
      "\u001b[1;32m~\\anaconda3\\lib\\site-packages\\pandas\\core\\base.py\u001b[0m in \u001b[0;36m_aggregate\u001b[1;34m(self, arg, *args, **kwargs)\u001b[0m\n\u001b[0;32m    484\u001b[0m         \u001b[1;32melif\u001b[0m \u001b[0mis_list_like\u001b[0m\u001b[1;33m(\u001b[0m\u001b[0marg\u001b[0m\u001b[1;33m)\u001b[0m\u001b[1;33m:\u001b[0m\u001b[1;33m\u001b[0m\u001b[1;33m\u001b[0m\u001b[0m\n\u001b[0;32m    485\u001b[0m             \u001b[1;31m# we require a list, but not an 'str'\u001b[0m\u001b[1;33m\u001b[0m\u001b[1;33m\u001b[0m\u001b[1;33m\u001b[0m\u001b[0m\n\u001b[1;32m--> 486\u001b[1;33m             \u001b[1;32mreturn\u001b[0m \u001b[0mself\u001b[0m\u001b[1;33m.\u001b[0m\u001b[0m_aggregate_multiple_funcs\u001b[0m\u001b[1;33m(\u001b[0m\u001b[0marg\u001b[0m\u001b[1;33m,\u001b[0m \u001b[0m_axis\u001b[0m\u001b[1;33m=\u001b[0m\u001b[0m_axis\u001b[0m\u001b[1;33m)\u001b[0m\u001b[1;33m,\u001b[0m \u001b[1;32mNone\u001b[0m\u001b[1;33m\u001b[0m\u001b[1;33m\u001b[0m\u001b[0m\n\u001b[0m\u001b[0;32m    487\u001b[0m         \u001b[1;32melse\u001b[0m\u001b[1;33m:\u001b[0m\u001b[1;33m\u001b[0m\u001b[1;33m\u001b[0m\u001b[0m\n\u001b[0;32m    488\u001b[0m             \u001b[0mresult\u001b[0m \u001b[1;33m=\u001b[0m \u001b[1;32mNone\u001b[0m\u001b[1;33m\u001b[0m\u001b[1;33m\u001b[0m\u001b[0m\n",
      "\u001b[1;32m~\\anaconda3\\lib\\site-packages\\pandas\\core\\base.py\u001b[0m in \u001b[0;36m_aggregate_multiple_funcs\u001b[1;34m(self, arg, _axis)\u001b[0m\n\u001b[0;32m    530\u001b[0m                 \u001b[0mcolg\u001b[0m \u001b[1;33m=\u001b[0m \u001b[0mself\u001b[0m\u001b[1;33m.\u001b[0m\u001b[0m_gotitem\u001b[0m\u001b[1;33m(\u001b[0m\u001b[0mcol\u001b[0m\u001b[1;33m,\u001b[0m \u001b[0mndim\u001b[0m\u001b[1;33m=\u001b[0m\u001b[1;36m1\u001b[0m\u001b[1;33m,\u001b[0m \u001b[0msubset\u001b[0m\u001b[1;33m=\u001b[0m\u001b[0mobj\u001b[0m\u001b[1;33m.\u001b[0m\u001b[0miloc\u001b[0m\u001b[1;33m[\u001b[0m\u001b[1;33m:\u001b[0m\u001b[1;33m,\u001b[0m \u001b[0mindex\u001b[0m\u001b[1;33m]\u001b[0m\u001b[1;33m)\u001b[0m\u001b[1;33m\u001b[0m\u001b[1;33m\u001b[0m\u001b[0m\n\u001b[0;32m    531\u001b[0m                 \u001b[1;32mtry\u001b[0m\u001b[1;33m:\u001b[0m\u001b[1;33m\u001b[0m\u001b[1;33m\u001b[0m\u001b[0m\n\u001b[1;32m--> 532\u001b[1;33m                     \u001b[0mnew_res\u001b[0m \u001b[1;33m=\u001b[0m \u001b[0mcolg\u001b[0m\u001b[1;33m.\u001b[0m\u001b[0maggregate\u001b[0m\u001b[1;33m(\u001b[0m\u001b[0marg\u001b[0m\u001b[1;33m)\u001b[0m\u001b[1;33m\u001b[0m\u001b[1;33m\u001b[0m\u001b[0m\n\u001b[0m\u001b[0;32m    533\u001b[0m                 \u001b[1;32mexcept\u001b[0m \u001b[1;33m(\u001b[0m\u001b[0mTypeError\u001b[0m\u001b[1;33m,\u001b[0m \u001b[0mDataError\u001b[0m\u001b[1;33m)\u001b[0m\u001b[1;33m:\u001b[0m\u001b[1;33m\u001b[0m\u001b[1;33m\u001b[0m\u001b[0m\n\u001b[0;32m    534\u001b[0m                     \u001b[1;32mpass\u001b[0m\u001b[1;33m\u001b[0m\u001b[1;33m\u001b[0m\u001b[0m\n",
      "\u001b[1;32m~\\anaconda3\\lib\\site-packages\\pandas\\core\\groupby\\generic.py\u001b[0m in \u001b[0;36maggregate\u001b[1;34m(self, func, *args, **kwargs)\u001b[0m\n\u001b[0;32m    251\u001b[0m             \u001b[1;31m# but not the class list / tuple itself.\u001b[0m\u001b[1;33m\u001b[0m\u001b[1;33m\u001b[0m\u001b[1;33m\u001b[0m\u001b[0m\n\u001b[0;32m    252\u001b[0m             \u001b[0mfunc\u001b[0m \u001b[1;33m=\u001b[0m \u001b[0m_maybe_mangle_lambdas\u001b[0m\u001b[1;33m(\u001b[0m\u001b[0mfunc\u001b[0m\u001b[1;33m)\u001b[0m\u001b[1;33m\u001b[0m\u001b[1;33m\u001b[0m\u001b[0m\n\u001b[1;32m--> 253\u001b[1;33m             \u001b[0mret\u001b[0m \u001b[1;33m=\u001b[0m \u001b[0mself\u001b[0m\u001b[1;33m.\u001b[0m\u001b[0m_aggregate_multiple_funcs\u001b[0m\u001b[1;33m(\u001b[0m\u001b[0mfunc\u001b[0m\u001b[1;33m)\u001b[0m\u001b[1;33m\u001b[0m\u001b[1;33m\u001b[0m\u001b[0m\n\u001b[0m\u001b[0;32m    254\u001b[0m             \u001b[1;32mif\u001b[0m \u001b[0mrelabeling\u001b[0m\u001b[1;33m:\u001b[0m\u001b[1;33m\u001b[0m\u001b[1;33m\u001b[0m\u001b[0m\n\u001b[0;32m    255\u001b[0m                 \u001b[0mret\u001b[0m\u001b[1;33m.\u001b[0m\u001b[0mcolumns\u001b[0m \u001b[1;33m=\u001b[0m \u001b[0mcolumns\u001b[0m\u001b[1;33m\u001b[0m\u001b[1;33m\u001b[0m\u001b[0m\n",
      "\u001b[1;32m~\\anaconda3\\lib\\site-packages\\pandas\\core\\groupby\\generic.py\u001b[0m in \u001b[0;36m_aggregate_multiple_funcs\u001b[1;34m(self, arg)\u001b[0m\n\u001b[0;32m    319\u001b[0m                 \u001b[0mobj\u001b[0m\u001b[1;33m.\u001b[0m\u001b[0m_reset_cache\u001b[0m\u001b[1;33m(\u001b[0m\u001b[1;33m)\u001b[0m\u001b[1;33m\u001b[0m\u001b[1;33m\u001b[0m\u001b[0m\n\u001b[0;32m    320\u001b[0m                 \u001b[0mobj\u001b[0m\u001b[1;33m.\u001b[0m\u001b[0m_selection\u001b[0m \u001b[1;33m=\u001b[0m \u001b[0mname\u001b[0m\u001b[1;33m\u001b[0m\u001b[1;33m\u001b[0m\u001b[0m\n\u001b[1;32m--> 321\u001b[1;33m             \u001b[0mresults\u001b[0m\u001b[1;33m[\u001b[0m\u001b[0mname\u001b[0m\u001b[1;33m]\u001b[0m \u001b[1;33m=\u001b[0m \u001b[0mobj\u001b[0m\u001b[1;33m.\u001b[0m\u001b[0maggregate\u001b[0m\u001b[1;33m(\u001b[0m\u001b[0mfunc\u001b[0m\u001b[1;33m)\u001b[0m\u001b[1;33m\u001b[0m\u001b[1;33m\u001b[0m\u001b[0m\n\u001b[0m\u001b[0;32m    322\u001b[0m \u001b[1;33m\u001b[0m\u001b[0m\n\u001b[0;32m    323\u001b[0m         \u001b[1;32mif\u001b[0m \u001b[0many\u001b[0m\u001b[1;33m(\u001b[0m\u001b[0misinstance\u001b[0m\u001b[1;33m(\u001b[0m\u001b[0mx\u001b[0m\u001b[1;33m,\u001b[0m \u001b[0mDataFrame\u001b[0m\u001b[1;33m)\u001b[0m \u001b[1;32mfor\u001b[0m \u001b[0mx\u001b[0m \u001b[1;32min\u001b[0m \u001b[0mresults\u001b[0m\u001b[1;33m.\u001b[0m\u001b[0mvalues\u001b[0m\u001b[1;33m(\u001b[0m\u001b[1;33m)\u001b[0m\u001b[1;33m)\u001b[0m\u001b[1;33m:\u001b[0m\u001b[1;33m\u001b[0m\u001b[1;33m\u001b[0m\u001b[0m\n",
      "\u001b[1;32m~\\anaconda3\\lib\\site-packages\\pandas\\core\\groupby\\generic.py\u001b[0m in \u001b[0;36maggregate\u001b[1;34m(self, func, *args, **kwargs)\u001b[0m\n\u001b[0;32m    245\u001b[0m \u001b[1;33m\u001b[0m\u001b[0m\n\u001b[0;32m    246\u001b[0m         \u001b[1;32mif\u001b[0m \u001b[0misinstance\u001b[0m\u001b[1;33m(\u001b[0m\u001b[0mfunc\u001b[0m\u001b[1;33m,\u001b[0m \u001b[0mstr\u001b[0m\u001b[1;33m)\u001b[0m\u001b[1;33m:\u001b[0m\u001b[1;33m\u001b[0m\u001b[1;33m\u001b[0m\u001b[0m\n\u001b[1;32m--> 247\u001b[1;33m             \u001b[1;32mreturn\u001b[0m \u001b[0mgetattr\u001b[0m\u001b[1;33m(\u001b[0m\u001b[0mself\u001b[0m\u001b[1;33m,\u001b[0m \u001b[0mfunc\u001b[0m\u001b[1;33m)\u001b[0m\u001b[1;33m(\u001b[0m\u001b[1;33m*\u001b[0m\u001b[0margs\u001b[0m\u001b[1;33m,\u001b[0m \u001b[1;33m**\u001b[0m\u001b[0mkwargs\u001b[0m\u001b[1;33m)\u001b[0m\u001b[1;33m\u001b[0m\u001b[1;33m\u001b[0m\u001b[0m\n\u001b[0m\u001b[0;32m    248\u001b[0m \u001b[1;33m\u001b[0m\u001b[0m\n\u001b[0;32m    249\u001b[0m         \u001b[1;32melif\u001b[0m \u001b[0misinstance\u001b[0m\u001b[1;33m(\u001b[0m\u001b[0mfunc\u001b[0m\u001b[1;33m,\u001b[0m \u001b[0mabc\u001b[0m\u001b[1;33m.\u001b[0m\u001b[0mIterable\u001b[0m\u001b[1;33m)\u001b[0m\u001b[1;33m:\u001b[0m\u001b[1;33m\u001b[0m\u001b[1;33m\u001b[0m\u001b[0m\n",
      "\u001b[1;32m~\\anaconda3\\lib\\site-packages\\pandas\\core\\groupby\\groupby.py\u001b[0m in \u001b[0;36m__getattr__\u001b[1;34m(self, attr)\u001b[0m\n\u001b[0;32m    578\u001b[0m \u001b[1;33m\u001b[0m\u001b[0m\n\u001b[0;32m    579\u001b[0m         raise AttributeError(\n\u001b[1;32m--> 580\u001b[1;33m             \u001b[1;34mf\"'{type(self).__name__}' object has no attribute '{attr}'\"\u001b[0m\u001b[1;33m\u001b[0m\u001b[1;33m\u001b[0m\u001b[0m\n\u001b[0m\u001b[0;32m    581\u001b[0m         )\n\u001b[0;32m    582\u001b[0m \u001b[1;33m\u001b[0m\u001b[0m\n",
      "\u001b[1;31mAttributeError\u001b[0m: 'SeriesGroupBy' object has no attribute 'min,mean,max'"
     ]
    }
   ],
   "source": [
    "df_summary_km = df_raw.drop('ClusteringHierarchical', axis=1, inplace = False).groupby('ClusterKmeans').agg(['min,mean,max'])\n",
    "level0 = ds_summary_km.columns.get_level_values(0)\n",
    "level1 = ds_summary_km.columns.get_level_values(1)\n",
    "ds_summary_km.columns = level0 + '_' + level1\n",
    "ds_summary_km.reset_index(inplace = True)\n",
    "ds_summary_km.round(3)"
   ]
  }
 ],
 "metadata": {
  "hide_input": false,
  "kernelspec": {
   "display_name": "Python 3",
   "language": "python",
   "name": "python3"
  },
  "language_info": {
   "codemirror_mode": {
    "name": "ipython",
    "version": 3
   },
   "file_extension": ".py",
   "mimetype": "text/x-python",
   "name": "python",
   "nbconvert_exporter": "python",
   "pygments_lexer": "ipython3",
   "version": "3.7.6"
  }
 },
 "nbformat": 4,
 "nbformat_minor": 2
}
