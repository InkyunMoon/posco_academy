{
 "cells": [
  {
   "cell_type": "markdown",
   "metadata": {},
   "source": [
    "## 통계 1일차 과제\n",
    "### 1번 과제 - 28페이지"
   ]
  },
  {
   "cell_type": "markdown",
   "metadata": {},
   "source": [
    "다음 데이터는 자동차의 모델과 연비(mpg)에 대한 자료를 조사한 Table입니다. 이 범주형 데이터에 대해 counts, percents, cumulative counts, cumulative percents를 계산 바랍니다.(data.set : mycars.csv)"
   ]
  },
  {
   "cell_type": "code",
   "execution_count": 45,
   "metadata": {},
   "outputs": [],
   "source": [
    "import pandas as pd\n",
    "import numpy as np\n",
    "from scipy import stats\n",
    "\n",
    "df_cars = pd.read_csv('/home/piai/Downloads/data_stats/mycars.csv')"
   ]
  },
  {
   "cell_type": "code",
   "execution_count": 46,
   "metadata": {},
   "outputs": [
    {
     "data": {
      "text/html": [
       "<div>\n",
       "<style scoped>\n",
       "    .dataframe tbody tr th:only-of-type {\n",
       "        vertical-align: middle;\n",
       "    }\n",
       "\n",
       "    .dataframe tbody tr th {\n",
       "        vertical-align: top;\n",
       "    }\n",
       "\n",
       "    .dataframe thead th {\n",
       "        text-align: right;\n",
       "    }\n",
       "</style>\n",
       "<table border=\"1\" class=\"dataframe\">\n",
       "  <thead>\n",
       "    <tr style=\"text-align: right;\">\n",
       "      <th></th>\n",
       "      <th>manufacturer</th>\n",
       "      <th>model</th>\n",
       "      <th>displacement</th>\n",
       "      <th>year</th>\n",
       "      <th>cylinder</th>\n",
       "      <th>automatic</th>\n",
       "      <th>driving</th>\n",
       "      <th>mpg</th>\n",
       "      <th>highway_mileage</th>\n",
       "      <th>fuel</th>\n",
       "      <th>class</th>\n",
       "    </tr>\n",
       "  </thead>\n",
       "  <tbody>\n",
       "    <tr>\n",
       "      <th>0</th>\n",
       "      <td>audi</td>\n",
       "      <td>a4</td>\n",
       "      <td>1.8</td>\n",
       "      <td>1999</td>\n",
       "      <td>4</td>\n",
       "      <td>auto</td>\n",
       "      <td>f</td>\n",
       "      <td>18</td>\n",
       "      <td>29</td>\n",
       "      <td>p</td>\n",
       "      <td>compact</td>\n",
       "    </tr>\n",
       "    <tr>\n",
       "      <th>1</th>\n",
       "      <td>audi</td>\n",
       "      <td>a4</td>\n",
       "      <td>1.8</td>\n",
       "      <td>1999</td>\n",
       "      <td>4</td>\n",
       "      <td>manual</td>\n",
       "      <td>f</td>\n",
       "      <td>21</td>\n",
       "      <td>29</td>\n",
       "      <td>p</td>\n",
       "      <td>compact</td>\n",
       "    </tr>\n",
       "    <tr>\n",
       "      <th>2</th>\n",
       "      <td>audi</td>\n",
       "      <td>a4</td>\n",
       "      <td>2.0</td>\n",
       "      <td>2008</td>\n",
       "      <td>4</td>\n",
       "      <td>manual</td>\n",
       "      <td>f</td>\n",
       "      <td>20</td>\n",
       "      <td>31</td>\n",
       "      <td>p</td>\n",
       "      <td>compact</td>\n",
       "    </tr>\n",
       "    <tr>\n",
       "      <th>3</th>\n",
       "      <td>audi</td>\n",
       "      <td>a4</td>\n",
       "      <td>2.0</td>\n",
       "      <td>2008</td>\n",
       "      <td>4</td>\n",
       "      <td>auto</td>\n",
       "      <td>f</td>\n",
       "      <td>21</td>\n",
       "      <td>30</td>\n",
       "      <td>p</td>\n",
       "      <td>compact</td>\n",
       "    </tr>\n",
       "    <tr>\n",
       "      <th>4</th>\n",
       "      <td>audi</td>\n",
       "      <td>a4</td>\n",
       "      <td>2.8</td>\n",
       "      <td>1999</td>\n",
       "      <td>6</td>\n",
       "      <td>auto</td>\n",
       "      <td>f</td>\n",
       "      <td>16</td>\n",
       "      <td>26</td>\n",
       "      <td>p</td>\n",
       "      <td>compact</td>\n",
       "    </tr>\n",
       "  </tbody>\n",
       "</table>\n",
       "</div>"
      ],
      "text/plain": [
       "  manufacturer model  displacement  year  cylinder automatic driving  mpg  \\\n",
       "0         audi    a4           1.8  1999         4      auto       f   18   \n",
       "1         audi    a4           1.8  1999         4    manual       f   21   \n",
       "2         audi    a4           2.0  2008         4    manual       f   20   \n",
       "3         audi    a4           2.0  2008         4      auto       f   21   \n",
       "4         audi    a4           2.8  1999         6      auto       f   16   \n",
       "\n",
       "   highway_mileage fuel    class  \n",
       "0               29    p  compact  \n",
       "1               29    p  compact  \n",
       "2               31    p  compact  \n",
       "3               30    p  compact  \n",
       "4               26    p  compact  "
      ]
     },
     "execution_count": 46,
     "metadata": {},
     "output_type": "execute_result"
    }
   ],
   "source": [
    "df_cars.head()"
   ]
  },
  {
   "cell_type": "code",
   "execution_count": 47,
   "metadata": {
    "scrolled": true
   },
   "outputs": [
    {
     "name": "stdout",
     "output_type": "stream",
     "text": [
      "caravan 2wd               11\n",
      "ram 1500 pickup 4wd       10\n",
      "civic                      9\n",
      "dakota pickup 4wd          9\n",
      "mustang                    9\n",
      "jetta                      9\n",
      "grand cherokee 4wd         8\n",
      "a4 quattro                 8\n",
      "impreza awd                8\n",
      "passat                     7\n",
      "f150 pickup 4wd            7\n",
      "camry                      7\n",
      "sonata                     7\n",
      "toyota tacoma 4wd          7\n",
      "durango 4wd                7\n",
      "camry solara               7\n",
      "a4                         7\n",
      "tiburon                    7\n",
      "altima                     6\n",
      "explorer 4wd               6\n",
      "new beetle                 6\n",
      "4runner 4wd                6\n",
      "forester awd               6\n",
      "grand prix                 5\n",
      "corolla                    5\n",
      "malibu                     5\n",
      "corvette                   5\n",
      "c1500 suburban 2wd         5\n",
      "gti                        5\n",
      "k1500 tahoe 4wd            4\n",
      "mountaineer 4wd            4\n",
      "pathfinder 4wd             4\n",
      "range rover                4\n",
      "a6 quattro                 3\n",
      "expedition 2wd             3\n",
      "navigator 2wd              3\n",
      "maxima                     3\n",
      "land cruiser wagon 4wd     2\n",
      "Name: model, dtype: int64\n"
     ]
    }
   ],
   "source": [
    "# counts\n",
    "count = df_cars['model'].value_counts()\n",
    "print(count)"
   ]
  },
  {
   "cell_type": "code",
   "execution_count": 48,
   "metadata": {
    "scrolled": true
   },
   "outputs": [
    {
     "name": "stdout",
     "output_type": "stream",
     "text": [
      "caravan 2wd                11\n",
      "ram 1500 pickup 4wd        21\n",
      "civic                      30\n",
      "dakota pickup 4wd          39\n",
      "mustang                    48\n",
      "jetta                      57\n",
      "grand cherokee 4wd         65\n",
      "a4 quattro                 73\n",
      "impreza awd                81\n",
      "passat                     88\n",
      "f150 pickup 4wd            95\n",
      "camry                     102\n",
      "sonata                    109\n",
      "toyota tacoma 4wd         116\n",
      "durango 4wd               123\n",
      "camry solara              130\n",
      "a4                        137\n",
      "tiburon                   144\n",
      "altima                    150\n",
      "explorer 4wd              156\n",
      "new beetle                162\n",
      "4runner 4wd               168\n",
      "forester awd              174\n",
      "grand prix                179\n",
      "corolla                   184\n",
      "malibu                    189\n",
      "corvette                  194\n",
      "c1500 suburban 2wd        199\n",
      "gti                       204\n",
      "k1500 tahoe 4wd           208\n",
      "mountaineer 4wd           212\n",
      "pathfinder 4wd            216\n",
      "range rover               220\n",
      "a6 quattro                223\n",
      "expedition 2wd            226\n",
      "navigator 2wd             229\n",
      "maxima                    232\n",
      "land cruiser wagon 4wd    234\n",
      "Name: model, dtype: int64\n"
     ]
    }
   ],
   "source": [
    "# cumulative counts\n",
    "cumcnt = np.cumsum(count)\n",
    "print(cumcnt)"
   ]
  },
  {
   "cell_type": "code",
   "execution_count": 50,
   "metadata": {
    "scrolled": true
   },
   "outputs": [
    {
     "name": "stdout",
     "output_type": "stream",
     "text": [
      "caravan 2wd               4.700855\n",
      "ram 1500 pickup 4wd       4.273504\n",
      "civic                     3.846154\n",
      "dakota pickup 4wd         3.846154\n",
      "mustang                   3.846154\n",
      "jetta                     3.846154\n",
      "grand cherokee 4wd        3.418803\n",
      "a4 quattro                3.418803\n",
      "impreza awd               3.418803\n",
      "passat                    2.991453\n",
      "f150 pickup 4wd           2.991453\n",
      "camry                     2.991453\n",
      "sonata                    2.991453\n",
      "toyota tacoma 4wd         2.991453\n",
      "durango 4wd               2.991453\n",
      "camry solara              2.991453\n",
      "a4                        2.991453\n",
      "tiburon                   2.991453\n",
      "altima                    2.564103\n",
      "explorer 4wd              2.564103\n",
      "new beetle                2.564103\n",
      "4runner 4wd               2.564103\n",
      "forester awd              2.564103\n",
      "grand prix                2.136752\n",
      "corolla                   2.136752\n",
      "malibu                    2.136752\n",
      "corvette                  2.136752\n",
      "c1500 suburban 2wd        2.136752\n",
      "gti                       2.136752\n",
      "k1500 tahoe 4wd           1.709402\n",
      "mountaineer 4wd           1.709402\n",
      "pathfinder 4wd            1.709402\n",
      "range rover               1.709402\n",
      "a6 quattro                1.282051\n",
      "expedition 2wd            1.282051\n",
      "navigator 2wd             1.282051\n",
      "maxima                    1.282051\n",
      "land cruiser wagon 4wd    0.854701\n",
      "Name: model, dtype: float64\n"
     ]
    }
   ],
   "source": [
    "# percents\n",
    "percent = count/sum(count) *100\n",
    "print(percent)"
   ]
  },
  {
   "cell_type": "code",
   "execution_count": 51,
   "metadata": {},
   "outputs": [
    {
     "data": {
      "text/plain": [
       "caravan 2wd                 4.700855\n",
       "ram 1500 pickup 4wd         8.974359\n",
       "civic                      12.820513\n",
       "dakota pickup 4wd          16.666667\n",
       "mustang                    20.512821\n",
       "jetta                      24.358974\n",
       "grand cherokee 4wd         27.777778\n",
       "a4 quattro                 31.196581\n",
       "impreza awd                34.615385\n",
       "passat                     37.606838\n",
       "f150 pickup 4wd            40.598291\n",
       "camry                      43.589744\n",
       "sonata                     46.581197\n",
       "toyota tacoma 4wd          49.572650\n",
       "durango 4wd                52.564103\n",
       "camry solara               55.555556\n",
       "a4                         58.547009\n",
       "tiburon                    61.538462\n",
       "altima                     64.102564\n",
       "explorer 4wd               66.666667\n",
       "new beetle                 69.230769\n",
       "4runner 4wd                71.794872\n",
       "forester awd               74.358974\n",
       "grand prix                 76.495726\n",
       "corolla                    78.632479\n",
       "malibu                     80.769231\n",
       "corvette                   82.905983\n",
       "c1500 suburban 2wd         85.042735\n",
       "gti                        87.179487\n",
       "k1500 tahoe 4wd            88.888889\n",
       "mountaineer 4wd            90.598291\n",
       "pathfinder 4wd             92.307692\n",
       "range rover                94.017094\n",
       "a6 quattro                 95.299145\n",
       "expedition 2wd             96.581197\n",
       "navigator 2wd              97.863248\n",
       "maxima                     99.145299\n",
       "land cruiser wagon 4wd    100.000000\n",
       "Name: model, dtype: float64"
      ]
     },
     "execution_count": 51,
     "metadata": {},
     "output_type": "execute_result"
    }
   ],
   "source": [
    "# cumulative percents\n",
    "cumpct = np.cumsum(percent)\n",
    "cumpct"
   ]
  },
  {
   "cell_type": "markdown",
   "metadata": {},
   "source": [
    "### 2번 과제 - 45페이지"
   ]
  },
  {
   "cell_type": "markdown",
   "metadata": {},
   "source": [
    "어떤 자동차 1리터당 주행거리가 평균 12km, 표준편차 3km인 정규분포를 이룬다.  \n",
    "1) 1리터를 가지고 9km 이상 15km 이하를 달릴 확률은 얼마인가요?"
   ]
  },
  {
   "cell_type": "code",
   "execution_count": 52,
   "metadata": {},
   "outputs": [
    {
     "name": "stdout",
     "output_type": "stream",
     "text": [
      "1리터를 가지고 9km 이상 15km 이하를 달릴 확률은 얼마인가요?\n",
      "답은 0.683 입니다.\n"
     ]
    }
   ],
   "source": [
    "mean_ = 12\n",
    "dev_ = 3\n",
    "\n",
    "# 1)\n",
    "# prob1: 누적확률 15이하 값 계산\n",
    "\n",
    "x1 = 15\n",
    "prob1 = stats.norm.cdf(x1, mean_, dev_)\n",
    "\n",
    "# prob2: 누적확률 9이하 값 계산\n",
    "\n",
    "x2 = 9\n",
    "prob2 = stats.norm.cdf(x2, mean_, dev_)\n",
    "\n",
    "print('1리터를 가지고 9km 이상 15km 이하를 달릴 확률은 얼마인가요?\\n답은', round(prob1 - prob2,3), '입니다.')"
   ]
  },
  {
   "cell_type": "markdown",
   "metadata": {},
   "source": [
    "2) 1리터를 가지고 15km 이상을 달릴 확률은 얼마인가요?"
   ]
  },
  {
   "cell_type": "code",
   "execution_count": 53,
   "metadata": {},
   "outputs": [
    {
     "name": "stdout",
     "output_type": "stream",
     "text": [
      "1리터를 가지고 15km 이상을 달릴 확률은 얼마인가요?\n",
      "답은 0.159 입니다.\n"
     ]
    }
   ],
   "source": [
    "# prob3: 누적확률 15이상 값 계산\n",
    "\n",
    "x3 = 15\n",
    "prob3 = 1 - stats.norm.cdf(x3, mean_, dev_)\n",
    "\n",
    "print('1리터를 가지고 15km 이상을 달릴 확률은 얼마인가요?\\n답은', round(prob3,3),'입니다.')"
   ]
  },
  {
   "cell_type": "code",
   "execution_count": null,
   "metadata": {},
   "outputs": [],
   "source": []
  }
 ],
 "metadata": {
  "kernelspec": {
   "display_name": "Python 3",
   "language": "python",
   "name": "python3"
  },
  "language_info": {
   "codemirror_mode": {
    "name": "ipython",
    "version": 3
   },
   "file_extension": ".py",
   "mimetype": "text/x-python",
   "name": "python",
   "nbconvert_exporter": "python",
   "pygments_lexer": "ipython3",
   "version": "3.8.3"
  }
 },
 "nbformat": 4,
 "nbformat_minor": 4
}
