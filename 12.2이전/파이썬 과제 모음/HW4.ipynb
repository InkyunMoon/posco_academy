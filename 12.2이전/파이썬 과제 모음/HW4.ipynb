{
 "cells": [
  {
   "cell_type": "markdown",
   "metadata": {},
   "source": [
    "과제1"
   ]
  },
  {
   "cell_type": "code",
   "execution_count": 1,
   "metadata": {},
   "outputs": [],
   "source": [
    "def check_prime(num):\n",
    "    count = 0\n",
    "    for n in range(2,num+1):\n",
    "        if num % n == 0:\n",
    "            count += 1\n",
    "        \n",
    "    if count == 1:\n",
    "        return True\n",
    "    else:\n",
    "        return False\n",
    "\n",
    "def main():\n",
    "    a = 13\n",
    "    b = 15\n",
    "    \n",
    "    if check_prime(a):\n",
    "        print(str(a)+'(은)는 소수입니다.')\n",
    "    else:\n",
    "        print(str(a)+'(은)는 소수가 아닙니다.')\n",
    "    \n",
    "    if check_prime(b):\n",
    "        print(str(b)+'(은)는 소수입니다.')\n",
    "    else:\n",
    "        print(str(b)+'(은)는 소수가 아닙니다.')"
   ]
  },
  {
   "cell_type": "code",
   "execution_count": 11,
   "metadata": {},
   "outputs": [
    {
     "data": {
      "text/plain": [
       "False"
      ]
     },
     "execution_count": 11,
     "metadata": {},
     "output_type": "execute_result"
    }
   ],
   "source": [
    "check_prime(1)"
   ]
  },
  {
   "cell_type": "markdown",
   "metadata": {},
   "source": [
    "과제2"
   ]
  },
  {
   "cell_type": "code",
   "execution_count": 12,
   "metadata": {},
   "outputs": [],
   "source": [
    "def add_comma(val):\n",
    "    str_val = str(val)\n",
    "\n",
    "    no_comma = len(str_val) // 3\n",
    "    temp_lst = []    \n",
    "\n",
    "    if no_comma == 0:\n",
    "        return str_val\n",
    "    \n",
    "    else:\n",
    "        while no_comma != 0:\n",
    "            temp_lst.append(str_val[-3:])\n",
    "            str_val = str_val[:-3]\n",
    "\n",
    "            if len(str_val) <= 2:\n",
    "                temp_lst.append(str_val)\n",
    "\n",
    "            no_comma -= 1\n",
    "\n",
    "    return ','.join(reversed(temp_lst))\n",
    "        \n",
    "def main():\n",
    "    comma_added_1234 = add_comma(1234)\n",
    "    comma_added_12345678 = add_comma(12345678)\n",
    "    comma_added_12 = add_comma(12)\n",
    "    print(comma_added_1234) # '1,234'\n",
    "    print(comma_added_12345678) # '12,345,678'\n",
    "    print(comma_added_12) # '12'"
   ]
  },
  {
   "cell_type": "code",
   "execution_count": 13,
   "metadata": {
    "scrolled": true
   },
   "outputs": [
    {
     "name": "stdout",
     "output_type": "stream",
     "text": [
      "1,234\n",
      "12,345,678\n",
      "12\n"
     ]
    }
   ],
   "source": [
    "main()"
   ]
  },
  {
   "cell_type": "markdown",
   "metadata": {},
   "source": [
    "과제3"
   ]
  },
  {
   "cell_type": "code",
   "execution_count": 5,
   "metadata": {},
   "outputs": [],
   "source": [
    "def tokenize(trg, N=1):\n",
    "    trg = trg.split()\n",
    "    temp_lst = []\n",
    "    \n",
    "    for s_idx in range(len(trg) - (N-1)):\n",
    "        temp_lst.append(trg[s_idx:s_idx+N])\n",
    "\n",
    "    result_lst = []\n",
    "    \n",
    "    for i in temp_lst:\n",
    "        result_lst.append(' '.join(i))\n",
    "\n",
    "    return result_lst\n",
    "\n",
    "def main():\n",
    "    a = 'There was a farmer who had a dog .'\n",
    "    print(tokenize(a))\n",
    "    print(tokenize(a, 2))"
   ]
  },
  {
   "cell_type": "code",
   "execution_count": 6,
   "metadata": {},
   "outputs": [
    {
     "name": "stdout",
     "output_type": "stream",
     "text": [
      "['There', 'was', 'a', 'farmer', 'who', 'had', 'a', 'dog', '.']\n",
      "['There was', 'was a', 'a farmer', 'farmer who', 'who had', 'had a', 'a dog', 'dog .']\n"
     ]
    }
   ],
   "source": [
    "main()"
   ]
  },
  {
   "cell_type": "markdown",
   "metadata": {},
   "source": [
    "과제4"
   ]
  },
  {
   "cell_type": "code",
   "execution_count": 7,
   "metadata": {},
   "outputs": [],
   "source": [
    "def mean_and_var(*val):\n",
    "    first = []\n",
    "    second = []\n",
    "    for v in val:\n",
    "        first.append(v[0])\n",
    "        second.append(v[1])\n",
    "\n",
    "    m1, m2 = sum(first)/len(first), sum(second)/len(second)\n",
    "    \n",
    "    temp1 = [x-y for x, y in zip(first, [m1]*len(val))]\n",
    "    var1 = sum([x**2 for x in temp1]) / len(temp1)\n",
    "    temp2 = [x-y for x, y in zip(second, [m2]*len(val))]\n",
    "    var2 = sum([x**2 for x in temp2]) / len(temp2)\n",
    "    \n",
    "    mean_lst = [m1,m2]\n",
    "    var_lst = [var1,var2]\n",
    "    \n",
    "    return mean_lst, var_lst\n",
    "\n",
    "def main():\n",
    "    v1 = (0, 1)\n",
    "    v2 = (0.5, 0.5)\n",
    "    v3 = (1, 0)\n",
    "    m, var = mean_and_var(v1, v2, v3)\n",
    "    print('평균: ', m)\n",
    "    print('분산: ', var)"
   ]
  },
  {
   "cell_type": "code",
   "execution_count": 8,
   "metadata": {},
   "outputs": [
    {
     "name": "stdout",
     "output_type": "stream",
     "text": [
      "평균:  [0.5, 0.5]\n",
      "분산:  [0.16666666666666666, 0.16666666666666666]\n"
     ]
    }
   ],
   "source": [
    "main()"
   ]
  },
  {
   "cell_type": "code",
   "execution_count": null,
   "metadata": {},
   "outputs": [],
   "source": []
  }
 ],
 "metadata": {
  "hide_input": false,
  "kernelspec": {
   "display_name": "Python 3",
   "language": "python",
   "name": "python3"
  },
  "language_info": {
   "codemirror_mode": {
    "name": "ipython",
    "version": 3
   },
   "file_extension": ".py",
   "mimetype": "text/x-python",
   "name": "python",
   "nbconvert_exporter": "python",
   "pygments_lexer": "ipython3",
   "version": "3.7.9"
  }
 },
 "nbformat": 4,
 "nbformat_minor": 4
}
