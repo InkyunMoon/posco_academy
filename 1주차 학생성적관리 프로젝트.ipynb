{
 "cells": [
  {
   "cell_type": "code",
   "execution_count": 55,
   "metadata": {},
   "outputs": [],
   "source": [
    "import numpy as np"
   ]
  },
  {
   "cell_type": "code",
   "execution_count": 1,
   "metadata": {},
   "outputs": [],
   "source": [
    "path = 'C:/Users/moon/Documents/github/posco_academy/'\n",
    "with open(path + 'students.txt', 'r') as f:\n",
    "    students = f.readlines()"
   ]
  },
  {
   "cell_type": "code",
   "execution_count": 2,
   "metadata": {},
   "outputs": [],
   "source": [
    "student_list = []\n",
    "for student in students:\n",
    "    student = student.split()\n",
    "    name = student[1] + ' ' + student[2]\n",
    "    student_list.append([int(student[0]),name,int(student[3]),int(student[4])])"
   ]
  },
  {
   "cell_type": "code",
   "execution_count": 3,
   "metadata": {},
   "outputs": [],
   "source": [
    "def mean_grade(score_list,get=True): # 리스트 요소 하나씩(리스트형태)을 넣어준다.\n",
    "    mean = (score_list[2] + score_list[3])/2\n",
    "    if mean >= 90:\n",
    "        grade = 'A'\n",
    "    elif (mean >= 80) & (mean < 90):\n",
    "        grade = 'B'\n",
    "    elif (mean >= 70) & (mean < 80):\n",
    "        grade = 'C'\n",
    "    elif (mean >= 60) & (mean < 70):\n",
    "        grade = 'D'\n",
    "    else:\n",
    "        grade = 'F'\n",
    "\n",
    "    score_list.append(mean)\n",
    "    score_list.append(grade)\n",
    "    if get==True:\n",
    "        return score_list"
   ]
  },
  {
   "cell_type": "code",
   "execution_count": 4,
   "metadata": {},
   "outputs": [
    {
     "data": {
      "text/plain": [
       "[[20180002, 'Lee Jieun', 92, 89, 90.5, 'A'],\n",
       " [20180009, 'Lee Yeonghee', 81, 84, 82.5, 'B'],\n",
       " [20180001, 'Hong Gildong', 84, 73, 78.5, 'C'],\n",
       " [20180011, 'Ha Donghun', 58, 68, 63.0, 'D'],\n",
       " [20180007, 'Kim Cheolsu', 57, 62, 59.5, 'F']]"
      ]
     },
     "execution_count": 4,
     "metadata": {},
     "output_type": "execute_result"
    }
   ],
   "source": [
    "result_list = []\n",
    "for student in student_list:\n",
    "    result_list.append(mean_grade(student))\n",
    "\n",
    "# 정렬\n",
    "result_list.sort(key = lambda x: x[3], reverse=True)\n",
    "result_list"
   ]
  },
  {
   "cell_type": "code",
   "execution_count": 5,
   "metadata": {},
   "outputs": [],
   "source": [
    "result_list.sort(key=lambda x:x[4], reverse=True)"
   ]
  },
  {
   "cell_type": "code",
   "execution_count": 6,
   "metadata": {},
   "outputs": [
    {
     "data": {
      "text/plain": [
       "[[20180002, 'Lee Jieun', 92, 89, 90.5, 'A'],\n",
       " [20180009, 'Lee Yeonghee', 81, 84, 82.5, 'B'],\n",
       " [20180001, 'Hong Gildong', 84, 73, 78.5, 'C'],\n",
       " [20180011, 'Ha Donghun', 58, 68, 63.0, 'D'],\n",
       " [20180007, 'Kim Cheolsu', 57, 62, 59.5, 'F']]"
      ]
     },
     "execution_count": 6,
     "metadata": {},
     "output_type": "execute_result"
    }
   ],
   "source": [
    "result_list"
   ]
  },
  {
   "cell_type": "code",
   "execution_count": 7,
   "metadata": {},
   "outputs": [],
   "source": [
    "def func_show():\n",
    "    result_list.sort(key=lambda x:x[4], reverse=True)\n",
    "    for row in result_list:\n",
    "        print(row[0],row[1],row[2],row[3],row[4],row[5], sep='\\t')"
   ]
  },
  {
   "cell_type": "code",
   "execution_count": 8,
   "metadata": {},
   "outputs": [],
   "source": [
    "def func_search(ID,get=False, print=True):\n",
    "    id_list = []\n",
    "    for row in result_list:\n",
    "        id_list.append(row[0])\n",
    "    if ID not in id_list:\n",
    "        print('NO SUCH PERSON.')\n",
    "    else:\n",
    "        idx =id_list.index(ID)\n",
    "        chosen_row = result_list[idx]\n",
    "#         print(chosen_row[0],chosen_row[1],chosen_row[2],chosen_row[3],chosen_row[4],chosen_row[5], sep='\\t')\n",
    "        if get == True:\n",
    "            return [chosen_row[0],chosen_row[1],chosen_row[2],chosen_row[3],chosen_row[4],chosen_row[5]]"
   ]
  },
  {
   "cell_type": "code",
   "execution_count": 9,
   "metadata": {
    "scrolled": true
   },
   "outputs": [],
   "source": [
    "def func_searchgrade(GRADE):\n",
    "    if GRADE not in ['A','B','C','D','F']:\n",
    "        pass\n",
    "    else:\n",
    "        idx_list = []\n",
    "        for idx, row in enumerate(result_list):\n",
    "            if GRADE == row[5]:\n",
    "                idx_list.append(idx)\n",
    "                if len(idx_list) == 0:\n",
    "                    print('NO RESULTS')\n",
    "        for i in idx_list:\n",
    "            func_search(result_list[i][0])"
   ]
  },
  {
   "cell_type": "code",
   "execution_count": 10,
   "metadata": {},
   "outputs": [],
   "source": [
    "# def func_quit():\n",
    "#     answer = input('Save data?[yes/no]')\n",
    "#     if answer == 'yes':\n",
    "# #         stu_df.sort_values(by='Average', inplace=True)\n",
    "# #         np.savetxt('newStudents.txt', stu_df, fmt='%s', delimiter=\"\\t\")\n",
    "# #         print('File name: %s' %('newStudents.txt'))\n",
    "#         sys.exit(0)\n",
    "#     elif answer == 'no':\n",
    "#         sys.exit(0)"
   ]
  },
  {
   "cell_type": "code",
   "execution_count": 11,
   "metadata": {},
   "outputs": [],
   "source": [
    "def func_remove(ID):\n",
    "    if ID not in [id[0] for id in result_list]:\n",
    "        print('NO SUCH PERSON')\n",
    "    else:\n",
    "        for idx, row in enumerate(result_list):\n",
    "            if ID == row[0]:\n",
    "                del result_list[idx]\n",
    "                print('Student removed')"
   ]
  },
  {
   "cell_type": "code",
   "execution_count": 12,
   "metadata": {},
   "outputs": [],
   "source": [
    "def func_add(ID):\n",
    "    if ID in [id[0] for id in result_list]:\n",
    "        print('ALREADY EXISTS.')\n",
    "    else:\n",
    "#         ID = int(input('Student ID: '))\n",
    "        NAME = input('Name: ')\n",
    "        MID = int(input('Midterm Score: '))\n",
    "        FINAL = int(input('Final Score: '))\n",
    "        \n",
    "        result_list.append(mean_grade([ID,NAME,MID,FINAL]))\n",
    "        print('Student added.')"
   ]
  },
  {
   "cell_type": "markdown",
   "metadata": {},
   "source": [
    "# 여기부터 해결"
   ]
  },
  {
   "cell_type": "code",
   "execution_count": 20,
   "metadata": {},
   "outputs": [],
   "source": [
    "def func_changescore2(ID):\n",
    "    if ID not in [id[0] for id in result_list]:\n",
    "        print('NO SUCH PERSON')\n",
    "    else:\n",
    "        idx = [id[0] for id in result_list].index(ID)\n",
    "    exam = input('Mid/Final?').lower()\n",
    "    if exam not in ['mid','final']:\n",
    "        pass\n",
    "    else:\n",
    "        new_score = int(input('Input new score: '))\n",
    "    if abs(new_score) < 100:\n",
    "        pass\n",
    "    \n",
    "    changed = mean_grade(func_search(ID, True))\n",
    "    print(changed[0], changed[1], changed[2], changed[3], changed[4], changed[5], sep='\\t')\n",
    "\n",
    "    if exam == 'mid':\n",
    "        changed = [changed[0], changed[1], new_score, changed[3], changed[4], changed[5]]\n",
    "        \n",
    "    elif exam == 'final':\n",
    "        changed = [changed[0], changed[1], changed[2], new_score ,changed[4], changed[5]]\n",
    "        \n",
    "    result_list[idx] = mean_grade(changed)\n",
    "    print('Score changed')\n",
    "    print(result_list[idx][0],result_list[idx][1],result_list[idx][2],result_list[idx][3],\\\n",
    "          result_list[idx][4],result_list[idx][5],sep='\\t')"
   ]
  },
  {
   "cell_type": "code",
   "execution_count": 57,
   "metadata": {},
   "outputs": [],
   "source": [
    "def quit():\n",
    "    answer = input('Save data?[yes/no]')\n",
    "    if answer == 'yes':\n",
    "        result_list.sort(key = lambda x: x[4])\n",
    "##         np.savetxt('newStudents.txt', result_list, fmt='%s', delimiter=\"\\t\")\n",
    "#         for line in result_list:\n",
    "#             with open(path+'newStudents.txt', 'w') as f:\n",
    "#                 f.write(line)\n",
    "        pass\n",
    "    else:\n",
    "        pass"
   ]
  },
  {
   "cell_type": "code",
   "execution_count": 58,
   "metadata": {},
   "outputs": [
    {
     "name": "stdout",
     "output_type": "stream",
     "text": [
      "# quit\n",
      "Save data?[yes/no]yes\n"
     ]
    }
   ],
   "source": [
    "func_list = ['show','search','changescore','searchgrade','add','remove','quit']\n",
    "while True:\n",
    "    param = input('# ').lower()\n",
    "# 1번 함수    \n",
    "    if param == 'show':\n",
    "        func_show()\n",
    "  \n",
    "    elif param == 'quit':\n",
    "        quit()\n",
    "        break\n",
    "#         answer = input('Save data?[yes/no]')\n",
    "#         if answer == 'yes':\n",
    "#             stu_df.sort_values(by='Average', inplace=True)\n",
    "#             np.savetxt('newStudents.txt', stu_df, fmt='%s', delimiter=\"\\t\")\n",
    "#             print('File name: %s' %('newStudents.txt'))\n",
    "#             break\n",
    "#         elif answer == 'no':\n",
    "#             break\n",
    "# 2번 함수\n",
    "    elif param == 'search':\n",
    "        ID = int(input('Student ID: '))\n",
    "        func_search(ID)\n",
    "    \n",
    "# 3번 함수\n",
    "    elif param == 'changescore':\n",
    "        ID = int(input('Student ID: '))\n",
    "        func_changescore2(ID)\n",
    "\n",
    "# 4번 함수\n",
    "    elif param == 'add':\n",
    "        ID = int(input('Student ID: '))\n",
    "        func_add(ID)\n",
    "        \n",
    "# 5번 함수\n",
    "    elif param == 'searchgrade':\n",
    "        GRADE = input('Grade to search:: ').upper()\n",
    "        func_searchgrade(GRADE)\n",
    "        \n",
    "# 6번 함수\n",
    "    elif param == 'remove':\n",
    "        ID = int(input('Student ID: '))\n",
    "        func_remove(ID)\n",
    "        \n",
    "# 7번 함수"
   ]
  },
  {
   "cell_type": "code",
   "execution_count": 38,
   "metadata": {},
   "outputs": [
    {
     "ename": "TypeError",
     "evalue": "write() argument must be str, not int",
     "output_type": "error",
     "traceback": [
      "\u001b[1;31m---------------------------------------------------------------------------\u001b[0m",
      "\u001b[1;31mTypeError\u001b[0m                                 Traceback (most recent call last)",
      "\u001b[1;32m<ipython-input-38-ac8ffdf56260>\u001b[0m in \u001b[0;36m<module>\u001b[1;34m\u001b[0m\n\u001b[0;32m      2\u001b[0m     \u001b[1;32mfor\u001b[0m \u001b[0mline\u001b[0m \u001b[1;32min\u001b[0m \u001b[0mresult_list\u001b[0m\u001b[1;33m:\u001b[0m\u001b[1;33m\u001b[0m\u001b[1;33m\u001b[0m\u001b[0m\n\u001b[0;32m      3\u001b[0m         \u001b[1;32mfor\u001b[0m \u001b[0mword\u001b[0m \u001b[1;32min\u001b[0m \u001b[0mline\u001b[0m\u001b[1;33m:\u001b[0m\u001b[1;33m\u001b[0m\u001b[1;33m\u001b[0m\u001b[0m\n\u001b[1;32m----> 4\u001b[1;33m             \u001b[0mf\u001b[0m\u001b[1;33m.\u001b[0m\u001b[0mwrite\u001b[0m\u001b[1;33m(\u001b[0m\u001b[0mword\u001b[0m\u001b[1;33m)\u001b[0m\u001b[1;33m\u001b[0m\u001b[1;33m\u001b[0m\u001b[0m\n\u001b[0m",
      "\u001b[1;31mTypeError\u001b[0m: write() argument must be str, not int"
     ]
    }
   ],
   "source": [
    "with open(path+'new.txt', 'w') as f:\n",
    "    for line in result_list:\n",
    "        for word in line:\n",
    "            f.write(word)"
   ]
  },
  {
   "cell_type": "code",
   "execution_count": 52,
   "metadata": {},
   "outputs": [
    {
     "name": "stdout",
     "output_type": "stream",
     "text": [
      "(20180007, '\\t', 'Kim Cheolsu', '\\t', 57, '\\t', 62, '\\t', 59.5, '\\t', 'F')\n",
      "(20180011, '\\t', 'Ha Donghun', '\\t', 58, '\\t', 68, '\\t', 63.0, '\\t', 'D')\n",
      "(20180001, '\\t', 'Hong Gildong', '\\t', 10, '\\t', 73, '\\t', 78.5, '\\t', 'C')\n",
      "(20180009, '\\t', 'Lee Yeonghee', '\\t', 81, '\\t', 84, '\\t', 82.5, '\\t', 'B')\n",
      "(20180002, '\\t', 'Lee Jieun', '\\t', 92, '\\t', 89, '\\t', 90.5, '\\t', 'A')\n"
     ]
    }
   ],
   "source": [
    "for line in result_list:\n",
    "    text = line[0],'\\t', line[1],'\\t', line[2],'\\t', line[3],'\\t', line[4],'\\t', line[5]\n",
    "    "
   ]
  },
  {
   "cell_type": "code",
   "execution_count": null,
   "metadata": {},
   "outputs": [],
   "source": []
  }
 ],
 "metadata": {
  "hide_input": false,
  "kernelspec": {
   "display_name": "Python 3",
   "language": "python",
   "name": "python3"
  },
  "language_info": {
   "codemirror_mode": {
    "name": "ipython",
    "version": 3
   },
   "file_extension": ".py",
   "mimetype": "text/x-python",
   "name": "python",
   "nbconvert_exporter": "python",
   "pygments_lexer": "ipython3",
   "version": "3.7.6"
  }
 },
 "nbformat": 4,
 "nbformat_minor": 4
}
