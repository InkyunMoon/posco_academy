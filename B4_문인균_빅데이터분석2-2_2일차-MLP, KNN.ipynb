{
 "cells": [
  {
   "cell_type": "markdown",
   "metadata": {},
   "source": [
    "- 데이터분석 후 단위를 유심히 봐야한다. 집값이 천만원정도 차이난다면 별것 아닌 것 같지만, 보스턴 집값 데이터는 70년대 데이터이다. 천만원은 엄청난 차이이다.\n",
    "- 혼동행렬 해석.\n",
    "- 여러 모델이 평가 척도가 다 비슷하게 나왔다. FP & FN중 분석자가 판단하에 어떤 것이 작은 것을 선택해야 할까?\n",
    "- 암환자 vs 스팸메일의 예\n",
    "- 환자가 아닌데 환자라고 예측한 경우 - 병원 입장에서는 +요인(진료비 수입), 환자 입장에서는 -이지만 엄청난 피해는 아니다.\n",
    "- 환자인데 환자 아니라고 예측한 경우 환자에 생명에 지장이 갈수도 있다.\n",
    "- 스팸메일아닌데 스팸메일이라고 하는 경우 - 중요 메일을 놓칠 수 있다.\n",
    "- 스팸메일인데 스팸메일아니라고 하는 경우 - 내가 잠시 귀찮을 뿐..."
   ]
  },
  {
   "cell_type": "markdown",
   "metadata": {},
   "source": [
    "- 데이터를 손대지 않았을때와 랜덤하게 섞었을 때 오차의 거리가 가깝다 - 중요도가 높다.\n",
    "- 거리가 멀다 - 중요도가 높다."
   ]
  },
  {
   "cell_type": "markdown",
   "metadata": {},
   "source": [
    "-  데이터에 중복값이 있는 경우, 스플릿 과정에서 트레인과 테스트 데이터로 나누어져 각각의 스코어가 높게 나오는 경우가 발생한다.\n",
    "- 결측치, 이상치, 중복값에 대한 처리를 정확히 하도록 하자."
   ]
  },
  {
   "cell_type": "markdown",
   "metadata": {},
   "source": [
    "### KNN"
   ]
  },
  {
   "cell_type": "code",
   "execution_count": null,
   "metadata": {},
   "outputs": [],
   "source": []
  }
 ],
 "metadata": {
  "kernelspec": {
   "display_name": "Python 3",
   "language": "python",
   "name": "python3"
  },
  "language_info": {
   "codemirror_mode": {
    "name": "ipython",
    "version": 3
   },
   "file_extension": ".py",
   "mimetype": "text/x-python",
   "name": "python",
   "nbconvert_exporter": "python",
   "pygments_lexer": "ipython3",
   "version": "3.8.5"
  }
 },
 "nbformat": 4,
 "nbformat_minor": 4
}
