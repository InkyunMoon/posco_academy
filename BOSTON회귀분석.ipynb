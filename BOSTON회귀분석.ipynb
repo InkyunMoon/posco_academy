{
 "cells": [
  {
   "cell_type": "code",
   "execution_count": 1,
   "metadata": {},
   "outputs": [],
   "source": [
    "import pandas as pd\n",
    "import matplotlib.pyplot as plt\n",
    "import matplotlib\n",
    "import numpy as np\n",
    "import seaborn as sns\n",
    "import statsmodels.formula.api as smf\n",
    "from statsmodels.api import qqplot, add_constant\n",
    "from statsmodels.stats.outliers_influence import variance_inflation_factor\n",
    "from sklearn.linear_model import LinearRegression\n",
    "from sklearn.feature_selection import RFE\n",
    "from sklearn.preprocessing import StandardScaler\n",
    "from sklearn.model_selection import train_test_split\n",
    "from sklearn.neural_network import MLPClassifier\n",
    "from sklearn.ensemble import RandomForestRegressor\n",
    "from sklearn.neighbors import KNeighborsClassifier\n",
    "from sklearn.model_selection import GridSearchCV\n",
    "from sklearn.model_selection import RandomizedSearchCV \n",
    "from scipy.stats import randint\n",
    "\n",
    "from sklearn.metrics import confusion_matrix "
   ]
  },
  {
   "cell_type": "markdown",
   "metadata": {},
   "source": [
    "- MEDV : 주택가격(중앙값)\n",
    "- CRIM : 범죄율\n",
    "- ZN : 주거지 비율\n",
    "- INDUS : 비소매업 비율\n",
    "- CHAS : 강 조망 여부(1-조망,0-비조망)\n",
    "- NOX : 산화질소 농도\n",
    "- RM : 주거당 평균 객실 수\n",
    "- AGE : 노후 건물 비율\n",
    "- DIS : 중심지(노동센터) 접근 거리\n",
    "- RAD : 고속도로 접근 편이성 지수\n",
    "- TAX : 재산세율\n",
    "- PTRATIO : 학생당 교사 비율\n",
    "- B : 흑인 인구 비율\n",
    "- LSTAT : 저소득층 비율"
   ]
  },
  {
   "cell_type": "code",
   "execution_count": 23,
   "metadata": {
    "scrolled": false
   },
   "outputs": [],
   "source": [
    "df_raw = pd.read_csv('/home/piai/test/과제/boston.csv',engine='python',encoding='CP949')"
   ]
  },
  {
   "cell_type": "code",
   "execution_count": 24,
   "metadata": {},
   "outputs": [
    {
     "data": {
      "text/html": [
       "<div>\n",
       "<style scoped>\n",
       "    .dataframe tbody tr th:only-of-type {\n",
       "        vertical-align: middle;\n",
       "    }\n",
       "\n",
       "    .dataframe tbody tr th {\n",
       "        vertical-align: top;\n",
       "    }\n",
       "\n",
       "    .dataframe thead th {\n",
       "        text-align: right;\n",
       "    }\n",
       "</style>\n",
       "<table border=\"1\" class=\"dataframe\">\n",
       "  <thead>\n",
       "    <tr style=\"text-align: right;\">\n",
       "      <th></th>\n",
       "      <th>MEDV</th>\n",
       "      <th>CRIM</th>\n",
       "      <th>ZN</th>\n",
       "      <th>INDUS</th>\n",
       "      <th>CHAS</th>\n",
       "      <th>NOX</th>\n",
       "      <th>RM</th>\n",
       "      <th>AGE</th>\n",
       "      <th>DIS</th>\n",
       "      <th>RAD</th>\n",
       "      <th>TAX</th>\n",
       "      <th>PTRATIO</th>\n",
       "      <th>B</th>\n",
       "      <th>LSTAT</th>\n",
       "    </tr>\n",
       "  </thead>\n",
       "  <tbody>\n",
       "    <tr>\n",
       "      <th>0</th>\n",
       "      <td>24.000000</td>\n",
       "      <td>0.00632</td>\n",
       "      <td>18.0</td>\n",
       "      <td>2.31</td>\n",
       "      <td>0</td>\n",
       "      <td>0.538</td>\n",
       "      <td>6.575</td>\n",
       "      <td>65.199997</td>\n",
       "      <td>4.0900</td>\n",
       "      <td>1</td>\n",
       "      <td>2</td>\n",
       "      <td>15.300000</td>\n",
       "      <td>396.899994</td>\n",
       "      <td>4.98</td>\n",
       "    </tr>\n",
       "    <tr>\n",
       "      <th>1</th>\n",
       "      <td>21.600000</td>\n",
       "      <td>0.02731</td>\n",
       "      <td>0.0</td>\n",
       "      <td>7.07</td>\n",
       "      <td>0</td>\n",
       "      <td>0.469</td>\n",
       "      <td>6.421</td>\n",
       "      <td>78.900002</td>\n",
       "      <td>4.9671</td>\n",
       "      <td>1</td>\n",
       "      <td>1</td>\n",
       "      <td>17.799999</td>\n",
       "      <td>396.899994</td>\n",
       "      <td>9.14</td>\n",
       "    </tr>\n",
       "    <tr>\n",
       "      <th>2</th>\n",
       "      <td>34.700001</td>\n",
       "      <td>0.02729</td>\n",
       "      <td>0.0</td>\n",
       "      <td>7.07</td>\n",
       "      <td>0</td>\n",
       "      <td>0.469</td>\n",
       "      <td>7.185</td>\n",
       "      <td>61.099998</td>\n",
       "      <td>4.9671</td>\n",
       "      <td>1</td>\n",
       "      <td>1</td>\n",
       "      <td>17.799999</td>\n",
       "      <td>392.829987</td>\n",
       "      <td>4.03</td>\n",
       "    </tr>\n",
       "    <tr>\n",
       "      <th>3</th>\n",
       "      <td>33.400002</td>\n",
       "      <td>0.03237</td>\n",
       "      <td>0.0</td>\n",
       "      <td>2.18</td>\n",
       "      <td>0</td>\n",
       "      <td>0.458</td>\n",
       "      <td>6.998</td>\n",
       "      <td>45.799999</td>\n",
       "      <td>6.0622</td>\n",
       "      <td>1</td>\n",
       "      <td>1</td>\n",
       "      <td>18.700001</td>\n",
       "      <td>394.630005</td>\n",
       "      <td>2.94</td>\n",
       "    </tr>\n",
       "    <tr>\n",
       "      <th>4</th>\n",
       "      <td>36.200001</td>\n",
       "      <td>0.06905</td>\n",
       "      <td>0.0</td>\n",
       "      <td>2.18</td>\n",
       "      <td>0</td>\n",
       "      <td>0.458</td>\n",
       "      <td>7.147</td>\n",
       "      <td>54.200001</td>\n",
       "      <td>6.0622</td>\n",
       "      <td>1</td>\n",
       "      <td>1</td>\n",
       "      <td>18.700001</td>\n",
       "      <td>396.899994</td>\n",
       "      <td>5.33</td>\n",
       "    </tr>\n",
       "  </tbody>\n",
       "</table>\n",
       "</div>"
      ],
      "text/plain": [
       "        MEDV     CRIM    ZN  INDUS  CHAS    NOX     RM        AGE     DIS  \\\n",
       "0  24.000000  0.00632  18.0   2.31     0  0.538  6.575  65.199997  4.0900   \n",
       "1  21.600000  0.02731   0.0   7.07     0  0.469  6.421  78.900002  4.9671   \n",
       "2  34.700001  0.02729   0.0   7.07     0  0.469  7.185  61.099998  4.9671   \n",
       "3  33.400002  0.03237   0.0   2.18     0  0.458  6.998  45.799999  6.0622   \n",
       "4  36.200001  0.06905   0.0   2.18     0  0.458  7.147  54.200001  6.0622   \n",
       "\n",
       "   RAD  TAX    PTRATIO           B  LSTAT  \n",
       "0    1    2  15.300000  396.899994   4.98  \n",
       "1    1    1  17.799999  396.899994   9.14  \n",
       "2    1    1  17.799999  392.829987   4.03  \n",
       "3    1    1  18.700001  394.630005   2.94  \n",
       "4    1    1  18.700001  396.899994   5.33  "
      ]
     },
     "execution_count": 24,
     "metadata": {},
     "output_type": "execute_result"
    }
   ],
   "source": [
    "df_raw.head()"
   ]
  },
  {
   "cell_type": "code",
   "execution_count": 25,
   "metadata": {},
   "outputs": [
    {
     "name": "stdout",
     "output_type": "stream",
     "text": [
      "<class 'pandas.core.frame.DataFrame'>\n",
      "RangeIndex: 493 entries, 0 to 492\n",
      "Data columns (total 14 columns):\n",
      " #   Column   Non-Null Count  Dtype  \n",
      "---  ------   --------------  -----  \n",
      " 0   MEDV     493 non-null    float64\n",
      " 1   CRIM     493 non-null    float64\n",
      " 2   ZN       493 non-null    float64\n",
      " 3   INDUS    493 non-null    float64\n",
      " 4   CHAS     493 non-null    int64  \n",
      " 5   NOX      493 non-null    float64\n",
      " 6   RM       493 non-null    float64\n",
      " 7   AGE      493 non-null    float64\n",
      " 8   DIS      493 non-null    float64\n",
      " 9   RAD      493 non-null    int64  \n",
      " 10  TAX      493 non-null    int64  \n",
      " 11  PTRATIO  493 non-null    float64\n",
      " 12  B        493 non-null    float64\n",
      " 13  LSTAT    493 non-null    float64\n",
      "dtypes: float64(11), int64(3)\n",
      "memory usage: 54.0 KB\n"
     ]
    }
   ],
   "source": [
    "df_raw.info()"
   ]
  },
  {
   "cell_type": "code",
   "execution_count": 26,
   "metadata": {},
   "outputs": [],
   "source": [
    "df_raw.CHAS = df_raw.CHAS.astype('object')\n",
    "df_raw.RAD = df_raw.RAD.astype('object')\n",
    "df_raw.TAX = df_raw.TAX.astype('object')"
   ]
  },
  {
   "cell_type": "code",
   "execution_count": 7,
   "metadata": {},
   "outputs": [],
   "source": [
    "# sns.pairplot(df_raw)"
   ]
  },
  {
   "cell_type": "code",
   "execution_count": 27,
   "metadata": {},
   "outputs": [
    {
     "name": "stdout",
     "output_type": "stream",
     "text": [
      "                            OLS Regression Results                            \n",
      "==============================================================================\n",
      "Dep. Variable:                   MEDV   R-squared:                       0.734\n",
      "Model:                            OLS   Adj. R-squared:                  0.724\n",
      "Method:                 Least Squares   F-statistic:                     77.05\n",
      "Date:                Mon, 23 Nov 2020   Prob (F-statistic):          1.52e-124\n",
      "Time:                        04:28:28   Log-Likelihood:                -1436.4\n",
      "No. Observations:                 493   AIC:                             2909.\n",
      "Df Residuals:                     475   BIC:                             2984.\n",
      "Df Model:                          17                                         \n",
      "Covariance Type:            nonrobust                                         \n",
      "================================================================================\n",
      "                   coef    std err          t      P>|t|      [0.025      0.975]\n",
      "--------------------------------------------------------------------------------\n",
      "Intercept       28.8089      5.248      5.489      0.000      18.496      39.121\n",
      "C(CHAS)[T.1]     2.7717      0.842      3.293      0.001       1.118       4.426\n",
      "C(RAD)[T.2]      0.4403      0.668      0.659      0.510      -0.873       1.753\n",
      "C(RAD)[T.3]      1.0550      0.727      1.451      0.147      -0.373       2.483\n",
      "C(RAD)[T.4]      3.7077      2.235      1.659      0.098      -0.683       8.099\n",
      "C(TAX)[T.2]     -1.7214      0.641     -2.685      0.007      -2.981      -0.462\n",
      "C(TAX)[T.3]     -1.1080      0.715     -1.549      0.122      -2.513       0.297\n",
      "C(TAX)[T.4]     -2.4971      2.321     -1.076      0.283      -7.058       2.064\n",
      "CRIM            -0.1166      0.032     -3.622      0.000      -0.180      -0.053\n",
      "ZN               0.0166      0.014      1.168      0.243      -0.011       0.044\n",
      "INDUS            0.0045      0.061      0.074      0.941      -0.116       0.125\n",
      "NOX            -15.3690      3.840     -4.003      0.000     -22.914      -7.824\n",
      "RM               3.9242      0.434      9.045      0.000       3.072       4.777\n",
      "AGE              0.0036      0.013      0.277      0.782      -0.022       0.029\n",
      "DIS             -1.0845      0.201     -5.394      0.000      -1.480      -0.689\n",
      "PTRATIO         -0.8362      0.138     -6.038      0.000      -1.108      -0.564\n",
      "B                0.0113      0.003      4.262      0.000       0.006       0.017\n",
      "LSTAT           -0.5744      0.051    -11.206      0.000      -0.675      -0.474\n",
      "==============================================================================\n",
      "Omnibus:                      195.317   Durbin-Watson:                   1.104\n",
      "Prob(Omnibus):                  0.000   Jarque-Bera (JB):             1159.221\n",
      "Skew:                           1.617   Prob(JB):                    1.90e-252\n",
      "Kurtosis:                       9.780   Cond. No.                     1.06e+04\n",
      "==============================================================================\n",
      "\n",
      "Notes:\n",
      "[1] Standard Errors assume that the covariance matrix of the errors is correctly specified.\n",
      "[2] The condition number is large, 1.06e+04. This might indicate that there are\n",
      "strong multicollinearity or other numerical problems.\n"
     ]
    }
   ],
   "source": [
    "#회귀모델 생성\n",
    "reg_model=smf.ols(formula=\"MEDV ~ CRIM+ZN+INDUS+C(CHAS)+NOX+RM+AGE+DIS+C(RAD)+C(TAX)+PTRATIO+B+LSTAT\", data=df_raw)\n",
    "reg_result = reg_model.fit()\n",
    "print(reg_result.summary())"
   ]
  },
  {
   "cell_type": "code",
   "execution_count": 28,
   "metadata": {},
   "outputs": [
    {
     "data": {
      "text/html": [
       "<div>\n",
       "<style scoped>\n",
       "    .dataframe tbody tr th:only-of-type {\n",
       "        vertical-align: middle;\n",
       "    }\n",
       "\n",
       "    .dataframe tbody tr th {\n",
       "        vertical-align: top;\n",
       "    }\n",
       "\n",
       "    .dataframe thead th {\n",
       "        text-align: right;\n",
       "    }\n",
       "</style>\n",
       "<table border=\"1\" class=\"dataframe\">\n",
       "  <thead>\n",
       "    <tr style=\"text-align: right;\">\n",
       "      <th></th>\n",
       "      <th>variable</th>\n",
       "      <th>VIF</th>\n",
       "    </tr>\n",
       "  </thead>\n",
       "  <tbody>\n",
       "    <tr>\n",
       "      <th>9</th>\n",
       "      <td>B</td>\n",
       "      <td>1.288</td>\n",
       "    </tr>\n",
       "    <tr>\n",
       "      <th>8</th>\n",
       "      <td>PTRATIO</td>\n",
       "      <td>1.394</td>\n",
       "    </tr>\n",
       "    <tr>\n",
       "      <th>1</th>\n",
       "      <td>CRIM</td>\n",
       "      <td>1.418</td>\n",
       "    </tr>\n",
       "    <tr>\n",
       "      <th>5</th>\n",
       "      <td>RM</td>\n",
       "      <td>1.761</td>\n",
       "    </tr>\n",
       "    <tr>\n",
       "      <th>2</th>\n",
       "      <td>ZN</td>\n",
       "      <td>2.138</td>\n",
       "    </tr>\n",
       "    <tr>\n",
       "      <th>10</th>\n",
       "      <td>LSTAT</td>\n",
       "      <td>2.832</td>\n",
       "    </tr>\n",
       "    <tr>\n",
       "      <th>6</th>\n",
       "      <td>AGE</td>\n",
       "      <td>3.039</td>\n",
       "    </tr>\n",
       "    <tr>\n",
       "      <th>3</th>\n",
       "      <td>INDUS</td>\n",
       "      <td>3.116</td>\n",
       "    </tr>\n",
       "    <tr>\n",
       "      <th>4</th>\n",
       "      <td>NOX</td>\n",
       "      <td>3.890</td>\n",
       "    </tr>\n",
       "    <tr>\n",
       "      <th>7</th>\n",
       "      <td>DIS</td>\n",
       "      <td>4.041</td>\n",
       "    </tr>\n",
       "    <tr>\n",
       "      <th>0</th>\n",
       "      <td>const</td>\n",
       "      <td>543.878</td>\n",
       "    </tr>\n",
       "  </tbody>\n",
       "</table>\n",
       "</div>"
      ],
      "text/plain": [
       "   variable      VIF\n",
       "9         B    1.288\n",
       "8   PTRATIO    1.394\n",
       "1      CRIM    1.418\n",
       "5        RM    1.761\n",
       "2        ZN    2.138\n",
       "10    LSTAT    2.832\n",
       "6       AGE    3.039\n",
       "3     INDUS    3.116\n",
       "4       NOX    3.890\n",
       "7       DIS    4.041\n",
       "0     const  543.878"
      ]
     },
     "execution_count": 28,
     "metadata": {},
     "output_type": "execute_result"
    }
   ],
   "source": [
    "#다중공선성 확인\n",
    "df_raw_x2 = df_raw.drop(\"MEDV\",axis=1)[['CRIM', 'ZN', 'INDUS', 'NOX', 'RM', 'AGE', 'DIS','PTRATIO', 'B', 'LSTAT']]\n",
    "df_raw_x2_const = add_constant(df_raw_x2)\n",
    "df_vif = pd.DataFrame()\n",
    "df_vif[\"variable\"] = df_raw_x2_const.columns\n",
    "df_vif[\"VIF\"] = [variance_inflation_factor(df_raw_x2_const.values, i)\\\n",
    "                 for i in range(df_raw_x2_const.shape[1])]\n",
    "df_vif.sort_values(\"VIF\",inplace=True)\n",
    "df_vif.round(3)"
   ]
  },
  {
   "cell_type": "markdown",
   "metadata": {},
   "source": [
    "VIF>10인 변수가 없음"
   ]
  },
  {
   "cell_type": "code",
   "execution_count": 32,
   "metadata": {},
   "outputs": [
    {
     "name": "stdout",
     "output_type": "stream",
     "text": [
      "Selected Variances: Index(['CHAS', 'NOX', 'RM', 'DIS', 'PTRATIO'], dtype='object')\n",
      "Removed Variances: Index(['CRIM', 'ZN', 'INDUS', 'AGE', 'RAD', 'TAX', 'B', 'LSTAT'], dtype='object')\n"
     ]
    }
   ],
   "source": [
    "df_raw_x = df_raw.drop(\"MEDV\",axis=1)\n",
    "df_raw_y = df_raw[\"MEDV\"]\n",
    "model = LinearRegression()\n",
    "rfe = RFE(estimator=model, n_features_to_select=5).fit(df_raw_x,df_raw_y)\n",
    "selected_cols = df_raw_x.columns[rfe.support_]\n",
    "removed_cols = df_raw_x.columns[~rfe.support_]\n",
    "print(\"Selected Variances: {}\".format(selected_cols))\n",
    "print(\"Removed Variances: {}\".format(removed_cols))"
   ]
  },
  {
   "cell_type": "code",
   "execution_count": 33,
   "metadata": {},
   "outputs": [
    {
     "name": "stdout",
     "output_type": "stream",
     "text": [
      "                            OLS Regression Results                            \n",
      "==============================================================================\n",
      "Dep. Variable:                   MEDV   R-squared:                       0.602\n",
      "Model:                            OLS   Adj. R-squared:                  0.598\n",
      "Method:                 Least Squares   F-statistic:                     147.2\n",
      "Date:                Mon, 23 Nov 2020   Prob (F-statistic):           5.63e-95\n",
      "Time:                        04:29:49   Log-Likelihood:                -1535.7\n",
      "No. Observations:                 493   AIC:                             3083.\n",
      "Df Residuals:                     487   BIC:                             3109.\n",
      "Df Model:                           5                                         \n",
      "Covariance Type:            nonrobust                                         \n",
      "==============================================================================\n",
      "                 coef    std err          t      P>|t|      [0.025      0.975]\n",
      "------------------------------------------------------------------------------\n",
      "Intercept     20.5838      5.045      4.080      0.000      10.672      30.496\n",
      "CHAS[T.1]      4.1123      0.996      4.128      0.000       2.155       6.070\n",
      "NOX          -29.9107      3.429     -8.722      0.000     -36.649     -23.173\n",
      "RM             6.6916      0.419     15.977      0.000       5.869       7.515\n",
      "DIS           -0.8210      0.186     -4.422      0.000      -1.186      -0.456\n",
      "PTRATIO       -1.1305      0.126     -8.984      0.000      -1.378      -0.883\n",
      "==============================================================================\n",
      "Omnibus:                      252.040   Durbin-Watson:                   0.911\n",
      "Prob(Omnibus):                  0.000   Jarque-Bera (JB):             2577.788\n",
      "Skew:                           1.985   Prob(JB):                         0.00\n",
      "Kurtosis:                      13.475   Cond. No.                         456.\n",
      "==============================================================================\n",
      "\n",
      "Notes:\n",
      "[1] Standard Errors assume that the covariance matrix of the errors is correctly specified.\n"
     ]
    }
   ],
   "source": [
    "rfe_reg_model = smf.ols(formula='MEDV~CHAS+NOX+RM+DIS+PTRATIO',data=df_raw)\n",
    "rfe_reg_result = rfe_reg_model.fit()\n",
    "print(rfe_reg_result.summary())"
   ]
  },
  {
   "cell_type": "code",
   "execution_count": 34,
   "metadata": {},
   "outputs": [
    {
     "data": {
      "text/plain": [
       "<AxesSubplot:>"
      ]
     },
     "execution_count": 34,
     "metadata": {},
     "output_type": "execute_result"
    },
    {
     "data": {
      "image/png": "[encoded data removed]",
      "text/plain": [
       "<Figure size 432x288 with 1 Axes>"
      ]
     },
     "metadata": {
      "needs_background": "light"
     },
     "output_type": "display_data"
    }
   ],
   "source": [
    "#비표준화 회귀계수를 통해 변수 중요도 확인\n",
    "df_reg_coef = pd.DataFrame({\"Coef\":rfe_reg_result.params.values[1:]},index=selected_cols)\n",
    "df_reg_coef.plot.barh(y=\"Coef\",legend=False)"
   ]
  },
  {
   "cell_type": "code",
   "execution_count": 35,
   "metadata": {},
   "outputs": [
    {
     "name": "stdout",
     "output_type": "stream",
     "text": [
      "                            OLS Regression Results                            \n",
      "==============================================================================\n",
      "Dep. Variable:                   MEDV   R-squared:                       0.602\n",
      "Model:                            OLS   Adj. R-squared:                  0.598\n",
      "Method:                 Least Squares   F-statistic:                     147.2\n",
      "Date:                Mon, 23 Nov 2020   Prob (F-statistic):           5.63e-95\n",
      "Time:                        04:29:51   Log-Likelihood:                -1535.7\n",
      "No. Observations:                 493   AIC:                             3083.\n",
      "Df Residuals:                     487   BIC:                             3109.\n",
      "Df Model:                           5                                         \n",
      "Covariance Type:            nonrobust                                         \n",
      "==============================================================================\n",
      "                 coef    std err          t      P>|t|      [0.025      0.975]\n",
      "------------------------------------------------------------------------------\n",
      "Intercept     22.2623      0.247     90.094      0.000      21.777      22.748\n",
      "CHAS           1.0420      0.252      4.128      0.000       0.546       1.538\n",
      "NOX           -3.4578      0.396     -8.722      0.000      -4.237      -2.679\n",
      "RM             4.3051      0.269     15.977      0.000       3.776       4.835\n",
      "DIS           -1.7297      0.391     -4.422      0.000      -2.498      -0.961\n",
      "PTRATIO       -2.3827      0.265     -8.984      0.000      -2.904      -1.862\n",
      "==============================================================================\n",
      "Omnibus:                      252.040   Durbin-Watson:                   0.911\n",
      "Prob(Omnibus):                  0.000   Jarque-Bera (JB):             2577.788\n",
      "Skew:                           1.985   Prob(JB):                         0.00\n",
      "Kurtosis:                      13.475   Cond. No.                         3.04\n",
      "==============================================================================\n",
      "\n",
      "Notes:\n",
      "[1] Standard Errors assume that the covariance matrix of the errors is correctly specified.\n"
     ]
    },
    {
     "data": {
      "text/plain": [
       "<AxesSubplot:>"
      ]
     },
     "execution_count": 35,
     "metadata": {},
     "output_type": "execute_result"
    },
    {
     "data": {
      "image/png": "[encoded data removed]",
      "text/plain": [
       "<Figure size 432x288 with 1 Axes>"
      ]
     },
     "metadata": {
      "needs_background": "light"
     },
     "output_type": "display_data"
    }
   ],
   "source": [
    "#표준화 회귀계수를 통해 변수 중요도 확인\n",
    "scaler = StandardScaler()\n",
    "cols=df_raw_x.columns\n",
    "np_scaled = scaler.fit_transform(df_raw_x)\n",
    "df_scaled = pd.DataFrame(np_scaled, columns=cols)\n",
    "df_scaled[\"MEDV\"] = df_raw[\"MEDV\"]\n",
    "reg_model_scaled = smf.ols(formula=\"MEDV~CHAS+NOX+RM+DIS+PTRATIO\",data=df_scaled)\n",
    "reg_result_scaled = reg_model_scaled.fit()\n",
    "print(reg_result_scaled.summary())\n",
    "\n",
    "df_reg_coef = pd.DataFrame({\"Coef\":reg_result_scaled.params.values[1:]}, index=selected_cols)\n",
    "df_reg_coef.plot.barh(y= \"Coef\",legend=False)"
   ]
  },
  {
   "cell_type": "code",
   "execution_count": null,
   "metadata": {},
   "outputs": [],
   "source": []
  },
  {
   "cell_type": "code",
   "execution_count": null,
   "metadata": {},
   "outputs": [],
   "source": []
  }
 ],
 "metadata": {
  "hide_input": false,
  "kernelspec": {
   "display_name": "Python 3",
   "language": "python",
   "name": "python3"
  },
  "language_info": {
   "codemirror_mode": {
    "name": "ipython",
    "version": 3
   },
   "file_extension": ".py",
   "mimetype": "text/x-python",
   "name": "python",
   "nbconvert_exporter": "python",
   "pygments_lexer": "ipython3",
   "version": "3.7.6"
  }
 },
 "nbformat": 4,
 "nbformat_minor": 4
}
