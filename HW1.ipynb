{
 "cells": [
  {
   "cell_type": "markdown",
   "metadata": {},
   "source": [
    "# 문제 1"
   ]
  },
  {
   "cell_type": "code",
   "execution_count": 2,
   "metadata": {},
   "outputs": [
    {
     "name": "stdout",
     "output_type": "stream",
     "text": [
      "화씨온도: 100\n",
      "섭씨온도: 37.777778\n"
     ]
    }
   ],
   "source": [
    "degree_F = int(input('화씨온도: '))\n",
    "degree_C = (degree_F-32)*(5/9)\n",
    "print('섭씨온도: %f' % degree_C)"
   ]
  },
  {
   "cell_type": "markdown",
   "metadata": {},
   "source": [
    "# 문제 2"
   ]
  },
  {
   "cell_type": "code",
   "execution_count": 9,
   "metadata": {},
   "outputs": [
    {
     "name": "stdout",
     "output_type": "stream",
     "text": [
      "투입한 돈: 5000\n",
      "물건값: 2700\n",
      "거스름돈: 2300\n",
      "500원짜리: 4개\n",
      "100원짜리: 3개\n"
     ]
    }
   ],
   "source": [
    "money = int(input('투입한 돈: '))\n",
    "price = int(input('물건값: '))\n",
    "\n",
    "change = money - price\n",
    "\n",
    "coin_500 = change // 500\n",
    "\n",
    "change -= (coin_500 * 500)\n",
    "\n",
    "coin_100 = change // 100\n",
    "\n",
    "print('거스름돈: %d' % (coin_500*500 + coin_100*100))\n",
    "print('500원짜리: %d개' % coin_500)\n",
    "print('100원짜리: %d개' % coin_100)"
   ]
  },
  {
   "cell_type": "markdown",
   "metadata": {},
   "source": [
    "# 문제 3"
   ]
  },
  {
   "cell_type": "code",
   "execution_count": 22,
   "metadata": {},
   "outputs": [
    {
     "name": "stdout",
     "output_type": "stream",
     "text": [
      "반지름을 입력하시오: 5\n",
      "원 둘레: 31.42\n",
      "원 넓이: 78.54\n"
     ]
    }
   ],
   "source": [
    "pi = 3.141592\n",
    "\n",
    "r = int(input('반지름을 입력하시오: '))\n",
    "\n",
    "print('원 둘레: %.2f' % (2*pi*r))\n",
    "print('원 넓이: %.2f' % (pi*(r**2)))"
   ]
  },
  {
   "cell_type": "markdown",
   "metadata": {},
   "source": [
    "# 문제 4"
   ]
  },
  {
   "cell_type": "code",
   "execution_count": 44,
   "metadata": {},
   "outputs": [
    {
     "name": "stdout",
     "output_type": "stream",
     "text": [
      "Enter two integers: 8 5\n",
      "8 + 5 = 13\n",
      "8 - 5 = 3\n",
      "8 * 5 = 40\n",
      "8 / 5 = 1.6\n",
      "8 % 5 = 3\n"
     ]
    }
   ],
   "source": [
    "a, b = map(int, input('Enter two integers: ').split())\n",
    "\n",
    "print('%d + %d = %d' %(a, b, a+b))\n",
    "print('%d - %d = %d' %(a, b, a-b))\n",
    "print('%d * %d = %d' %(a, b, a*b))\n",
    "print('%d / %d = %.1f' %(a, b, a / b))\n",
    "print('%d %% %d = %d' %(a, b, a % b))"
   ]
  },
  {
   "cell_type": "code",
   "execution_count": 62,
   "metadata": {},
   "outputs": [
    {
     "name": "stdout",
     "output_type": "stream",
     "text": [
      "Enter two integers: 8 5\n",
      "8 + 5 = 13\n",
      "8 - 5 = 3\n",
      "8 * 5 = 40\n",
      "8 / 5 = 1.6\n",
      "8 % 5 = 3\n"
     ]
    }
   ],
   "source": [
    "numbers = input('Enter two integers: ').split()\n",
    "\n",
    "a = int(numbers[0])\n",
    "b = int(numbers[1])\n",
    "\n",
    "print('%d + %d = %d' %(a, b, a+b))\n",
    "print('%d - %d = %d' %(a, b, a-b))\n",
    "print('%d * %d = %d' %(a, b, a*b))\n",
    "print('%d / %d = %.1f' %(a, b, a/b))\n",
    "print('%d %% %d = %d' %(a, b, a%b))"
   ]
  },
  {
   "cell_type": "markdown",
   "metadata": {},
   "source": [
    "# 문제 5"
   ]
  },
  {
   "cell_type": "code",
   "execution_count": 66,
   "metadata": {},
   "outputs": [
    {
     "name": "stdout",
     "output_type": "stream",
     "text": [
      "Enter two integers: 70 91\n",
      "The sum of 70 and 91 is 161\n",
      "The average of numbers is 80.5\n"
     ]
    }
   ],
   "source": [
    "numbers = input('Enter two integers: ').split()\n",
    "\n",
    "a = int(numbers[0])\n",
    "b = int(numbers[1])\n",
    "\n",
    "print('The sum of 70 and 91 is %d' % (a+b))\n",
    "print('The average of numbers is %.1f' % ((a+b)/len((a,b))))"
   ]
  },
  {
   "cell_type": "markdown",
   "metadata": {},
   "source": [
    "# 문제 6"
   ]
  },
  {
   "cell_type": "code",
   "execution_count": 78,
   "metadata": {},
   "outputs": [
    {
     "name": "stdout",
     "output_type": "stream",
     "text": [
      "날짜(연/월/일)입력: 2020/11/02\n",
      "입력한 날짜의 10년 후는 2020년 11월 2일\n"
     ]
    }
   ],
   "source": [
    "date = input('날짜(연/월/일)입력: ')\n",
    "\n",
    "year = int(date[:4])\n",
    "month = int(date[5:7])\n",
    "day = int(date[-2:])\n",
    "\n",
    "print('입력한 날짜의 10년 후는 %d년 %d월 %d일' %(year, month, day))"
   ]
  },
  {
   "cell_type": "code",
   "execution_count": 99,
   "metadata": {},
   "outputs": [
    {
     "name": "stdout",
     "output_type": "stream",
     "text": [
      "날짜(연/월/일)입력: 2020/11/02\n",
      "입력한 날짜의 10년 후는 2020년 11월 2일\n"
     ]
    }
   ],
   "source": [
    "import datetime\n",
    "\n",
    "date = input('날짜(연/월/일)입력: ')\n",
    "d = datetime.datetime.strptime(date, '%Y/%m/%d')\n",
    "\n",
    "print('입력한 날짜의 10년 후는 %d년 %d월 %d일' %(d.year, d.month, d.day))"
   ]
  },
  {
   "cell_type": "code",
   "execution_count": null,
   "metadata": {},
   "outputs": [],
   "source": []
  }
 ],
 "metadata": {
  "hide_input": false,
  "kernelspec": {
   "display_name": "Python 3",
   "language": "python",
   "name": "python3"
  },
  "language_info": {
   "codemirror_mode": {
    "name": "ipython",
    "version": 3
   },
   "file_extension": ".py",
   "mimetype": "text/x-python",
   "name": "python",
   "nbconvert_exporter": "python",
   "pygments_lexer": "ipython3",
   "version": "3.8.3"
  }
 },
 "nbformat": 4,
 "nbformat_minor": 4
}
