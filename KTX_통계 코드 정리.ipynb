{
 "cells": [
  {
   "cell_type": "code",
   "execution_count": 1,
   "metadata": {},
   "outputs": [],
   "source": [
    "path = 'C:\\\\Users\\\\moon\\\\Documents\\\\stats\\\\'"
   ]
  },
  {
   "cell_type": "code",
   "execution_count": 54,
   "metadata": {},
   "outputs": [],
   "source": [
    "from scipy import stats\n",
    "import pandas as pd\n",
    "import numpy as np\n",
    "import seaborn as sns\n",
    "import numpy as np\n",
    "\n",
    "from statsmodels.stats.proportion import proportions_ztest"
   ]
  },
  {
   "cell_type": "code",
   "execution_count": 4,
   "metadata": {},
   "outputs": [
    {
     "name": "stdout",
     "output_type": "stream",
     "text": [
      "135분 이상 걸리는 A/S 작업 비율:15.9%\n"
     ]
    }
   ],
   "source": [
    "# 정규분포 - 누적확률 값 계산\n",
    "\n",
    "mu = 115\n",
    "sigma = 20\n",
    "x = 135\n",
    "prob = stats.norm.cdf(x, mu, sigma)\n",
    "print('{0}분 이상 걸리는 A/S 작업 비율:{1:.1f}%'.format(x,(1-prob)*100))"
   ]
  },
  {
   "cell_type": "code",
   "execution_count": 9,
   "metadata": {},
   "outputs": [
    {
     "name": "stdout",
     "output_type": "stream",
     "text": [
      "12km 이상 15km 이하를 달릴 확률은 0.341%에 해당함\n"
     ]
    }
   ],
   "source": [
    "# 정규분포 - 누적확률 값 계산2\n",
    "\n",
    "mu = 12\n",
    "sigma= 3\n",
    "x1 = 15\n",
    "prob1 = stats.norm.cdf(x1,mu,sigma)\n",
    "print('{0}km 이상 {1}km 이하를 달릴 확률은 {2:.3f}%에 해당함'.format(mu, x1, (prob1-0.5)))"
   ]
  },
  {
   "cell_type": "code",
   "execution_count": 16,
   "metadata": {},
   "outputs": [
    {
     "data": {
      "text/plain": [
       "<matplotlib.axes._subplots.AxesSubplot at 0x1e669e18b88>"
      ]
     },
     "execution_count": 16,
     "metadata": {},
     "output_type": "execute_result"
    },
    {
     "data": {
      "image/png": "[encoded data removed]",
      "text/plain": [
       "<Figure size 432x288 with 1 Axes>"
      ]
     },
     "metadata": {
      "needs_background": "light"
     },
     "output_type": "display_data"
    }
   ],
   "source": [
    "# X^2 분포 그리기\n",
    "\n",
    "np.random.seed(seed=1234)\n",
    "# 자유도 10, 데이터 1000개의 x2분포를 따르는 데이터 생성\n",
    "chisq_df10 = np.random.chisquare(df=10, size=1000)\n",
    "\n",
    "sns.distplot(chisq_df10, fit=stats.norm, kde=False)"
   ]
  },
  {
   "cell_type": "code",
   "execution_count": 18,
   "metadata": {},
   "outputs": [
    {
     "name": "stdout",
     "output_type": "stream",
     "text": [
      "P(X<=10):0.0002\n"
     ]
    }
   ],
   "source": [
    "# X2 값이 10일 때, P(X<x2)을 계산(df=30)\n",
    "\n",
    "chisq = 10\n",
    "df = 30\n",
    "\n",
    "prob=stats.chi2.cdf(chisq, df)\n",
    "print('P(X<={0}):{1:.4f}'.format(chisq, prob))"
   ]
  },
  {
   "cell_type": "code",
   "execution_count": 20,
   "metadata": {},
   "outputs": [
    {
     "name": "stdout",
     "output_type": "stream",
     "text": [
      "P(X<=F):0.904\n"
     ]
    }
   ],
   "source": [
    "# F분포 - F는 각각 자유도가 15, 15인 F.\n",
    "# F값 = 2.0일때, P(X<=F)을 계산하시오.\n",
    "\n",
    "f = 2.0\n",
    "dfnum = 15\n",
    "dfden = 15\n",
    "\n",
    "prob = stats.f.cdf(x=f, dfn=dfnum, dfd= dfden)\n",
    "print('P(X<=F):{:.3f}'.format(prob))"
   ]
  },
  {
   "cell_type": "code",
   "execution_count": 21,
   "metadata": {},
   "outputs": [
    {
     "name": "stdout",
     "output_type": "stream",
     "text": [
      "P(X=0)=0.216\n",
      "P(X=1)=0.432\n",
      "P(X=2)=0.288\n",
      "P(X=3)=0.064\n"
     ]
    }
   ],
   "source": [
    "# 이항분포\n",
    "# 불량확률 0.4\n",
    "# 3대 차량 선택시 불량대수가 각각 0, 1, 2, 3이 나올 확률\n",
    "\n",
    "n = 3\n",
    "for i in range(n+1):\n",
    "    prob = stats.binom.pmf(k=i, n=n, p=0.4)\n",
    "    print('P(X={0})={1:.3f}'.format(i, prob))"
   ]
  },
  {
   "cell_type": "code",
   "execution_count": 25,
   "metadata": {},
   "outputs": [
    {
     "name": "stdout",
     "output_type": "stream",
     "text": [
      "1분당 3번의 전화가 걸려올 확률:0.180\n",
      "1분당 최대3회 이하의 전화가 걸려올 확률:0.677\n"
     ]
    }
   ],
   "source": [
    "# 포아송 분포\n",
    "# 전화 교환대 1분 평균 2대 걸려옴 - 포아송 분포 따른다 가정\n",
    "# 1분당 3번의 전화가 걸려올 확률?\n",
    "# 1분당 최대 2회 이하의 전화가 걸려올 확률?\n",
    "\n",
    "mu = 2\n",
    "# 1분당 3번의 전화\n",
    "prob = stats.poisson.pmf(3, mu)\n",
    "# 1분당 최대 2회 이하 전화\n",
    "cdf_prob = stats.poisson.cdf(2,mu)\n",
    "print('1분당 {0}번의 전화가 걸려올 확률:{1:.3f}'.format(3, prob))\n",
    "print('1분당 최대{0}회 이하의 전화가 걸려올 확률:{1:.3f}'.format(3, cdf_prob))"
   ]
  },
  {
   "cell_type": "code",
   "execution_count": 35,
   "metadata": {},
   "outputs": [
    {
     "name": "stdout",
     "output_type": "stream",
     "text": [
      "statistic=0.9788156747817993, p-value=0.10744144767522812\n"
     ]
    }
   ],
   "source": [
    "# 정규성 검정(샤피로)\n",
    "\n",
    "ds_camshaft = pd.read_csv(path+'camshaft.csv')\n",
    "\n",
    "statistic, p = stats.shapiro(ds_camshaft.Supp1)\n",
    "print('statistic={0}, p-value={1}'.format(statistic,p))\n",
    "# 정규성 검정이므로 p값이 0.05클 때, 정규성있는 것으로 판단."
   ]
  },
  {
   "cell_type": "code",
   "execution_count": null,
   "metadata": {},
   "outputs": [],
   "source": [
    "# 모평균 구간추정(모평균 아는경우)\n",
    "# 새로운 품종 배추 40통을 랜덤추출하여 무게 측정.\n",
    "# 모표준편차 0.397. 95%신뢰구간은?\n",
    "\n",
    "df = pd.DataFrame({'sample':[3.6,2.9 ...]})\n",
    "lower, upper = stats.norm.interval(0.95, loc = np.mean(df), scale = 0.397/np.sqrt(40))\n",
    "\n",
    "print('신뢰구간: ({0},{1})'.format(lower.round(2), upper.round(2)))"
   ]
  },
  {
   "cell_type": "code",
   "execution_count": null,
   "metadata": {},
   "outputs": [],
   "source": [
    "# 모평균 구간추정(모평균 모르는 경우)\n",
    "lower, upper = stats.t.interval(0.95, len(df)-1, loc = np.mean(df), scale = scipy.stats.sem(df)) # sem은 표준오차. s/sqrt(n)"
   ]
  },
  {
   "cell_type": "code",
   "execution_count": null,
   "metadata": {},
   "outputs": [],
   "source": [
    "# 모비율 신뢰구간"
   ]
  },
  {
   "attachments": {
    "image.png": {
     "image/png": "[encoded data removed]"
    }
   },
   "cell_type": "markdown",
   "metadata": {},
   "source": [
    "![image.png](attachment:image.png)"
   ]
  },
  {
   "cell_type": "code",
   "execution_count": 42,
   "metadata": {},
   "outputs": [
    {
     "name": "stdout",
     "output_type": "stream",
     "text": [
      "t통계량:[0.864]\n",
      "p-value:[0.41]\n"
     ]
    }
   ],
   "source": [
    "# 평균검정 t-test (모집단 표준편차 모르는 경우)\n",
    "# 고객만족도 평균 76.7 -> 개선활동 후 만족도 변화 있는가?\n",
    "df = pd.DataFrame({'sample':[74.5,81.2,73.8,82,76.3,75.7,80.2,72.6,77.9,82.8]})\n",
    "\n",
    "t_result = stats.ttest_1samp(df, 76.7)\n",
    "\n",
    "t, p = t_result.statistic.round(3), t_result.pvalue.round(3)\n",
    "\n",
    "print('t통계량:{}'.format(t))\n",
    "print('p-value:{}'.format(p))\n",
    "\n",
    "# 만족도 변화시켰다고 할 수 없다."
   ]
  },
  {
   "cell_type": "code",
   "execution_count": 50,
   "metadata": {},
   "outputs": [
    {
     "name": "stdout",
     "output_type": "stream",
     "text": [
      "등분산성 검정: LeveneResult(statistic=0.04810126582278468, pvalue=0.8275746090758196)\n",
      "t: [-3.122]\n",
      "p: [0.003]\n"
     ]
    }
   ],
   "source": [
    "# 2sample t-test\n",
    "# 두 고객 모평균 차이 있는가?\n",
    "\n",
    "df1 = pd.DataFrame({'sample':[6,5,5,4,6,7,6,4,5,6,4,5,5,6,4,8,6,5,6,7]})\n",
    "df2 = pd.DataFrame({'sample':[7,5,7,8,7,8,8,5,7,6,5,5,6,6,5,7,9,7,7,8]})\n",
    "\n",
    "print('등분산성 검정:', stats.levene(df1['sample'], df2['sample']))\n",
    "\n",
    "t_result = stats.ttest_ind(df1, df2, equal_var = False)\n",
    "\n",
    "t, p = t, p = t_result.statistic.round(3), t_result.pvalue.round(3)\n",
    "\n",
    "print('t: {}'.format(t))\n",
    "print('p: {}'.format(p))\n",
    "\n",
    "# 귀무가설 기각, 고객간에 만족도 차이 있다."
   ]
  },
  {
   "cell_type": "code",
   "execution_count": null,
   "metadata": {},
   "outputs": [],
   "source": [
    "# paired T-test\n",
    "\n",
    "t_result = stats.ttest_rel(df1, df2) # 위와 같은 방식"
   ]
  },
  {
   "cell_type": "code",
   "execution_count": 56,
   "metadata": {},
   "outputs": [
    {
     "name": "stdout",
     "output_type": "stream",
     "text": [
      "1 proportion test\n",
      "z: 1.4002800840280094\n",
      "p: 0.16142946236708322\n"
     ]
    }
   ],
   "source": [
    "# 1 proportion test\n",
    "# 고급강 A제품을 가공하는 국내 고객사는 전체 중에 10%정도가 된다. 한 해 동안 A제품의 품질에 대해 노력을 하여 전체 고객중 100여개 업체를 표본으로 하여 가공품질을 확인한 후 15개의 업체가 만족을 표현했다.\n",
    "# 과연 품질개선을 한 결과로 기존보다 전체 고객 중 사용비율의 차이가 있는 것인가?\n",
    "\n",
    "count = 15\n",
    "n_obs = 100\n",
    "value = 0.1\n",
    "\n",
    "stat, pval = proportions_ztest(count, n_obs, value)\n",
    "\n",
    "print('1 proportion test')\n",
    "print('z: {}'.format(stat))\n",
    "print('p: {}'.format(pval))\n",
    "# 차이 있다고 할 수 없다."
   ]
  },
  {
   "cell_type": "code",
   "execution_count": 58,
   "metadata": {},
   "outputs": [
    {
     "name": "stdout",
     "output_type": "stream",
     "text": [
      "1.553109404737079 0.12039699966295712\n"
     ]
    }
   ],
   "source": [
    "# 동일 제품 생산 두 공장 불량률 측정, 두 공정 불량률 같다고 할 수 있는가?\n",
    "# 공장1: N1=1000, x1=4/ N2=1200, x2=1\n",
    "#p1 = x1/n1\n",
    "#p2 = x2/n2\n",
    "\n",
    "count = np.array([4,1])\n",
    "nobs = np.array([1000,1200])\n",
    "\n",
    "stat, pval = proportions_ztest(count, nobs)\n",
    "print(stat, pval) # 차이 있다고 할 수 없다."
   ]
  },
  {
   "cell_type": "code",
   "execution_count": 60,
   "metadata": {},
   "outputs": [],
   "source": [
    "# ## 문제3 - p159 카이제곱 검정\n",
    "#### 노트북 컴퓨터의 6가지 제품(A,B,C,D,E,F)에 대하여 7가지 제품의 이미지를 중복 선택 할 수 있도록 323명의 소비자를 대상으로 설문조사한 테이블이다. 각 제품에 대해 이미지에 대해 차이가 있겠는가? (유의수준 = 0.05)"
   ]
  },
  {
   "cell_type": "code",
   "execution_count": 62,
   "metadata": {},
   "outputs": [
    {
     "name": "stdout",
     "output_type": "stream",
     "text": [
      "chi-square test\n",
      "chisq:98.274\n",
      "p:0.000\n",
      "degree pf freedom:30\n",
      "expected value: \n",
      "[[11.004  8.528 10.454  8.253  7.978  8.803  7.978]\n",
      " [ 8.21   6.362  7.799  6.157  5.952  6.568  5.952]\n",
      " [ 5.24   4.061  4.978  3.93   3.799  4.192  3.799]\n",
      " [ 3.843  2.978  3.651  2.882  2.786  3.074  2.786]\n",
      " [ 1.921  1.489  1.825  1.441  1.393  1.537  1.393]\n",
      " [ 9.782  7.581  9.293  7.336  7.092  7.825  7.092]]\n"
     ]
    }
   ],
   "source": [
    "data = pd.DataFrame({'A':[18,1,8,7,10,9,10],'B':[8,2,14,5,5,9,4],'C':[4,1,3,4,9,5,4],'D':[4,1,2,3,2,7,3],'E':[3,1,3,1,1,1,1],'F':[3,25,8,10,2,1,7]})\n",
    "\n",
    "# 가설 검정의 수행\n",
    "chi, pval, dof, expected = stats.chi2_contingency(data.T)\n",
    "\n",
    "print('chi-square test')\n",
    "print('chisq:{0:0.3f}'.format(chi))\n",
    "print('p:{0:0.3f}'.format(pval))\n",
    "print('degree pf freedom:{}'.format(dof))\n",
    "print('expected value: \\n{}'.format(expected.round(3)))\n",
    "# 이미지 차이 있다고 할 수 있다."
   ]
  },
  {
   "cell_type": "code",
   "execution_count": null,
   "metadata": {},
   "outputs": [],
   "source": [
    "# 1way anova\n",
    "f_result = stats.f_oneway(df['a'],df['b'],df['c'])\n",
    "\n",
    "f, p = f_result.statstic.round(3), f_result.pvalue.round(3)"
   ]
  },
  {
   "cell_type": "code",
   "execution_count": null,
   "metadata": {},
   "outputs": [],
   "source": [
    "# 상관분석\n",
    "corr, pval = stats.pearsonr(df1,df2)\n",
    "\n",
    "print(corr, pval)"
   ]
  },
  {
   "cell_type": "code",
   "execution_count": null,
   "metadata": {},
   "outputs": [],
   "source": [
    "# 회귀분석\n",
    "time = sm.add_constant(time) # time은 x변수\n",
    "model = sm.OLS(strength, time)\n",
    "result = model.fit()\n",
    "\n",
    "print(result.summary())"
   ]
  }
 ],
 "metadata": {
  "hide_input": false,
  "kernelspec": {
   "display_name": "Python 3",
   "language": "python",
   "name": "python3"
  },
  "language_info": {
   "codemirror_mode": {
    "name": "ipython",
    "version": 3
   },
   "file_extension": ".py",
   "mimetype": "text/x-python",
   "name": "python",
   "nbconvert_exporter": "python",
   "pygments_lexer": "ipython3",
   "version": "3.7.6"
  }
 },
 "nbformat": 4,
 "nbformat_minor": 4
}
