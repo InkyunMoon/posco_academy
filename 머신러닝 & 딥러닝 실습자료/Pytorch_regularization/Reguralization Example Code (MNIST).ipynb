{
 "cells": [
  {
   "cell_type": "markdown",
   "metadata": {
    "slideshow": {
     "slide_type": "slide"
    }
   },
   "source": [
    "# Reguralization (Dropout, Normalization)\n",
    "> ## 1. Library\n",
    "\n",
    "> ## 2. MLP naive setting & Pre-process data\n",
    "\n",
    "> ## 3. MLP batch norm\n",
    ">> ### 3.1 with test phase\n",
    ">> ### 3.2 with train, test phase\n",
    "\n",
    "> ## 4. Dropout\n",
    "\n",
    "> ## 5. Batch norm & Dropout"
   ]
  },
  {
   "cell_type": "markdown",
   "metadata": {
    "slideshow": {
     "slide_type": "slide"
    }
   },
   "source": [
    "# Library"
   ]
  },
  {
   "cell_type": "code",
   "execution_count": 1,
   "metadata": {
    "slideshow": {
     "slide_type": "-"
    }
   },
   "outputs": [
    {
     "name": "stdout",
     "output_type": "stream",
     "text": [
      "device: gpu\n"
     ]
    }
   ],
   "source": [
    "import torch\n",
    "import torch.nn as nn\n",
    "import torch.optim as optim\n",
    "import torch.nn.init as init\n",
    "import torchvision.datasets as dataset\n",
    "import torchvision.transforms as transforms\n",
    "from torch.utils.data import DataLoader\n",
    "\n",
    "import numpy as np\n",
    "from matplotlib import pyplot as plt\n",
    "\n",
    "device = torch.device(\"cuda:0\" if torch.cuda.is_available() else \"cpu\")\n",
    "\n",
    "print(\"device: gpu\") if torch.cuda.is_available() else print(\"device: cpu\")"
   ]
  },
  {
   "cell_type": "markdown",
   "metadata": {
    "slideshow": {
     "slide_type": "slide"
    }
   },
   "source": [
    "# Hyper parameter setting"
   ]
  },
  {
   "cell_type": "code",
   "execution_count": 3,
   "metadata": {
    "slideshow": {
     "slide_type": "-"
    }
   },
   "outputs": [],
   "source": [
    "# hypter parameter setting\n",
    "learning_rate = 1e-1\n",
    "epochs = 30\n",
    "# batch_size = 60000 # gradient descent\n",
    "# batch_size = 1 # stochastic gradient descent\n",
    "batch_size = 32 # mini-batch stochastic gradient descent\n",
    "act = nn.Tanh()\n",
    "h = 200\n",
    "display_step = 5"
   ]
  },
  {
   "cell_type": "markdown",
   "metadata": {
    "slideshow": {
     "slide_type": "-"
    }
   },
   "source": [
    "# Load data & Pre-process data"
   ]
  },
  {
   "cell_type": "code",
   "execution_count": 4,
   "metadata": {
    "slideshow": {
     "slide_type": "-"
    }
   },
   "outputs": [
    {
     "name": "stdout",
     "output_type": "stream",
     "text": [
      "len(train_data):  60000\n",
      "len(test_data):  10000\n",
      "original data shape:  torch.Size([1, 28, 28])\n",
      "label:  5\n"
     ]
    },
    {
     "data": {
      "image/png": "[encoded data removed]",
      "text/plain": [
       "<Figure size 432x288 with 1 Axes>"
      ]
     },
     "metadata": {
      "needs_background": "light"
     },
     "output_type": "display_data"
    },
    {
     "name": "stdout",
     "output_type": "stream",
     "text": [
      "processed data shape: torch.Size([32, 1, 28, 28])\n",
      "label: tensor([6, 1, 7, 2, 7, 7, 6, 5, 0, 0, 4, 5, 5, 8, 2, 3, 9, 6, 8, 9, 3, 5, 8, 5,\n",
      "        2, 5, 3, 1, 4, 4, 8, 8])\n"
     ]
    },
    {
     "data": {
      "image/png": "[encoded data removed]",
      "text/plain": [
       "<Figure size 432x288 with 1 Axes>"
      ]
     },
     "metadata": {
      "needs_background": "light"
     },
     "output_type": "display_data"
    }
   ],
   "source": [
    "# load data\n",
    "train_data = dataset.MNIST(\"./\", train = True, transform = transforms.ToTensor(), target_transform = None, download = True)\n",
    "test_data = dataset.MNIST(\"./\", train = False, transform = transforms.ToTensor(), target_transform = None, download = True)\n",
    "\n",
    "# check the data\n",
    "print('len(train_data): ', len(train_data))\n",
    "print('len(test_data): ', len(test_data))\n",
    "\n",
    "x_train, y_train = train_data[0]\n",
    "print('original data shape: ', x_train.shape)\n",
    "print('label: ', y_train)\n",
    "\n",
    "plt.figure()\n",
    "plt.imshow(x_train[0])\n",
    "plt.show()\n",
    "\n",
    "# Pre-process (batch, shuffle)\n",
    "train_loader = torch.utils.data.DataLoader(train_data, batch_size = batch_size, shuffle = True, num_workers = 1, drop_last = True)\n",
    "test_loader = torch.utils.data.DataLoader(test_data, batch_size = 10000, shuffle = True, num_workers = 1, drop_last = True)\n",
    "\n",
    "# check the data \n",
    "examples = enumerate(train_loader)\n",
    "batch_idx, (example_data, example_target) = next(examples)\n",
    "\n",
    "print('processed data shape:', example_data.shape)\n",
    "print('label:', example_target)\n",
    "\n",
    "plt.figure()\n",
    "plt.imshow(example_data[0][0])\n",
    "plt.show()"
   ]
  },
  {
   "cell_type": "markdown",
   "metadata": {
    "slideshow": {
     "slide_type": "skip"
    }
   },
   "source": [
    "# Model & Optimization and Loss function"
   ]
  },
  {
   "cell_type": "code",
   "execution_count": 5,
   "metadata": {
    "slideshow": {
     "slide_type": "skip"
    }
   },
   "outputs": [],
   "source": [
    "# model\n",
    "model = nn.Sequential(\n",
    "        nn.Linear(np.prod(x_train.shape[1:]),1024),\n",
    "        act,\n",
    "        nn.Linear(1024,300),\n",
    "        act,\n",
    "        nn.Linear(300,10)\n",
    "        )\n",
    "\n",
    "model = model.to(device)\n",
    "model.train()\n",
    "\n",
    "# loss and optimizer\n",
    "loss_function = nn.CrossEntropyLoss()\n",
    "optimizer = optim.SGD(model.parameters(), lr = learning_rate)"
   ]
  },
  {
   "cell_type": "markdown",
   "metadata": {
    "slideshow": {
     "slide_type": "skip"
    }
   },
   "source": [
    "# Train & Test"
   ]
  },
  {
   "cell_type": "code",
   "execution_count": 6,
   "metadata": {
    "slideshow": {
     "slide_type": "skip"
    }
   },
   "outputs": [
    {
     "name": "stdout",
     "output_type": "stream",
     "text": [
      "Epoch: 1 \\Loss: tensor(0.1555, device='cuda:0', grad_fn=<NllLossBackward>)\n",
      "Epoch: 6 \\Loss: tensor(0.1244, device='cuda:0', grad_fn=<NllLossBackward>)\n",
      "Epoch: 11 \\Loss: tensor(0.0067, device='cuda:0', grad_fn=<NllLossBackward>)\n",
      "Epoch: 16 \\Loss: tensor(0.0023, device='cuda:0', grad_fn=<NllLossBackward>)\n",
      "Epoch: 21 \\Loss: tensor(0.0509, device='cuda:0', grad_fn=<NllLossBackward>)\n",
      "Epoch: 26 \\Loss: tensor(0.0007, device='cuda:0', grad_fn=<NllLossBackward>)\n",
      "total 10000\n",
      "correct tensor(9817., device='cuda:0')\n",
      "accuracy tensor(0.9817, device='cuda:0')\n"
     ]
    }
   ],
   "source": [
    "loss_array = []\n",
    "iteration_loss_array = []\n",
    "\n",
    "# train the model\n",
    "for epoch in range(epochs):\n",
    "    for iteration, [data, label] in enumerate(train_loader):\n",
    "        optimizer.zero_grad()\n",
    "        \n",
    "        x = data.to(device)\n",
    "        x = x.view(batch_size, -1)\n",
    "        y = label.to(device)\n",
    "        \n",
    "        output = model(x)\n",
    "\n",
    "        loss = loss_function(output, y)\n",
    "        loss.backward()\n",
    "        optimizer.step()\n",
    "        iteration_loss_array.append(loss.cpu().detach().numpy())\n",
    "            \n",
    "    loss_array.append(loss.cpu().detach().numpy())\n",
    "    \n",
    "    if epoch % 5 == 0:\n",
    "        print(\"Epoch:\", epoch + 1, \"\\Loss:\", loss)\n",
    "\n",
    "# test\n",
    "model.eval()\n",
    "correct = 0\n",
    "total = 0\n",
    "\n",
    "prediction_list = []\n",
    "label_list = []\n",
    "\n",
    "with torch.no_grad():\n",
    "    for data, label in test_loader:\n",
    "        x = data.to(device)\n",
    "        x = x.view(-1, 784)\n",
    "        y = label.to(device)\n",
    "        \n",
    "        prediction = model(x)\n",
    "        _, prediction_index = torch.max(prediction, 1)\n",
    "                \n",
    "        prediction_list.append(prediction_index)\n",
    "        label_list.append(y)\n",
    "        \n",
    "        total += y.size(0)\n",
    "        correct += (prediction_index == y).sum().float()\n",
    "        \n",
    "print('total', total)\n",
    "print('correct', correct)\n",
    "print('accuracy', correct/total)"
   ]
  },
  {
   "cell_type": "markdown",
   "metadata": {
    "slideshow": {
     "slide_type": "skip"
    }
   },
   "source": [
    "## Plot result & Confusion matrix"
   ]
  },
  {
   "cell_type": "code",
   "execution_count": 8,
   "metadata": {},
   "outputs": [
    {
     "name": "stdout",
     "output_type": "stream",
     "text": [
      "Collecting sklearn\n",
      "  Downloading sklearn-0.0.tar.gz (1.1 kB)\n",
      "Collecting scikit-learn\n",
      "  Downloading scikit_learn-0.23.2-cp38-cp38-manylinux1_x86_64.whl (6.8 MB)\n",
      "\u001b[K     |████████████████████████████████| 6.8 MB 1.3 MB/s eta 0:00:01\n",
      "\u001b[?25hRequirement already satisfied: numpy>=1.13.3 in /home/piai/anaconda3/envs/pytorch/lib/python3.8/site-packages (from scikit-learn->sklearn) (1.19.2)\n",
      "Collecting joblib>=0.11\n",
      "  Downloading joblib-0.17.0-py3-none-any.whl (301 kB)\n",
      "\u001b[K     |████████████████████████████████| 301 kB 15.5 MB/s eta 0:00:01\n",
      "\u001b[?25hCollecting scipy>=0.19.1\n",
      "  Downloading scipy-1.5.4-cp38-cp38-manylinux1_x86_64.whl (25.8 MB)\n",
      "\u001b[K     |████████████████████████████████| 25.8 MB 7.6 MB/s eta 0:00:012     |█████████████████████████████▎  | 23.6 MB 4.8 MB/s eta 0:00:01\n",
      "\u001b[?25hRequirement already satisfied: numpy>=1.13.3 in /home/piai/anaconda3/envs/pytorch/lib/python3.8/site-packages (from scikit-learn->sklearn) (1.19.2)\n",
      "Collecting threadpoolctl>=2.0.0\n",
      "  Downloading threadpoolctl-2.1.0-py3-none-any.whl (12 kB)\n",
      "Building wheels for collected packages: sklearn\n",
      "  Building wheel for sklearn (setup.py) ... \u001b[?25ldone\n",
      "\u001b[?25h  Created wheel for sklearn: filename=sklearn-0.0-py2.py3-none-any.whl size=1315 sha256=70e341557ae1bc4414b74fffa212254dc367e52ae149729114c1b529eec6f383\n",
      "  Stored in directory: /home/piai/.cache/pip/wheels/22/0b/40/fd3f795caaa1fb4c6cb738bc1f56100be1e57da95849bfc897\n",
      "Successfully built sklearn\n",
      "Installing collected packages: threadpoolctl, scipy, joblib, scikit-learn, sklearn\n",
      "Successfully installed joblib-0.17.0 scikit-learn-0.23.2 scipy-1.5.4 sklearn-0.0 threadpoolctl-2.1.0\n"
     ]
    }
   ],
   "source": [
    "# !pip install sklearn"
   ]
  },
  {
   "cell_type": "code",
   "execution_count": 7,
   "metadata": {
    "slideshow": {
     "slide_type": "skip"
    }
   },
   "outputs": [
    {
     "data": {
      "image/png": "[encoded data removed]",
      "text/plain": [
       "<Figure size 432x288 with 1 Axes>"
      ]
     },
     "metadata": {
      "needs_background": "light"
     },
     "output_type": "display_data"
    },
    {
     "data": {
      "image/png": "[encoded data removed]",
      "text/plain": [
       "<Figure size 432x288 with 1 Axes>"
      ]
     },
     "metadata": {
      "needs_background": "light"
     },
     "output_type": "display_data"
    },
    {
     "name": "stdout",
     "output_type": "stream",
     "text": [
      "prediction : (10000,)\n",
      "true label : (10000,)\n"
     ]
    },
    {
     "data": {
      "text/plain": [
       "array([[ 973,    0,    1,    1,    1,    1,    2,    1,    0,    0],\n",
       "       [   0, 1124,    2,    2,    0,    1,    2,    1,    3,    0],\n",
       "       [   4,    0, 1010,    5,    1,    0,    2,    6,    4,    0],\n",
       "       [   0,    0,    2,  993,    1,    3,    0,    4,    4,    3],\n",
       "       [   0,    0,    0,    1,  961,    1,    5,    2,    0,   12],\n",
       "       [   3,    0,    0,    8,    2,  869,    5,    0,    2,    3],\n",
       "       [   3,    2,    1,    0,    4,    4,  940,    0,    4,    0],\n",
       "       [   2,    3,    6,    2,    2,    0,    0, 1005,    2,    6],\n",
       "       [   2,    0,    2,    3,    1,    3,    1,    2,  958,    2],\n",
       "       [   1,    2,    0,    4,    9,    2,    0,    5,    2,  984]])"
      ]
     },
     "execution_count": 7,
     "metadata": {},
     "output_type": "execute_result"
    }
   ],
   "source": [
    "# plot losses\n",
    "plt.figure()\n",
    "plt.plot(loss_array)\n",
    "plt.show()\n",
    "# plot iteration losses\n",
    "plt.figure()\n",
    "plt.plot(iteration_loss_array)\n",
    "plt.show()\n",
    "\n",
    "# confusion matrix\n",
    "from sklearn.metrics import confusion_matrix\n",
    "import numpy as np\n",
    "    \n",
    "prediction_array = np.array(prediction_list[0].cpu())\n",
    "label_array = np.array(label_list[0].cpu())\n",
    "\n",
    "print(\"prediction :\", prediction_array.shape)\n",
    "print(\"true label :\", label_array.shape)\n",
    "\n",
    "confusion_matrix(\n",
    "    label_array,\n",
    "    prediction_array) # y_pred"
   ]
  },
  {
   "cell_type": "markdown",
   "metadata": {
    "slideshow": {
     "slide_type": "slide"
    }
   },
   "source": [
    "# Build FC Layer Model\n",
    "## (Show inner distribution)"
   ]
  },
  {
   "cell_type": "code",
   "execution_count": 8,
   "metadata": {
    "slideshow": {
     "slide_type": "-"
    }
   },
   "outputs": [],
   "source": [
    "# model\n",
    "class MLP(nn.Module):\n",
    "    def __init__(self):\n",
    "        super(MLP, self).__init__()\n",
    "        self.hidden1 = 1024\n",
    "        self.hidden2 = 300\n",
    "        self.final = 10\n",
    "\n",
    "        self.fc1 = nn.Linear(784, self.hidden1)\n",
    "        self.act1 = nn.Tanh()\n",
    "        self.fc2 = nn.Linear(self.hidden1, self.hidden2)\n",
    "        self.act2 = nn.Tanh()\n",
    "        self.fc3 = nn.Linear(self.hidden2, self.final)\n",
    "\n",
    "    def forward(self, x):\n",
    "        output1 = self.fc1(x)\n",
    "        hidden1 = self.act1(output1)\n",
    "\n",
    "        output2 = self.fc2(hidden1)\n",
    "        hidden2 = self.act2(output2)\n",
    "        \n",
    "        logit = self.fc3(hidden2)\n",
    "        \n",
    "        return output1, hidden1, output2, hidden2, logit\n",
    "\n",
    "model = MLP().to(device)\n",
    "model.train()\n",
    "\n",
    "# loss and optimizer\n",
    "loss_function = nn.CrossEntropyLoss()\n",
    "optimizer = optim.SGD(model.parameters(), lr = learning_rate)"
   ]
  },
  {
   "cell_type": "markdown",
   "metadata": {
    "slideshow": {
     "slide_type": "slide"
    }
   },
   "source": [
    "# Train & Test"
   ]
  },
  {
   "cell_type": "code",
   "execution_count": 9,
   "metadata": {
    "slideshow": {
     "slide_type": "-"
    }
   },
   "outputs": [
    {
     "name": "stdout",
     "output_type": "stream",
     "text": [
      "0 epoch loss: 0.37169188261032104\n",
      "5 epoch loss: 0.15690180659294128\n",
      "10 epoch loss: 0.019328201189637184\n",
      "15 epoch loss: 0.007254998665302992\n",
      "20 epoch loss: 0.009144747629761696\n",
      "25 epoch loss: 0.0005418533110059798\n",
      "total 10000\n",
      "correct tensor(9826., device='cuda:0')\n",
      "accuracy tensor(0.9826, device='cuda:0')\n"
     ]
    }
   ],
   "source": [
    "loss_array = []\n",
    "\n",
    "# train the model\n",
    "for i in range(epochs):\n",
    "    for index, [data, label] in enumerate(train_loader):\n",
    "        data = data.to(device)\n",
    "        label = label.to(device)\n",
    "                \n",
    "        optimizer.zero_grad()\n",
    "        data = data.view(batch_size, -1)\n",
    "        output1, hidden1, output2, hidden2, logit = model.forward(data)\n",
    "        loss = loss_function(logit, label)\n",
    "        loss.backward()\n",
    "        optimizer.step()\n",
    "        \n",
    "    loss_array.append(loss.cpu().detach().numpy())\n",
    "\n",
    "    if i % display_step == 0:\n",
    "        print('{} epoch loss: {}'.format(i,loss))\n",
    "        \n",
    "# test\n",
    "model.eval()\n",
    "correct = 0\n",
    "total = 0\n",
    "\n",
    "prediction_list = []\n",
    "label_list = []\n",
    "\n",
    "with torch.no_grad():\n",
    "    for data, label in test_loader:\n",
    "        x = data.to(device)\n",
    "        x = x.view(-1, 784)\n",
    "        y = label.to(device)\n",
    "        \n",
    "        output1, hidden1, output2, hidden2, prediction = model(x)\n",
    "        _, prediction_index = torch.max(prediction, 1)\n",
    "                \n",
    "        prediction_list.append(prediction_index)\n",
    "        label_list.append(y)\n",
    "        \n",
    "        total += y.size(0)\n",
    "        correct += (prediction_index == y).sum().float()\n",
    "        \n",
    "print('total', total)\n",
    "print('correct', correct)\n",
    "print('accuracy', correct/total)"
   ]
  },
  {
   "cell_type": "markdown",
   "metadata": {
    "slideshow": {
     "slide_type": "subslide"
    }
   },
   "source": [
    "## Plot result"
   ]
  },
  {
   "cell_type": "code",
   "execution_count": 10,
   "metadata": {
    "slideshow": {
     "slide_type": "-"
    }
   },
   "outputs": [
    {
     "data": {
      "image/png": "[encoded data removed]",
      "text/plain": [
       "<Figure size 432x288 with 1 Axes>"
      ]
     },
     "metadata": {
      "needs_background": "light"
     },
     "output_type": "display_data"
    },
    {
     "name": "stdout",
     "output_type": "stream",
     "text": [
      "prediction : (10000,)\n",
      "true label : (10000,)\n"
     ]
    },
    {
     "data": {
      "text/plain": [
       "array([[ 972,    0,    1,    1,    1,    2,    1,    1,    0,    1],\n",
       "       [   0, 1126,    2,    1,    0,    1,    2,    1,    2,    0],\n",
       "       [   4,    0, 1012,    4,    1,    0,    3,    3,    5,    0],\n",
       "       [   1,    0,    4,  993,    0,    3,    0,    1,    3,    5],\n",
       "       [   0,    0,    4,    0,  966,    0,    1,    2,    0,    9],\n",
       "       [   5,    0,    0,    9,    1,  867,    4,    1,    3,    2],\n",
       "       [   3,    1,    1,    1,    4,    3,  944,    0,    1,    0],\n",
       "       [   1,    2,    5,    1,    1,    0,    0, 1012,    1,    5],\n",
       "       [   4,    0,    2,    2,    1,    3,    1,    4,  955,    2],\n",
       "       [   2,    2,    0,    6,    8,    2,    0,    7,    3,  979]])"
      ]
     },
     "execution_count": 10,
     "metadata": {},
     "output_type": "execute_result"
    }
   ],
   "source": [
    "plt.figure()\n",
    "plt.plot(loss_array)\n",
    "plt3.show()\n",
    "\n",
    "# confusion matrix\n",
    "from sklearn.metrics import confusion_matrix\n",
    "import numpy as np\n",
    "    \n",
    "prediction_array = np.array(prediction_list[0].cpu())\n",
    "label_array = np.array(label_list[0].cpu())\n",
    "\n",
    "print(\"prediction :\", prediction_array.shape)\n",
    "print(\"true label :\", label_array.shape)\n",
    "\n",
    "confusion_matrix(\n",
    "    label_array,\n",
    "    prediction_array) # y_pred"
   ]
  },
  {
   "cell_type": "markdown",
   "metadata": {
    "slideshow": {
     "slide_type": "subslide"
    }
   },
   "source": [
    "## Show inner distribution"
   ]
  },
  {
   "cell_type": "code",
   "execution_count": 11,
   "metadata": {
    "slideshow": {
     "slide_type": "-"
    }
   },
   "outputs": [
    {
     "name": "stdout",
     "output_type": "stream",
     "text": [
      "torch.Size([10000, 784]) torch.Size([10000, 1024]) torch.Size([10000, 1024]) torch.Size([10000, 300]) torch.Size([10000, 300])\n"
     ]
    },
    {
     "data": {
      "image/png": "[encoded data removed]",
      "text/plain": [
       "<Figure size 720x504 with 6 Axes>"
      ]
     },
     "metadata": {
      "needs_background": "light"
     },
     "output_type": "display_data"
    }
   ],
   "source": [
    "print(x.shape, output1.shape, hidden1.shape, output2.shape, hidden2.shape)\n",
    "\n",
    "def plot_inner_dist(x, o1, h1, o2, h2):\n",
    "    fig, axs = plt.subplots(2, 3, figsize=(10, 7), sharex='col')\n",
    "    axs[0, 0].hist(o1.reshape(-1))\n",
    "    axs[0, 1].hist(h1.reshape(-1))\n",
    "    axs[0, 2].scatter(o1[0], h1[0])\n",
    "    \n",
    "    axs[1, 0].hist(o2.reshape(-1))\n",
    "    axs[1, 1].hist(h2.reshape(-1))\n",
    "    axs[1, 2].scatter(o2[0], h2[0])\n",
    "    plt.show()\n",
    "plot_inner_dist(x.cpu().numpy(), output1.cpu().numpy(), \n",
    "                hidden1.cpu().numpy(), output2.cpu().numpy(), hidden2.cpu().numpy())"
   ]
  },
  {
   "cell_type": "markdown",
   "metadata": {
    "slideshow": {
     "slide_type": "slide"
    }
   },
   "source": [
    "# Add Batch Normalize Layers"
   ]
  },
  {
   "cell_type": "code",
   "execution_count": 12,
   "metadata": {
    "slideshow": {
     "slide_type": "-"
    }
   },
   "outputs": [],
   "source": [
    "# model\n",
    "class MLP(nn.Module):\n",
    "    def __init__(self):\n",
    "        super(MLP, self).__init__()\n",
    "        self.hidden1 = 1024\n",
    "        self.hidden2 = 300\n",
    "        self.final = 10\n",
    "\n",
    "        self.fc1 = nn.Linear(784, self.hidden1)\n",
    "        self.bn1 = nn.BatchNorm1d(self.hidden1)\n",
    "        self.act1 = nn.Tanh()\n",
    "        self.fc2 = nn.Linear(self.hidden1, self.hidden2)\n",
    "        self.bn2 = nn.BatchNorm1d(self.hidden2)\n",
    "        self.act2 = nn.Tanh()\n",
    "        self.fc3 = nn.Linear(self.hidden2, self.final)\n",
    "\n",
    "    def forward(self, x):\n",
    "        output1 = self.fc1(x)\n",
    "        bn1 = self.bn1(output1)\n",
    "        hidden1 = self.act1(bn1)\n",
    "\n",
    "        output2 = self.fc2(hidden1)\n",
    "        bn2 = self.bn2(output2) # 액티베이션 전에 배치노말라이제이션 함\n",
    "        hidden2 = self.act2(bn2)\n",
    "        \n",
    "        logit = self.fc3(hidden2)\n",
    "        \n",
    "        return output1, hidden1, output2, hidden2, logit\n",
    "\n",
    "model = MLP().to(device)\n",
    "model.train()\n",
    "\n",
    "# loss and optimizer\n",
    "loss_function = nn.CrossEntropyLoss()\n",
    "optimizer = optim.SGD(model.parameters(), lr = learning_rate)"
   ]
  },
  {
   "cell_type": "markdown",
   "metadata": {
    "slideshow": {
     "slide_type": "slide"
    }
   },
   "source": [
    "# Train & Test"
   ]
  },
  {
   "cell_type": "code",
   "execution_count": 15,
   "metadata": {
    "slideshow": {
     "slide_type": "-"
    }
   },
   "outputs": [
    {
     "name": "stdout",
     "output_type": "stream",
     "text": [
      "0 epoch loss: 0.13499917089939117\n",
      "5 epoch loss: 0.028773145750164986\n",
      "10 epoch loss: 0.0029729113448411226\n",
      "15 epoch loss: 0.0002784520329441875\n",
      "20 epoch loss: 0.00238997139967978\n",
      "25 epoch loss: 0.0002593646349851042\n",
      "total 10000\n",
      "correct tensor(9839.)\n",
      "accuracy tensor(0.9839)\n"
     ]
    }
   ],
   "source": [
    "loss_array = []\n",
    "\n",
    "# train the model\n",
    "for i in range(epochs):\n",
    "    for index, [data, label] in enumerate(train_loader):\n",
    "        data = data.to(device)\n",
    "        label = label.to(device)\n",
    "                \n",
    "        optimizer.zero_grad()\n",
    "        data = data.view(batch_size, -1)\n",
    "        output1, hidden1, output2, hidden2, logit = model.forward(data)\n",
    "        loss = loss_function(logit, label)\n",
    "        loss.backward()\n",
    "        optimizer.step()\n",
    "        \n",
    "    loss_array.append(loss.cpu().detach().numpy())\n",
    "    \n",
    "    if i % display_step == 0:\n",
    "        print('{} epoch loss: {}'.format(i,loss))\n",
    "        \n",
    "        \n",
    "# test\n",
    "model.eval()\n",
    "correct = 0\n",
    "total = 0\n",
    "\n",
    "prediction_list = []\n",
    "label_list = []\n",
    "\n",
    "with torch.no_grad():\n",
    "    for data, label in test_loader:\n",
    "        x = data.to(device)\n",
    "        x = x.view(-1, 784)\n",
    "        y = label.to(device)\n",
    "        \n",
    "        output1, hidden1, output2, hidden2, prediction = model(x)\n",
    "        _, prediction_index = torch.max(prediction, 1)\n",
    "                \n",
    "        prediction_list.append(prediction_index)\n",
    "        label_list.append(y)\n",
    "        \n",
    "        total += y.size(0)\n",
    "        correct += (prediction_index == y).sum().float()\n",
    "        \n",
    "print('total', total)\n",
    "print('correct', correct)\n",
    "print('accuracy', correct/total)"
   ]
  },
  {
   "cell_type": "markdown",
   "metadata": {
    "slideshow": {
     "slide_type": "subslide"
    }
   },
   "source": [
    "## Plot the result"
   ]
  },
  {
   "cell_type": "code",
   "execution_count": 16,
   "metadata": {
    "slideshow": {
     "slide_type": "-"
    }
   },
   "outputs": [
    {
     "data": {
      "image/png": "[encoded data removed]",
      "text/plain": [
       "<Figure size 432x288 with 1 Axes>"
      ]
     },
     "metadata": {
      "needs_background": "light"
     },
     "output_type": "display_data"
    },
    {
     "name": "stdout",
     "output_type": "stream",
     "text": [
      "prediction : (10000,)\n",
      "true label : (10000,)\n"
     ]
    },
    {
     "data": {
      "text/plain": [
       "array([[ 971,    1,    3,    0,    0,    1,    2,    1,    0,    1],\n",
       "       [   1, 1127,    2,    1,    0,    0,    1,    1,    2,    0],\n",
       "       [   3,    1, 1015,    1,    1,    0,    0,    6,    4,    1],\n",
       "       [   1,    0,    8,  986,    0,    3,    0,    4,    6,    2],\n",
       "       [   1,    0,    0,    1,  966,    0,    5,    1,    1,    7],\n",
       "       [   2,    0,    0,    9,    1,  868,    6,    3,    2,    1],\n",
       "       [   3,    1,    3,    0,    2,    3,  945,    0,    1,    0],\n",
       "       [   0,    0,    5,    0,    1,    0,    0, 1016,    2,    4],\n",
       "       [   2,    0,    0,    2,    2,    2,    0,    1,  961,    4],\n",
       "       [   2,    3,    0,    4,    7,    2,    0,    5,    2,  984]])"
      ]
     },
     "execution_count": 16,
     "metadata": {},
     "output_type": "execute_result"
    }
   ],
   "source": [
    "plt.figure()\n",
    "plt.plot(loss_array)\n",
    "plt.show()\n",
    "\n",
    "# confusion matrix\n",
    "from sklearn.metrics import confusion_matrix\n",
    "import numpy as np\n",
    "    \n",
    "prediction_array = np.array(prediction_list[0].cpu())\n",
    "label_array = np.array(label_list[0].cpu())\n",
    "\n",
    "print(\"prediction :\", prediction_array.shape)\n",
    "print(\"true label :\", label_array.shape)\n",
    "\n",
    "confusion_matrix(\n",
    "    label_array,\n",
    "    prediction_array) # y_pred"
   ]
  },
  {
   "cell_type": "markdown",
   "metadata": {
    "slideshow": {
     "slide_type": "subslide"
    }
   },
   "source": [
    "## Show inner distribution"
   ]
  },
  {
   "cell_type": "code",
   "execution_count": 17,
   "metadata": {},
   "outputs": [
    {
     "name": "stdout",
     "output_type": "stream",
     "text": [
      "torch.Size([10000, 784]) torch.Size([10000, 1024]) torch.Size([10000, 1024]) torch.Size([10000, 300]) torch.Size([10000, 300])\n"
     ]
    },
    {
     "data": {
      "image/png": "[encoded data removed]",
      "text/plain": [
       "<Figure size 720x504 with 6 Axes>"
      ]
     },
     "metadata": {
      "needs_background": "light"
     },
     "output_type": "display_data"
    }
   ],
   "source": [
    "print(x.shape, output1.shape, hidden1.shape, output2.shape, hidden2.shape)\n",
    "\n",
    "def plot_inner_dist(x, o1, h1, o2, h2):\n",
    "    fig, axs = plt.subplots(2, 3, figsize=(10, 7), sharex='col')\n",
    "    axs[0, 0].hist(o1.reshape(-1))\n",
    "    axs[0, 1].hist(h1.reshape(-1))\n",
    "    axs[0, 2].scatter(o1[0], h1[0])\n",
    "    axs[1, 0].hist(o2.reshape(-1))\n",
    "    axs[1, 1].hist(h2.reshape(-1))\n",
    "    axs[1, 2].scatter(o2[0], h2[0])\n",
    "    plt.show()\n",
    "\n",
    "plot_inner_dist(x.cpu().numpy(), output1.cpu().numpy(), \n",
    "                hidden1.cpu().numpy(), output2.cpu().numpy(), hidden2.cpu().numpy())"
   ]
  },
  {
   "cell_type": "code",
   "execution_count": null,
   "metadata": {},
   "outputs": [],
   "source": [
    "# 배치노말라이제이션 이후 0에 집약됨. -> 그래디언트 소실문제 보완"
   ]
  },
  {
   "cell_type": "markdown",
   "metadata": {
    "slideshow": {
     "slide_type": "slide"
    }
   },
   "source": [
    "# Add Dropout Layers"
   ]
  },
  {
   "cell_type": "code",
   "execution_count": 18,
   "metadata": {
    "slideshow": {
     "slide_type": "-"
    }
   },
   "outputs": [],
   "source": [
    "# hyper parameter setting\n",
    "learning_rate = 1e-1\n",
    "epochs = 100\n",
    "# batch_size = 60000 # gradient descent\n",
    "# batch_size = 1 # stochastic gradient descent\n",
    "batch_size = 32 # mini-batch stochastic gradient descent\n",
    "act = nn.Tanh()\n",
    "h = 200\n",
    "display_step = 10\n",
    "dropout_rate = .2 # probability to be 0 / 각각의 노드가 꺼질 확률"
   ]
  },
  {
   "cell_type": "code",
   "execution_count": 19,
   "metadata": {
    "slideshow": {
     "slide_type": "-"
    }
   },
   "outputs": [],
   "source": [
    "# model\n",
    "class MLP(nn.Module):\n",
    "    def __init__(self):\n",
    "        super(MLP, self).__init__()\n",
    "        self.hidden1 = 1024\n",
    "        self.hidden2 = 300\n",
    "        self.final = 10\n",
    "\n",
    "        self.fc1 = nn.Linear(784, self.hidden1)\n",
    "        self.act1 = nn.Tanh()\n",
    "        self.drop1 = nn.Dropout(dropout_rate)\n",
    "        self.fc2 = nn.Linear(self.hidden1, self.hidden2)\n",
    "        self.act2 = nn.Tanh()\n",
    "        self.drop2 = nn.Dropout(dropout_rate)\n",
    "        self.fc3 = nn.Linear(self.hidden2, self.final)\n",
    "\n",
    "    def forward(self, x):\n",
    "        output1 = self.fc1(x)\n",
    "        hidden1 = self.act1(output1)\n",
    "        drop1 = self.drop1(hidden1)\n",
    "        \n",
    "        output2 = self.fc2(drop1)\n",
    "        hidden2 = self.act2(output2)\n",
    "        drop2 = self.drop2(hidden2) # 아까와 다르게 액티베이션 함수 뒤에 드랍아웃 함\n",
    "        \n",
    "        logit = self.fc3(drop2)\n",
    "        \n",
    "        return logit\n",
    "\n",
    "model = MLP().to(device)\n",
    "model.train()\n",
    "\n",
    "# loss and optimizer\n",
    "loss_function = nn.CrossEntropyLoss()\n",
    "optimizer = optim.SGD(model.parameters(), lr = learning_rate)"
   ]
  },
  {
   "cell_type": "markdown",
   "metadata": {
    "slideshow": {
     "slide_type": "slide"
    }
   },
   "source": [
    "# Train & Test"
   ]
  },
  {
   "cell_type": "code",
   "execution_count": 20,
   "metadata": {
    "slideshow": {
     "slide_type": "-"
    }
   },
   "outputs": [
    {
     "name": "stdout",
     "output_type": "stream",
     "text": [
      "0 epoch loss: 0.21708019077777863\n",
      "10 epoch loss: 0.0022646277211606503\n",
      "20 epoch loss: 0.0042423983104527\n",
      "30 epoch loss: 0.003515404649078846\n",
      "40 epoch loss: 0.001038988004438579\n",
      "50 epoch loss: 0.030972078442573547\n",
      "60 epoch loss: 0.00045486848102882504\n",
      "70 epoch loss: 0.00012559257447719574\n",
      "80 epoch loss: 2.990920256706886e-05\n",
      "90 epoch loss: 0.0002600516891106963\n",
      "total 10000\n",
      "correct tensor(9830.)\n",
      "accuracy tensor(0.9830)\n"
     ]
    }
   ],
   "source": [
    "loss_array = []\n",
    "\n",
    "# train the model\n",
    "for i in range(epochs):\n",
    "    for index, [data, label] in enumerate(train_loader):\n",
    "        data = data.to(device)\n",
    "        label = label.to(device)\n",
    "                \n",
    "        optimizer.zero_grad()\n",
    "        data = data.view(batch_size, -1)\n",
    "        logit = model.forward(data)\n",
    "        loss = loss_function(logit, label)\n",
    "        loss.backward()\n",
    "        optimizer.step()\n",
    "        \n",
    "    loss_array.append(loss.cpu().detach().numpy())\n",
    "    \n",
    "    if i % display_step == 0:\n",
    "        print('{} epoch loss: {}'.format(i,loss))\n",
    "        \n",
    "        \n",
    "# test\n",
    "model.eval()\n",
    "correct = 0\n",
    "total = 0\n",
    "\n",
    "prediction_list = []\n",
    "label_list = []\n",
    "\n",
    "with torch.no_grad():\n",
    "    for data, label in test_loader:\n",
    "        x = data.to(device)\n",
    "        x = x.view(-1, 784)\n",
    "        y = label.to(device)\n",
    "        \n",
    "        prediction = model(x)\n",
    "        _, prediction_index = torch.max(prediction, 1)\n",
    "                \n",
    "        prediction_list.append(prediction_index)\n",
    "        label_list.append(y)\n",
    "        \n",
    "        total += y.size(0)\n",
    "        correct += (prediction_index == y).sum().float()\n",
    "        \n",
    "print('total', total)\n",
    "print('correct', correct)\n",
    "print('accuracy', correct/total)"
   ]
  },
  {
   "cell_type": "markdown",
   "metadata": {
    "slideshow": {
     "slide_type": "subslide"
    }
   },
   "source": [
    "## Plot result"
   ]
  },
  {
   "cell_type": "code",
   "execution_count": 21,
   "metadata": {
    "slideshow": {
     "slide_type": "-"
    }
   },
   "outputs": [
    {
     "data": {
      "image/png": "[encoded data removed]",
      "text/plain": [
       "<Figure size 432x288 with 1 Axes>"
      ]
     },
     "metadata": {
      "needs_background": "light"
     },
     "output_type": "display_data"
    },
    {
     "name": "stdout",
     "output_type": "stream",
     "text": [
      "prediction : (10000,)\n",
      "true label : (10000,)\n"
     ]
    },
    {
     "data": {
      "text/plain": [
       "array([[ 974,    0,    0,    1,    0,    1,    0,    1,    3,    0],\n",
       "       [   0, 1127,    2,    2,    0,    1,    2,    1,    0,    0],\n",
       "       [   4,    2, 1014,    1,    2,    0,    2,    5,    2,    0],\n",
       "       [   0,    0,    1,  994,    0,    0,    0,    5,    5,    5],\n",
       "       [   0,    0,    3,    0,  962,    0,    4,    2,    0,   11],\n",
       "       [   3,    0,    0,    8,    2,  868,    3,    1,    4,    3],\n",
       "       [   4,    2,    1,    1,    3,    2,  943,    0,    2,    0],\n",
       "       [   1,    4,    7,    1,    3,    0,    0, 1005,    2,    5],\n",
       "       [   0,    1,    2,    2,    1,    3,    0,    4,  958,    3],\n",
       "       [   2,    2,    0,    4,    9,    1,    0,    6,    0,  985]])"
      ]
     },
     "execution_count": 21,
     "metadata": {},
     "output_type": "execute_result"
    }
   ],
   "source": [
    "plt.figure()\n",
    "plt.plot(loss_array)\n",
    "plt.show()\n",
    "\n",
    "# confusion matrix\n",
    "from sklearn.metrics import confusion_matrix\n",
    "import numpy as np\n",
    "    \n",
    "prediction_array = np.array(prediction_list[0].cpu())\n",
    "label_array = np.array(label_list[0].cpu())\n",
    "\n",
    "print(\"prediction :\", prediction_array.shape)\n",
    "print(\"true label :\", label_array.shape)\n",
    "\n",
    "confusion_matrix(\n",
    "    label_array,\n",
    "    prediction_array) # y_pred"
   ]
  },
  {
   "cell_type": "markdown",
   "metadata": {
    "slideshow": {
     "slide_type": "slide"
    }
   },
   "source": [
    "# Add Batch norm, Dropout Layers"
   ]
  },
  {
   "cell_type": "code",
   "execution_count": 22,
   "metadata": {
    "slideshow": {
     "slide_type": "-"
    }
   },
   "outputs": [],
   "source": [
    "# model\n",
    "class MLP(nn.Module):\n",
    "    def __init__(self):\n",
    "        super(MLP, self).__init__()\n",
    "        self.hidden1 = 1024\n",
    "        self.hidden2 = 300\n",
    "        self.final = 10\n",
    "\n",
    "        self.fc1 = nn.Linear(784, self.hidden1)\n",
    "        self.bn1 = nn.BatchNorm1d(self.hidden1)\n",
    "        self.act1 = nn.Tanh()\n",
    "        self.drop1 = nn.Dropout(dropout_rate)\n",
    "        \n",
    "        self.fc2 = nn.Linear(self.hidden1, self.hidden2)\n",
    "        self.bn2 = nn.BatchNorm1d(self.hidden2)\n",
    "        self.act2 = nn.Tanh()\n",
    "        self.drop2 = nn.Dropout(dropout_rate)\n",
    "        \n",
    "        self.fc3 = nn.Linear(self.hidden2, self.final)\n",
    "\n",
    "    def forward(self, x):\n",
    "        output1 = self.fc1(x)\n",
    "        bn1 = self.bn1(output1)\n",
    "        hidden1 = self.act1(bn1)\n",
    "        drop1 = self.drop1(hidden1)\n",
    "\n",
    "        output2 = self.fc2(drop1)\n",
    "        bn2 = self.bn2(output2)\n",
    "        hidden2 = self.act2(bn2)\n",
    "        drop2 = self.drop2(hidden2)\n",
    "        \n",
    "        logit = self.fc3(drop2)\n",
    "        \n",
    "        return logit\n",
    "\n",
    "model = MLP().to(device)\n",
    "model.train()\n",
    "\n",
    "# loss and optimizer\n",
    "loss_function = nn.CrossEntropyLoss()\n",
    "optimizer = optim.SGD(model.parameters(), lr = learning_rate)"
   ]
  },
  {
   "cell_type": "markdown",
   "metadata": {
    "slideshow": {
     "slide_type": "slide"
    }
   },
   "source": [
    "# Train & Test"
   ]
  },
  {
   "cell_type": "code",
   "execution_count": 23,
   "metadata": {
    "slideshow": {
     "slide_type": "-"
    }
   },
   "outputs": [
    {
     "name": "stdout",
     "output_type": "stream",
     "text": [
      "0 epoch loss: 0.26784875988960266\n",
      "10 epoch loss: 0.14367887377738953\n",
      "20 epoch loss: 0.011898941360414028\n",
      "30 epoch loss: 0.01766960136592388\n",
      "40 epoch loss: 0.001021892880089581\n",
      "50 epoch loss: 0.000501427159179002\n",
      "60 epoch loss: 0.014040084555745125\n",
      "70 epoch loss: 1.2127971785957925e-05\n",
      "80 epoch loss: 0.00046532167471013963\n",
      "90 epoch loss: 0.0003185016685165465\n",
      "total 10000\n",
      "correct tensor(9861.)\n",
      "accuracy tensor(0.9861)\n"
     ]
    }
   ],
   "source": [
    "loss_array = []\n",
    "\n",
    "# train the model\n",
    "for i in range(epochs):\n",
    "    for index, [data, label] in enumerate(train_loader):\n",
    "        data = data.to(device)\n",
    "        label = label.to(device)\n",
    "                \n",
    "        optimizer.zero_grad()\n",
    "        data = data.view(batch_size, -1)\n",
    "        logit = model.forward(data)\n",
    "        loss = loss_function(logit, label)\n",
    "        loss.backward()\n",
    "        optimizer.step()\n",
    "        \n",
    "    loss_array.append(loss.cpu().detach().numpy())\n",
    "    \n",
    "    if i % display_step == 0:\n",
    "        print('{} epoch loss: {}'.format(i,loss))\n",
    "        \n",
    "        \n",
    "# test\n",
    "model.eval()\n",
    "correct = 0\n",
    "total = 0\n",
    "\n",
    "prediction_list = []\n",
    "label_list = []\n",
    "\n",
    "with torch.no_grad():\n",
    "    for data, label in test_loader:\n",
    "        x = data.to(device)\n",
    "        x = x.view(-1, 784)\n",
    "        y = label.to(device)\n",
    "        \n",
    "        prediction = model(x)\n",
    "        _, prediction_index = torch.max(prediction, 1)\n",
    "                \n",
    "        prediction_list.append(prediction_index)\n",
    "        label_list.append(y)\n",
    "        \n",
    "        total += y.size(0)\n",
    "        correct += (prediction_index == y).sum().float()\n",
    "        \n",
    "print('total', total)\n",
    "print('correct', correct)\n",
    "print('accuracy', correct/total)"
   ]
  },
  {
   "cell_type": "markdown",
   "metadata": {
    "slideshow": {
     "slide_type": "subslide"
    }
   },
   "source": [
    "## Plot result"
   ]
  },
  {
   "cell_type": "code",
   "execution_count": 21,
   "metadata": {
    "slideshow": {
     "slide_type": "-"
    }
   },
   "outputs": [
    {
     "data": {
      "image/png": "[encoded data removed]",
      "text/plain": [
       "<Figure size 432x288 with 1 Axes>"
      ]
     },
     "metadata": {
      "needs_background": "light"
     },
     "output_type": "display_data"
    },
    {
     "name": "stdout",
     "output_type": "stream",
     "text": [
      "prediction : (10000,)\n",
      "true label : (10000,)\n"
     ]
    },
    {
     "data": {
      "text/plain": [
       "array([[ 974,    1,    2,    0,    0,    1,    0,    1,    1,    0],\n",
       "       [   1, 1125,    3,    0,    0,    0,    2,    1,    3,    0],\n",
       "       [   1,    1, 1020,    2,    0,    0,    1,    3,    3,    1],\n",
       "       [   0,    0,    2,  997,    0,    2,    0,    4,    3,    2],\n",
       "       [   2,    0,    1,    1,  965,    0,    4,    0,    1,    8],\n",
       "       [   2,    0,    0,   10,    1,  870,    4,    1,    3,    1],\n",
       "       [   3,    2,    1,    1,    2,    3,  946,    0,    0,    0],\n",
       "       [   0,    3,    9,    2,    0,    0,    0, 1011,    2,    1],\n",
       "       [   2,    1,    2,    2,    2,    4,    0,    2,  957,    2],\n",
       "       [   3,    3,    0,    7,    5,    1,    0,    2,    2,  986]],\n",
       "      dtype=int64)"
      ]
     },
     "execution_count": 21,
     "metadata": {},
     "output_type": "execute_result"
    }
   ],
   "source": [
    "plt.figure()\n",
    "plt.plot(loss_array)\n",
    "plt.show()\n",
    "\n",
    "# confusion matrix\n",
    "from sklearn.metrics import confusion_matrix\n",
    "import numpy as np\n",
    "    \n",
    "prediction_array = np.array(prediction_list[0].cpu())\n",
    "label_array = np.array(label_list[0].cpu())\n",
    "\n",
    "print(\"prediction :\", prediction_array.shape)\n",
    "print(\"true label :\", label_array.shape)\n",
    "\n",
    "confusion_matrix(\n",
    "    label_array,\n",
    "    prediction_array) # y_pred"
   ]
  },
  {
   "cell_type": "markdown",
   "metadata": {
    "slideshow": {
     "slide_type": "skip"
    }
   },
   "source": [
    "# Advanced: batch norm + dropout in CNN"
   ]
  },
  {
   "cell_type": "code",
   "execution_count": 22,
   "metadata": {},
   "outputs": [],
   "source": [
    "test_loader = torch.utils.data.DataLoader(test_data, batch_size = batch_size, shuffle = True, num_workers = 1, drop_last = True)\n",
    "\n",
    "# batchnorm + dropout in CNN\n",
    "class CNN(nn.Module):\n",
    "    def __init__(self):\n",
    "        super(CNN,self).__init__()\n",
    "        self.feature_extraction = nn.Sequential(\n",
    "            nn.Conv2d(1, 16, 3, padding =1), # 28 x 28\n",
    "            nn.BatchNorm2d(16),\n",
    "            nn.ReLU(),\n",
    "            nn.MaxPool2d(2,2),\n",
    "            nn.Conv2d(16, 32, 3, padding =1), # 14 x 14 \n",
    "            nn.BatchNorm2d(32),\n",
    "            nn.ReLU(),\n",
    "            nn.MaxPool2d(2,2) # 7 x 7\n",
    "        )\n",
    "        self.classifier = nn.Sequential(\n",
    "            nn.Linear(32*7*7,100),\n",
    "            nn.BatchNorm1d(100),\n",
    "            nn.ReLU(),\n",
    "            nn.Dropout(dropout_rate),\n",
    "            nn.Linear(100,10)\n",
    "        )\n",
    "    def forward(self, x):\n",
    "        feature_extraction = self.feature_extraction(x)\n",
    "        flatten = feature_extraction.view(batch_size, -1)         \n",
    "        logit = self.classifier(flatten)\n",
    "        \n",
    "        return logit\n",
    "        \n",
    "model = CNN().to(device)\n",
    "model.train()\n",
    "\n",
    "# loss and optimizer\n",
    "loss_function = nn.CrossEntropyLoss()\n",
    "optimizer = optim.SGD(model.parameters(), lr = learning_rate)"
   ]
  },
  {
   "cell_type": "markdown",
   "metadata": {
    "slideshow": {
     "slide_type": "slide"
    }
   },
   "source": [
    "# Train & Test"
   ]
  },
  {
   "cell_type": "code",
   "execution_count": 23,
   "metadata": {},
   "outputs": [
    {
     "name": "stdout",
     "output_type": "stream",
     "text": [
      "0 epoch loss: 0.192315936088562\n",
      "10 epoch loss: 0.03905729949474335\n",
      "20 epoch loss: 0.0023034662008285522\n",
      "30 epoch loss: 7.680058479309082e-05\n",
      "40 epoch loss: 1.1265277862548828e-05\n",
      "50 epoch loss: 0.0001609325408935547\n",
      "60 epoch loss: 2.5987625122070312e-05\n",
      "70 epoch loss: 7.331371307373047e-06\n",
      "80 epoch loss: 9.447336196899414e-06\n",
      "90 epoch loss: 0.002233251929283142\n",
      "Accuracy of the model: 0.9931890964508057\n"
     ]
    }
   ],
   "source": [
    "loss_array = []\n",
    "\n",
    "# train the model\n",
    "for i in range(epochs):\n",
    "    for index, [data, label] in enumerate(train_loader):\n",
    "        data = data.to(device)\n",
    "        label = label.to(device)\n",
    "                \n",
    "        optimizer.zero_grad()\n",
    "        output = model.forward(data)\n",
    "        loss = loss_function(output, label)\n",
    "        loss.backward()\n",
    "        optimizer.step()\n",
    "        \n",
    "    if i % display_step == 0:\n",
    "        print('{} epoch loss: {}'.format(i,loss))\n",
    "        loss_array.append(loss.cpu().detach().numpy())\n",
    "        \n",
    "#test the model\n",
    "model.eval()\n",
    "correct = 0\n",
    "total = 0\n",
    "\n",
    "prediction_list = []\n",
    "label_list = []\n",
    "\n",
    "with torch.no_grad():\n",
    "    for index, [data, label] in enumerate(test_loader):\n",
    "        data = data.to(device)\n",
    "        label = label.to(device)\n",
    "        \n",
    "        output = model.forward(data)\n",
    "        _, prediction_index = torch.max(output, 1)\n",
    "        \n",
    "        prediction_list.append(prediction_index)\n",
    "        label_list.append(label)\n",
    "        \n",
    "        total += label.size(0)\n",
    "        correct += (prediction_index == label).sum().float()\n",
    "\n",
    "    print(\"Accuracy of the model: {}\".format(correct/total))"
   ]
  },
  {
   "cell_type": "code",
   "execution_count": null,
   "metadata": {},
   "outputs": [],
   "source": []
  }
 ],
 "metadata": {
  "celltoolbar": "Slideshow",
  "kernelspec": {
   "display_name": "Python 3",
   "language": "python",
   "name": "python3"
  },
  "language_info": {
   "codemirror_mode": {
    "name": "ipython",
    "version": 3
   },
   "file_extension": ".py",
   "mimetype": "text/x-python",
   "name": "python",
   "nbconvert_exporter": "python",
   "pygments_lexer": "ipython3",
   "version": "3.8.5"
  },
  "widgets": {
   "state": {},
   "version": "1.1.2"
  }
 },
 "nbformat": 4,
 "nbformat_minor": 2
}
