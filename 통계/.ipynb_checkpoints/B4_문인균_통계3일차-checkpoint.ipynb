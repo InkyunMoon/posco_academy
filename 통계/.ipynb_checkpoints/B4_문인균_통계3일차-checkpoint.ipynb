{
 "cells": [
  {
   "cell_type": "markdown",
   "metadata": {},
   "source": [
    "## 문제1 - p149 Proportion test \n",
    "#### 동전이 정상적인가를 검정하기 위해 100번을 던져본 결과, 앞면이 40번 나왔으며 뒷면이 60번 나왔다. 이 동전은 정상인가를 유의수준 α=0.05로써 검정하라.  \n",
    "\n",
    "#### 정상적인 동전을 던질 때, 앞면이 나올 확률은 50%이다."
   ]
  },
  {
   "cell_type": "code",
   "execution_count": 47,
   "metadata": {},
   "outputs": [],
   "source": [
    "import numpy as np\n",
    "from scipy import stats\n",
    "import matplotlib.pyplot as plt\n",
    "import scipy.stats\n",
    "import pandas as pd\n",
    "import statsmodels.api as srn\n",
    "import matplotlib.pyplot as plt\n",
    "import seaborn as sns\n",
    "import statsmodels.api as sm\n",
    "from statsmodels.stats.proportion import proportions_ztest\n",
    "from sklearn.linear_model import LinearRegression"
   ]
  },
  {
   "cell_type": "markdown",
   "metadata": {},
   "source": [
    "##### 1)가설 설정  \n",
    "H0: p = 0.5 (주어진 동전은 정상적인 동전이다.)  \n",
    "H1: p≠0.5 (주어진 동전은 정상적인 동전이 아니다.)  \n",
    "α=0.05"
   ]
  },
  {
   "cell_type": "markdown",
   "metadata": {},
   "source": [
    "##### 2) 가설 검정의 수행"
   ]
  },
  {
   "cell_type": "code",
   "execution_count": 6,
   "metadata": {},
   "outputs": [
    {
     "name": "stdout",
     "output_type": "stream",
     "text": [
      "1 Proportion test\n",
      "z:-2.041\n",
      "p:0.041\n"
     ]
    }
   ],
   "source": [
    "count = 40\n",
    "n_obs = 100\n",
    "value = 0.5\n",
    "\n",
    "stat, pval = proportions_ztest(count, n_obs, value)\n",
    "\n",
    "print(\"1 Proportion test\")\n",
    "print('z:{0:0.3f}'.format(stat))\n",
    "print('p:{0:0.3f}'.format(pval))"
   ]
  },
  {
   "cell_type": "markdown",
   "metadata": {},
   "source": [
    "##### 3) 검정결과의 판단"
   ]
  },
  {
   "cell_type": "markdown",
   "metadata": {},
   "source": [
    "p-value가 유의수준 0.05보다 작으므로 귀무가설을 기각한다.  \n",
    "따라서, 유의수준 0.05에서 주어진 동전은 정상적인 동전이 아니라고 할 수 있다."
   ]
  },
  {
   "cell_type": "markdown",
   "metadata": {},
   "source": [
    "## 문제2 - p151 2 Proportion test\n",
    "#### 동일한 제품을 생산하는 두 공장에서 불량률을 측정한 결과 아래와 같다.  \n",
    "#### 두 공정의 불량률이 같다고 할 수 있는가? (유의수준 = 0.05)\n",
    "- 공장 A: N1 = 1200, X1 = 14  \n",
    "- 공장 B: N2 = 1200, X2 = 5"
   ]
  },
  {
   "cell_type": "markdown",
   "metadata": {},
   "source": [
    "##### 1)가설 설정  \n",
    "H0: p1 = p2 (두 공장에서의 불량률은 서로 같다.)  \n",
    "H1: p1≠p2 (두 공장에서의 불량률은 서로 같지 않다.)\n",
    "α=0.05"
   ]
  },
  {
   "cell_type": "markdown",
   "metadata": {},
   "source": [
    "##### 2) 가설 검정의 수행"
   ]
  },
  {
   "cell_type": "code",
   "execution_count": 8,
   "metadata": {},
   "outputs": [
    {
     "name": "stdout",
     "output_type": "stream",
     "text": [
      "2 proportion test\n",
      "z:2.073\n",
      "p: 0.038\n"
     ]
    }
   ],
   "source": [
    "count2 = np.array([14, 5])\n",
    "n_obs2 = np.array([1200,1200])\n",
    "\n",
    "stat2, pval2 = proportions_ztest(count2,n_obs2)\n",
    "\n",
    "print('2 proportion test')\n",
    "print('z:{0:0.3f}'.format(stat2))\n",
    "print('p: {0:0.3f}'.format(pval2))"
   ]
  },
  {
   "cell_type": "markdown",
   "metadata": {},
   "source": [
    "##### 3) 검정결과의 판단  \n",
    "p-value가 유의수준 0.05보다 작으므로 귀무가설을 기각한다.  \n",
    "따라서, 유의수준 0.05에서 두 공장에서의 불량률은 같지 않다고 할 수 있다."
   ]
  },
  {
   "cell_type": "markdown",
   "metadata": {},
   "source": [
    "## 문제3 - p159 카이제곱 검정\n",
    "#### 노트북 컴퓨터의 6가지 제품(A,B,C,D,E,F)에 대하여 7가지 제품의 이미지를 중복 선택 할 수 있도록 323명의 소비자를 대상으로 설문조사한 테이블이다. 각 제품에 대해 이미지에 대해 차이가 있겠는가? (유의수준 = 0.05)"
   ]
  },
  {
   "cell_type": "markdown",
   "metadata": {},
   "source": [
    "##### 1)가설 설정  \n",
    "H0: A=B=C=D=E=F (각 제품에 대해 이미지 차이가 없다.)  \n",
    "H1:적어도 하나의 제품에 대해 이미지 차이가 있다.  \n",
    "α=0.05"
   ]
  },
  {
   "cell_type": "code",
   "execution_count": 11,
   "metadata": {},
   "outputs": [
    {
     "data": {
      "text/html": [
       "<div>\n",
       "<style scoped>\n",
       "    .dataframe tbody tr th:only-of-type {\n",
       "        vertical-align: middle;\n",
       "    }\n",
       "\n",
       "    .dataframe tbody tr th {\n",
       "        vertical-align: top;\n",
       "    }\n",
       "\n",
       "    .dataframe thead th {\n",
       "        text-align: right;\n",
       "    }\n",
       "</style>\n",
       "<table border=\"1\" class=\"dataframe\">\n",
       "  <thead>\n",
       "    <tr style=\"text-align: right;\">\n",
       "      <th></th>\n",
       "      <th>A</th>\n",
       "      <th>B</th>\n",
       "      <th>C</th>\n",
       "      <th>D</th>\n",
       "      <th>E</th>\n",
       "      <th>F</th>\n",
       "    </tr>\n",
       "  </thead>\n",
       "  <tbody>\n",
       "    <tr>\n",
       "      <th>0</th>\n",
       "      <td>18</td>\n",
       "      <td>8</td>\n",
       "      <td>4</td>\n",
       "      <td>4</td>\n",
       "      <td>3</td>\n",
       "      <td>3</td>\n",
       "    </tr>\n",
       "    <tr>\n",
       "      <th>1</th>\n",
       "      <td>1</td>\n",
       "      <td>2</td>\n",
       "      <td>1</td>\n",
       "      <td>1</td>\n",
       "      <td>1</td>\n",
       "      <td>25</td>\n",
       "    </tr>\n",
       "    <tr>\n",
       "      <th>2</th>\n",
       "      <td>8</td>\n",
       "      <td>14</td>\n",
       "      <td>3</td>\n",
       "      <td>2</td>\n",
       "      <td>3</td>\n",
       "      <td>8</td>\n",
       "    </tr>\n",
       "    <tr>\n",
       "      <th>3</th>\n",
       "      <td>7</td>\n",
       "      <td>5</td>\n",
       "      <td>4</td>\n",
       "      <td>3</td>\n",
       "      <td>1</td>\n",
       "      <td>10</td>\n",
       "    </tr>\n",
       "    <tr>\n",
       "      <th>4</th>\n",
       "      <td>10</td>\n",
       "      <td>5</td>\n",
       "      <td>9</td>\n",
       "      <td>2</td>\n",
       "      <td>1</td>\n",
       "      <td>2</td>\n",
       "    </tr>\n",
       "    <tr>\n",
       "      <th>5</th>\n",
       "      <td>9</td>\n",
       "      <td>9</td>\n",
       "      <td>5</td>\n",
       "      <td>7</td>\n",
       "      <td>1</td>\n",
       "      <td>1</td>\n",
       "    </tr>\n",
       "    <tr>\n",
       "      <th>6</th>\n",
       "      <td>10</td>\n",
       "      <td>4</td>\n",
       "      <td>4</td>\n",
       "      <td>3</td>\n",
       "      <td>1</td>\n",
       "      <td>7</td>\n",
       "    </tr>\n",
       "  </tbody>\n",
       "</table>\n",
       "</div>"
      ],
      "text/plain": [
       "    A   B  C  D  E   F\n",
       "0  18   8  4  4  3   3\n",
       "1   1   2  1  1  1  25\n",
       "2   8  14  3  2  3   8\n",
       "3   7   5  4  3  1  10\n",
       "4  10   5  9  2  1   2\n",
       "5   9   9  5  7  1   1\n",
       "6  10   4  4  3  1   7"
      ]
     },
     "execution_count": 11,
     "metadata": {},
     "output_type": "execute_result"
    }
   ],
   "source": [
    "data = pd.DataFrame({'A':[18,1,8,7,10,9,10],'B':[8,2,14,5,5,9,4],'C':[4,1,3,4,9,5,4],'D':[4,1,2,3,2,7,3],'E':[3,1,3,1,1,1,1],'F':[3,25,8,10,2,1,7]})\n",
    "data"
   ]
  },
  {
   "cell_type": "markdown",
   "metadata": {},
   "source": [
    "##### 2) 가설 검정의 수행"
   ]
  },
  {
   "cell_type": "code",
   "execution_count": 14,
   "metadata": {},
   "outputs": [
    {
     "name": "stdout",
     "output_type": "stream",
     "text": [
      "chi-square test\n",
      "chisq:98.274\n",
      "p:0.000\n",
      "degree pf freedom:30\n",
      "expected value: \n",
      "[[11.004  8.528 10.454  8.253  7.978  8.803  7.978]\n",
      " [ 8.21   6.362  7.799  6.157  5.952  6.568  5.952]\n",
      " [ 5.24   4.061  4.978  3.93   3.799  4.192  3.799]\n",
      " [ 3.843  2.978  3.651  2.882  2.786  3.074  2.786]\n",
      " [ 1.921  1.489  1.825  1.441  1.393  1.537  1.393]\n",
      " [ 9.782  7.581  9.293  7.336  7.092  7.825  7.092]]\n"
     ]
    }
   ],
   "source": [
    "chi, pval, dof, expected = stats.chi2_contingency(data.T)\n",
    "\n",
    "print('chi-square test')\n",
    "print('chisq:{0:0.3f}'.format(chi))\n",
    "print('p:{0:0.3f}'.format(pval))\n",
    "print('degree pf freedom:{}'.format(dof))\n",
    "print('expected value: \\n{}'.format(expected.round(3)))"
   ]
  },
  {
   "cell_type": "markdown",
   "metadata": {},
   "source": [
    "##### 3) 검정결과의 판단"
   ]
  },
  {
   "cell_type": "markdown",
   "metadata": {},
   "source": [
    "p-value가 유의수준 0.05보다 작으므로 귀무가설을 기각한다.  \n",
    "따라서, 유의수준 0.05에서 적어도 하나의 제품에 대해 이미지 차이가 있다고 할 수 있다."
   ]
  },
  {
   "cell_type": "markdown",
   "metadata": {},
   "source": [
    "## 문제4 - p196 단순선형회귀"
   ]
  },
  {
   "cell_type": "code",
   "execution_count": 44,
   "metadata": {},
   "outputs": [],
   "source": [
    "strength = [37.6,38.6,37.2,36.4,38.6,39,37.2,36.1,35.9,37.1,36.9,37.5,36.3,38.1,39,36.9,36.8,37.6,33,33.5]\n",
    "time = [0.798922,0.84902,0.816163,0.758266,0.815894,0.807477,0.809068,0.7664,0.742243,0.751118,0.740629,0.751495,0.738863,0.827428,0.818172,0.740939,0.757128,0.804695,0.695121,0.735377]"
   ]
  },
  {
   "cell_type": "markdown",
   "metadata": {},
   "source": [
    "##### 1)가설 설정  \n",
    "H0: β1 = 0 (회귀계수 β1은 0이다.)\n",
    "H1: β1≠ 0 (회귀계수 β1은 0이 아니다.)\n",
    "α=0.05"
   ]
  },
  {
   "cell_type": "markdown",
   "metadata": {},
   "source": [
    "#### 2) 가설 검정의 수행"
   ]
  },
  {
   "cell_type": "code",
   "execution_count": 45,
   "metadata": {
    "scrolled": true
   },
   "outputs": [
    {
     "name": "stdout",
     "output_type": "stream",
     "text": [
      "                            OLS Regression Results                            \n",
      "==============================================================================\n",
      "Dep. Variable:                      y   R-squared:                       0.646\n",
      "Model:                            OLS   Adj. R-squared:                  0.627\n",
      "Method:                 Least Squares   F-statistic:                     32.90\n",
      "Date:                Wed, 11 Nov 2020   Prob (F-statistic):           1.95e-05\n",
      "Time:                        23:45:22   Log-Likelihood:                -26.431\n",
      "No. Observations:                  20   AIC:                             56.86\n",
      "Df Residuals:                      18   BIC:                             58.85\n",
      "Df Model:                           1                                         \n",
      "Covariance Type:            nonrobust                                         \n",
      "==============================================================================\n",
      "                 coef    std err          t      P>|t|      [0.025      0.975]\n",
      "------------------------------------------------------------------------------\n",
      "const         13.0013      4.184      3.108      0.006       4.212      21.791\n",
      "x1            30.8722      5.383      5.736      0.000      19.564      42.181\n",
      "==============================================================================\n",
      "Omnibus:                        1.724   Durbin-Watson:                   0.765\n",
      "Prob(Omnibus):                  0.422   Jarque-Bera (JB):                1.206\n",
      "Skew:                          -0.589   Prob(JB):                        0.547\n",
      "Kurtosis:                       2.753   Cond. No.                         40.4\n",
      "==============================================================================\n",
      "\n",
      "Warnings:\n",
      "[1] Standard Errors assume that the covariance matrix of the errors is correctly specified.\n"
     ]
    }
   ],
   "source": [
    "time = sm.add_constant(time)\n",
    "model = sm.OLS(strength, time)\n",
    "result = model.fit()\n",
    "\n",
    "print(result.summary())"
   ]
  },
  {
   "cell_type": "markdown",
   "metadata": {},
   "source": [
    "#### 3) 검정결과의 판단"
   ]
  },
  {
   "cell_type": "markdown",
   "metadata": {},
   "source": [
    "주어진 ANOVA테이블로부터, p-value가 유의수준 0.05보다 낮으므로 귀무가설을 기각한다.  \n",
    "따라서, 회귀계수 β1는 0이 아니라고 할 수 있다.  \n",
    "독립변수 x1의 p값은 0.000이므로 유의수준 0.05에서 유의미한 변수임을 알 수 있다. x1의 계수는 30.8722이다.\n",
    "\n",
    "추정된 회귀식은 다음과 같다."
   ]
  },
  {
   "cell_type": "markdown",
   "metadata": {},
   "source": [
    "$$\n",
    "\\hat{Y} = 13.0013 + 30.8722 * time\n",
    "$$"
   ]
  },
  {
   "cell_type": "markdown",
   "metadata": {},
   "source": [
    "##### 잔차의 정규성 검정\n",
    "H0: 잔차는 정규분포를 따른다.  \n",
    "H1: 잔차는 정규분포를 따르지 않는다.\n",
    "유의수준 = 0.05\n",
    "\n",
    "Omnibus와 Jarque-Bera의 p-value는 유의수준 0.05보다 크므로, 귀무가설을 채택한다.  \n",
    "따라서, 잔차는 정규성을 따른다고 할 수 있다."
   ]
  },
  {
   "cell_type": "code",
   "execution_count": 56,
   "metadata": {},
   "outputs": [
    {
     "data": {
      "text/plain": [
       "array([37.6658332 , 39.21246933, 38.19810103, 36.4106925 , 38.1897964 ,\n",
       "       37.92994498, 37.97906267, 36.66180708, 35.91602703, 36.19001792,\n",
       "       35.86619928, 36.20165674, 35.81167895, 38.54587651, 38.2601233 ,\n",
       "       35.87576966, 36.37555992, 37.84405849, 34.4612666 , 35.70405841])"
      ]
     },
     "execution_count": 56,
     "metadata": {},
     "output_type": "execute_result"
    }
   ],
   "source": [
    "result.fittedvalues"
   ]
  },
  {
   "cell_type": "code",
   "execution_count": 48,
   "metadata": {},
   "outputs": [
    {
     "data": {
      "text/plain": [
       "<matplotlib.lines.Line2D at 0x231b472d948>"
      ]
     },
     "execution_count": 48,
     "metadata": {},
     "output_type": "execute_result"
    },
    {
     "data": {
      "image/png": "[encoded data removed]",
      "text/plain": [
       "<Figure size 432x288 with 1 Axes>"
      ]
     },
     "metadata": {
      "needs_background": "light"
     },
     "output_type": "display_data"
    }
   ],
   "source": [
    "plt.scatter(result.fittedvalues, result.resid)\n",
    "plt.xlabel('fitted value')\n",
    "plt.ylabel('residual')\n",
    "plt.axhline(y=0, linestyle='--')"
   ]
  },
  {
   "cell_type": "markdown",
   "metadata": {},
   "source": [
    "잔차가 정규성을 따르므로, 위의 fit-residual 그래프를 살펴보았을 때, 적합값에 따라 잔차가 랜덤하게 분포함을 알 수 있다."
   ]
  },
  {
   "cell_type": "code",
   "execution_count": 51,
   "metadata": {},
   "outputs": [
    {
     "data": {
      "text/plain": [
       "<matplotlib.lines.Line2D at 0x231b472b108>"
      ]
     },
     "execution_count": 51,
     "metadata": {},
     "output_type": "execute_result"
    },
    {
     "data": {
      "image/png": "[encoded data removed]",
      "text/plain": [
       "<Figure size 432x288 with 1 Axes>"
      ]
     },
     "metadata": {
      "needs_background": "light"
     },
     "output_type": "display_data"
    }
   ],
   "source": [
    "plt.scatter(range(0,len(result.resid)), result.resid, marker='o')\n",
    "plt.xlabel('Data')\n",
    "plt.ylabel('residual')\n",
    "plt.axhline(y=0,linestyle='-')\n",
    "plt.axhline(y=3*np.std(result.resid), linestyle='--')\n",
    "plt.axhline(y=-3*np.std(result.resid),linestyle='--')"
   ]
  },
  {
   "cell_type": "markdown",
   "metadata": {},
   "source": [
    "더빈 왓슨 검정 통계량을 살펴보았을 때, 0.765의 값으로 잔차들간에 양의 상관관계가 존재함을 알 수 있다. 이와같은 경향은 잔차도를 그려봤을 때, 잔차에 일정한 경향성이 있음을 확인할 수 있다."
   ]
  },
  {
   "cell_type": "code",
   "execution_count": null,
   "metadata": {},
   "outputs": [],
   "source": []
  }
 ],
 "metadata": {
  "hide_input": false,
  "kernelspec": {
   "display_name": "Python 3",
   "language": "python",
   "name": "python3"
  },
  "language_info": {
   "codemirror_mode": {
    "name": "ipython",
    "version": 3
   },
   "file_extension": ".py",
   "mimetype": "text/x-python",
   "name": "python",
   "nbconvert_exporter": "python",
   "pygments_lexer": "ipython3",
   "version": "3.8.5"
  }
 },
 "nbformat": 4,
 "nbformat_minor": 4
}
