{
 "cells": [
  {
   "cell_type": "markdown",
   "metadata": {},
   "source": [
    "OOP과제 - 1page"
   ]
  },
  {
   "cell_type": "code",
   "execution_count": 321,
   "metadata": {},
   "outputs": [],
   "source": [
    "class Set:\n",
    "     \n",
    "    def __init__(self,lst = []):\n",
    "        self.lst = lst\n",
    "        self.temp_lst = []\n",
    "        for i in self.lst:\n",
    "            if i not in self.temp_lst:\n",
    "                self.temp_lst.append(i)\n",
    "        self.lst = self.temp_lst\n",
    "    def add(self, elem):\n",
    "        if elem not in self.temp_lst:\n",
    "            self.temp_lst.append(elem)\n",
    "        return self.temp_lst\n",
    "\n",
    "    def discard(self, elem):\n",
    "        if elem in self.temp_lst:\n",
    "            self.temp_lst.remove(elem)\n",
    "        return self.temp_lst\n",
    "    \n",
    "    def clear(self):\n",
    "        return []\n",
    "\n",
    "    def __len__(self):\n",
    "        count = 0\n",
    "        for i in self.temp_lst:\n",
    "            count += 1\n",
    "        return count\n",
    "\n",
    "### 2page\n",
    "    def __str__(self, other = []):\n",
    "        temp = str(self.temp_lst).replace('[', '{')\n",
    "        temp = temp[:temp.rfind(']')] + '}'\n",
    "        return temp\n",
    "    \n",
    "    def __contains__(self,elem):\n",
    "        if elem in self.temp_lst:\n",
    "            return True\n",
    "        else:\n",
    "            return False\n",
    "        \n",
    "    def __le__(self, other):\n",
    "        for i in self.lst:\n",
    "            num = other.lst.count(i)\n",
    "            if num == 0:    \n",
    "                return False\n",
    "        return True\n",
    " \n",
    "    def __ge__(self, other):\n",
    "        for i in other.lst:\n",
    "            num = self.lst.count(i)\n",
    "            if num == 0:    \n",
    "                return False\n",
    "        return True\n",
    "    \n",
    "    \n",
    "### 3page\n",
    "    \n",
    "    def __or__(self,other):\n",
    "        temp = []\n",
    "        union = self.lst + other.lst\n",
    "        for i in union:\n",
    "            if i not in temp:\n",
    "                temp.append(i)\n",
    "        return temp\n",
    "        \n",
    "    def __and__(self, other):\n",
    "        temp = []\n",
    "        for i in self.lst:\n",
    "            if i in other.lst:\n",
    "                temp.append(i)\n",
    "        return temp\n",
    "    \n",
    "    def __sub__(self, other):\n",
    "        temp = []\n",
    "        for i in self.lst:\n",
    "            if i not in other.lst:\n",
    "                temp.append(i)\n",
    "        return temp\n",
    "    \n",
    "    def __ior__(self, other):\n",
    "        temp = []\n",
    "        union = self.lst + other.lst\n",
    "        for i in union:\n",
    "            if i not in temp:\n",
    "                temp.append(i)\n",
    "        self.lst == temp\n",
    "        return self.lst"
   ]
  },
  {
   "cell_type": "code",
   "execution_count": 322,
   "metadata": {},
   "outputs": [],
   "source": [
    "lst1 = [1,2,3]\n",
    "lst2 = [3,4]\n",
    "a = Set(lst1)\n",
    "b = Set(lst2)"
   ]
  },
  {
   "cell_type": "code",
   "execution_count": 314,
   "metadata": {
    "scrolled": true
   },
   "outputs": [
    {
     "data": {
      "text/plain": [
       "3"
      ]
     },
     "execution_count": 314,
     "metadata": {},
     "output_type": "execute_result"
    }
   ],
   "source": [
    "a.__len__()"
   ]
  },
  {
   "cell_type": "markdown",
   "metadata": {},
   "source": [
    "2page"
   ]
  },
  {
   "cell_type": "code",
   "execution_count": 222,
   "metadata": {},
   "outputs": [
    {
     "data": {
      "text/plain": [
       "'{1, 2, 3, 4, 5, 6, 7, 8, 9, 10}'"
      ]
     },
     "execution_count": 222,
     "metadata": {},
     "output_type": "execute_result"
    }
   ],
   "source": [
    "a.__str__()"
   ]
  },
  {
   "cell_type": "code",
   "execution_count": 223,
   "metadata": {},
   "outputs": [
    {
     "data": {
      "text/plain": [
       "True"
      ]
     },
     "execution_count": 223,
     "metadata": {},
     "output_type": "execute_result"
    }
   ],
   "source": [
    "a.__contains__(3)"
   ]
  },
  {
   "cell_type": "code",
   "execution_count": 224,
   "metadata": {},
   "outputs": [
    {
     "data": {
      "text/plain": [
       "[]"
      ]
     },
     "execution_count": 224,
     "metadata": {},
     "output_type": "execute_result"
    }
   ],
   "source": [
    "a.clear()"
   ]
  },
  {
   "cell_type": "code",
   "execution_count": 225,
   "metadata": {},
   "outputs": [
    {
     "data": {
      "text/plain": [
       "False"
      ]
     },
     "execution_count": 225,
     "metadata": {},
     "output_type": "execute_result"
    }
   ],
   "source": [
    "a.__le__(b)"
   ]
  },
  {
   "cell_type": "code",
   "execution_count": 226,
   "metadata": {},
   "outputs": [
    {
     "data": {
      "text/plain": [
       "True"
      ]
     },
     "execution_count": 226,
     "metadata": {},
     "output_type": "execute_result"
    }
   ],
   "source": [
    "a.__ge__(b)"
   ]
  },
  {
   "cell_type": "markdown",
   "metadata": {},
   "source": [
    "3page"
   ]
  },
  {
   "cell_type": "code",
   "execution_count": 269,
   "metadata": {
    "scrolled": true
   },
   "outputs": [
    {
     "data": {
      "text/plain": [
       "[1, 2, 3, 4, 5, 6, 7, 8, 9, 10, 11]"
      ]
     },
     "execution_count": 269,
     "metadata": {},
     "output_type": "execute_result"
    }
   ],
   "source": [
    "a.__or__(b)"
   ]
  },
  {
   "cell_type": "code",
   "execution_count": 268,
   "metadata": {},
   "outputs": [
    {
     "data": {
      "text/plain": [
       "[1, 2, 3, 10]"
      ]
     },
     "execution_count": 268,
     "metadata": {},
     "output_type": "execute_result"
    }
   ],
   "source": [
    "a.__and__(b)"
   ]
  },
  {
   "cell_type": "code",
   "execution_count": 275,
   "metadata": {
    "scrolled": true
   },
   "outputs": [
    {
     "data": {
      "text/plain": [
       "[4, 5, 6, 7, 8, 9]"
      ]
     },
     "execution_count": 275,
     "metadata": {},
     "output_type": "execute_result"
    }
   ],
   "source": [
    "a - b"
   ]
  },
  {
   "cell_type": "code",
   "execution_count": 323,
   "metadata": {},
   "outputs": [
    {
     "name": "stdout",
     "output_type": "stream",
     "text": [
      "[1, 2, 3]\n"
     ]
    }
   ],
   "source": [
    "a |= b\n",
    "print(a)"
   ]
  },
  {
   "cell_type": "code",
   "execution_count": null,
   "metadata": {},
   "outputs": [],
   "source": []
  }
 ],
 "metadata": {
  "hide_input": false,
  "kernelspec": {
   "display_name": "Python 3",
   "language": "python",
   "name": "python3"
  },
  "language_info": {
   "codemirror_mode": {
    "name": "ipython",
    "version": 3
   },
   "file_extension": ".py",
   "mimetype": "text/x-python",
   "name": "python",
   "nbconvert_exporter": "python",
   "pygments_lexer": "ipython3",
   "version": "3.7.6"
  }
 },
 "nbformat": 4,
 "nbformat_minor": 4
}
