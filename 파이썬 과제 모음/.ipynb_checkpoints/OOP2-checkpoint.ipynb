{
 "cells": [
  {
   "cell_type": "code",
   "execution_count": 169,
   "metadata": {},
   "outputs": [],
   "source": [
    "a1 = set([1,2,3,4,5,4,3])\n",
    "b1 = set([7,6,5,4])"
   ]
  },
  {
   "cell_type": "code",
   "execution_count": 170,
   "metadata": {},
   "outputs": [
    {
     "data": {
      "text/plain": [
       "{1, 2, 3}"
      ]
     },
     "execution_count": 170,
     "metadata": {},
     "output_type": "execute_result"
    }
   ],
   "source": [
    "a1-=b1\n",
    "a1"
   ]
  },
  {
   "cell_type": "code",
   "execution_count": 171,
   "metadata": {},
   "outputs": [
    {
     "data": {
      "text/plain": [
       "{4, 5, 6, 7}"
      ]
     },
     "execution_count": 171,
     "metadata": {},
     "output_type": "execute_result"
    }
   ],
   "source": [
    "b1"
   ]
  },
  {
   "cell_type": "code",
   "execution_count": 287,
   "metadata": {},
   "outputs": [],
   "source": [
    "class Set:\n",
    "# 1 PAGE\n",
    "    def __init__(self,lst=[]):\n",
    "        ls = []\n",
    "        for i in lst:\n",
    "            if i not in ls:\n",
    "                ls.append(i)\n",
    "        self.lst = ls\n",
    "        \n",
    "    def add(self, elem):\n",
    "        if elem not in self.lst:\n",
    "            self.lst.append(elem)\n",
    "        return Set(self.lst)\n",
    "    \n",
    "    def discard(self, elem):\n",
    "        if elem in self.lst:\n",
    "            self.lst.remove(elem)\n",
    "        return Set(self.lst)\n",
    "    \n",
    "    def clear(self):\n",
    "        self.lst = []\n",
    "        return self.lst\n",
    "    \n",
    "    def __len__(self):\n",
    "        count = 0\n",
    "        for i in self.lst:\n",
    "            count += 1\n",
    "        return count\n",
    "# 2 PAGE    \n",
    "#     def __str__(self):\n",
    "#         temp = str(self.lst).replace('[','{')\n",
    "#         temp = temp.replace(temp[temp.rfind(']')],'}')\n",
    "#         self.lst = temp\n",
    "#         return self.lst\n",
    "    \n",
    "    def __str__(self):\n",
    "        temp = str(self.lst).replace('[','{')\n",
    "        temp = temp.replace(temp[temp.rfind(']')],'}')\n",
    "        return temp\n",
    "    \n",
    "    def __contains__(self,elem):\n",
    "        if elem in self.lst:\n",
    "            return True\n",
    "        else:\n",
    "            return False\n",
    "        \n",
    "    def __le__(self,other):\n",
    "        for i in self.lst:\n",
    "            num = other.lst.count(i)\n",
    "            if num == 0:\n",
    "                return False\n",
    "        return True\n",
    "    \n",
    "    def __ge__(self,other):\n",
    "        for i in other.lst:\n",
    "            num = self.lst.count(i)\n",
    "            if num == 0:\n",
    "                return False\n",
    "        return True\n",
    "# 3 PAGE\n",
    "    def __or__(self, other):\n",
    "        return Set(self.lst + other.lst)\n",
    "    \n",
    "    def __and__(self, other):\n",
    "        temp = []\n",
    "        for i in self.lst:\n",
    "            if i in other.lst:\n",
    "                temp.append(i)\n",
    "        return Set(temp)\n",
    "    \n",
    "    def __sub__(self, other):\n",
    "        temp = []\n",
    "        for i in self.lst:\n",
    "            if i not in other.lst:\n",
    "                temp.append(i)\n",
    "        return Set(temp)\n",
    "    \n",
    "#     def __ior__(self, other):\n",
    "#         self.lst = self.lst + other.lst\n",
    "#         return self.lst\n",
    "    \n",
    "#     def __iand__(self, other):\n",
    "#         temp = []\n",
    "#         for i in self.lst:\n",
    "#             if i in other.lst:\n",
    "#                 temp.append(i)\n",
    "#         self.lst = temp\n",
    "#         return self.lst\n",
    "    \n",
    "#     def __isub__(self, other):\n",
    "#         temp = []\n",
    "#         for i in self.lst:\n",
    "#             if i not in other.lst:\n",
    "#                 temp.append(i)\n",
    "#         self.lst = temp\n",
    "#         return self.lst"
   ]
  },
  {
   "cell_type": "code",
   "execution_count": 288,
   "metadata": {},
   "outputs": [],
   "source": [
    "a = Set([1,2,3,4])\n",
    "b = Set([1,2,3,4])"
   ]
  },
  {
   "cell_type": "code",
   "execution_count": 289,
   "metadata": {},
   "outputs": [
    {
     "name": "stdout",
     "output_type": "stream",
     "text": [
      "{1, 2, 3, 4}\n",
      "{1, 2, 3, 4}\n",
      "\n",
      "{1, 2, 3}\n",
      "{2, 3, 4}\n",
      "\n",
      "3\n",
      "True\n",
      "False\n",
      "\n",
      "{1, 2, 3, 4}\n",
      "{2, 3}\n",
      "{1}\n",
      "\n",
      "False\n",
      "True\n",
      "False\n",
      "True\n",
      "\n",
      "{}\n",
      "\n",
      "[1, 2, 3, 3, 4]\n",
      "False\n",
      "\n",
      "[3]\n",
      "False\n",
      "\n",
      "[1, 2]\n",
      "False\n",
      "\n"
     ]
    }
   ],
   "source": [
    "print(a)\n",
    "print(b)\n",
    "print()\n",
    "\n",
    "a.discard(4)\n",
    "b.discard(1)\n",
    "print(a)\n",
    "print(b)\n",
    "print()\n",
    "\n",
    "print(len(a))\n",
    "print(1 in a)\n",
    "print(1 in b)\n",
    "print()\n",
    "\n",
    "print(a | b)\n",
    "print(a & b)\n",
    "print(a - b)\n",
    "print()\n",
    "\n",
    "print(a <= b)\n",
    "print(a <= a | b)\n",
    "print(a >= b)\n",
    "print(a >= a & b)\n",
    "print()\n",
    "\n",
    "b.clear()\n",
    "print(b)\n",
    "print()\n",
    "\n",
    "a = Set([1,2,3])\n",
    "b = Set([3,4])\n",
    "address_a = id(a)\n",
    "a |= b\n",
    "print(a)\n",
    "print(address_a == id(a))\n",
    "print()\n",
    "\n",
    "a = Set([1,2,3])\n",
    "b = Set([3,4])\n",
    "address_a = id(a)\n",
    "a &= b\n",
    "print(a)\n",
    "print(address_a == id(a))\n",
    "print()\n",
    "\n",
    "a = Set([1,2,3])\n",
    "b = Set([3, 4])\n",
    "address_a = id(a)\n",
    "a -= b\n",
    "print(a)\n",
    "print(address_a == id(a))\n",
    "print()"
   ]
  },
  {
   "cell_type": "code",
   "execution_count": null,
   "metadata": {},
   "outputs": [],
   "source": []
  },
  {
   "cell_type": "code",
   "execution_count": null,
   "metadata": {},
   "outputs": [],
   "source": []
  }
 ],
 "metadata": {
  "hide_input": false,
  "kernelspec": {
   "display_name": "Python 3",
   "language": "python",
   "name": "python3"
  },
  "language_info": {
   "codemirror_mode": {
    "name": "ipython",
    "version": 3
   },
   "file_extension": ".py",
   "mimetype": "text/x-python",
   "name": "python",
   "nbconvert_exporter": "python",
   "pygments_lexer": "ipython3",
   "version": "3.7.9"
  }
 },
 "nbformat": 4,
 "nbformat_minor": 4
}
