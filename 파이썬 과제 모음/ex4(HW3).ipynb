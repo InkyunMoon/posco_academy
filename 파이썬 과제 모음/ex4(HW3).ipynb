{
 "cells": [
  {
   "cell_type": "markdown",
   "metadata": {},
   "source": [
    "#### 과제실습 2"
   ]
  },
  {
   "cell_type": "markdown",
   "metadata": {},
   "source": [
    "문제11) - PPT 문제"
   ]
  },
  {
   "cell_type": "code",
   "execution_count": 12,
   "metadata": {},
   "outputs": [
    {
     "name": "stdout",
     "output_type": "stream",
     "text": [
      "Input an integer: 3159\n",
      "★★★\n",
      "★\n",
      "★★★★★\n",
      "★★★★★★★★★\n"
     ]
    }
   ],
   "source": [
    "input_ = input('Input an integer: ')\n",
    "for i in input_:\n",
    "    print('★'*int(i))"
   ]
  },
  {
   "cell_type": "markdown",
   "metadata": {},
   "source": [
    "문제12) - PPT 문제"
   ]
  },
  {
   "cell_type": "code",
   "execution_count": 9,
   "metadata": {},
   "outputs": [
    {
     "name": "stdout",
     "output_type": "stream",
     "text": [
      "Enter a number: 7\n",
      "Enter a number: 2\n",
      "Enter a number: 9\n",
      "Enter a number: 3\n",
      "Enter a number: 5\n",
      "Enter a number: done\n",
      "\n",
      "[7.0, 2.0, 9.0, 3.0, 5.0]\n",
      "Average: 5.2\n",
      "Maximum: 9.0\n",
      "Minimum: 2.0\n"
     ]
    }
   ],
   "source": [
    "lst = []\n",
    "while True:\n",
    "    num = input('Enter a number: ')\n",
    "    if num == 'done':\n",
    "        break\n",
    "    else:\n",
    "        lst.append(num)\n",
    "        \n",
    "average = sum(map(float,lst)) / len(lst)\n",
    "\n",
    "print()\n",
    "print(list(map(float,lst)))\n",
    "print('Average: %.1f' % average)\n",
    "print('Maximum: %.1f' % max(map(int,lst)))\n",
    "print('Minimum: %.1f' % min(map(int,lst)))"
   ]
  },
  {
   "cell_type": "markdown",
   "metadata": {},
   "source": [
    "#### 과제실습 3"
   ]
  },
  {
   "cell_type": "markdown",
   "metadata": {},
   "source": [
    "실습1)"
   ]
  },
  {
   "cell_type": "code",
   "execution_count": 1,
   "metadata": {},
   "outputs": [
    {
     "name": "stdout",
     "output_type": "stream",
     "text": [
      "1 2 10 "
     ]
    }
   ],
   "source": [
    "d = {'youn':1, 'park':2, 'kim': 10}\n",
    "\n",
    "for value in d.values():\n",
    "    print(value, end=' ')"
   ]
  },
  {
   "cell_type": "markdown",
   "metadata": {},
   "source": [
    "실습2)"
   ]
  },
  {
   "cell_type": "code",
   "execution_count": 2,
   "metadata": {
    "scrolled": true
   },
   "outputs": [
    {
     "name": "stdout",
     "output_type": "stream",
     "text": [
      "five 5\n",
      "four 4\n",
      "one 1\n",
      "three 3\n",
      "two 2\n"
     ]
    }
   ],
   "source": [
    "dic = {'one':1,'two':2,'three':3,'four':4,'five':5}\n",
    "\n",
    "for key in list(sorted(dic.keys())):\n",
    "    print(key, dic[key])"
   ]
  },
  {
   "cell_type": "markdown",
   "metadata": {},
   "source": [
    "실습3"
   ]
  },
  {
   "cell_type": "code",
   "execution_count": 3,
   "metadata": {},
   "outputs": [
    {
     "name": "stdout",
     "output_type": "stream",
     "text": [
      "Enter a sentence: Python is fun!\n",
      "{'P': 1, 'y': 1, 't': 1, 'h': 1, 'o': 1, 'n': 2, ' ': 2, 'i': 1, 's': 1, 'f': 1, 'u': 1, '!': 1}\n"
     ]
    }
   ],
   "source": [
    "sentence = input('Enter a sentence: ')\n",
    "\n",
    "d = dict()\n",
    "\n",
    "for i in sentence:\n",
    "    if i not in d.keys():\n",
    "        d[i] = 1\n",
    "    else:\n",
    "        d[i] += 1\n",
    "        \n",
    "print(d)"
   ]
  },
  {
   "cell_type": "markdown",
   "metadata": {},
   "source": [
    "#### 과제실습 5"
   ]
  },
  {
   "cell_type": "markdown",
   "metadata": {},
   "source": [
    "실습1"
   ]
  },
  {
   "cell_type": "code",
   "execution_count": 10,
   "metadata": {},
   "outputs": [],
   "source": [
    "fr = open('C:/Users/moon/Documents/github/posco_academy/test.txt', 'r')"
   ]
  },
  {
   "cell_type": "code",
   "execution_count": 11,
   "metadata": {},
   "outputs": [],
   "source": [
    "d = dict()\n",
    "\n",
    "for line in fr:\n",
    "    for word in line.split():\n",
    "        if word not in d.keys():\n",
    "            d[word] = 1\n",
    "        else:\n",
    "            d[word] += 1\n",
    "fr.close()"
   ]
  },
  {
   "cell_type": "code",
   "execution_count": 12,
   "metadata": {},
   "outputs": [
    {
     "name": "stdout",
     "output_type": "stream",
     "text": [
      "first 1\n",
      "line 3\n",
      "second 1\n",
      "third 1\n"
     ]
    }
   ],
   "source": [
    "for k, v in d.items():\n",
    "    print(k, v)"
   ]
  },
  {
   "cell_type": "markdown",
   "metadata": {},
   "source": [
    "실습4"
   ]
  },
  {
   "cell_type": "code",
   "execution_count": 13,
   "metadata": {},
   "outputs": [],
   "source": [
    "fr = open('C:/Users/moon/Documents/github/posco_academy/score.txt', 'r')\n",
    "\n",
    "msg_list = []\n",
    "\n",
    "for line in fr:\n",
    "    mid = float(line.split()[1])*0.4\n",
    "    final = float(line.split()[2])*0.6\n",
    "    total = mid+final\n",
    "    \n",
    "    if total >= 90:\n",
    "        grade = 'A'\n",
    "    elif total >= 80:\n",
    "        grade = 'B'\n",
    "    elif total >= 70:\n",
    "        grade = 'C'\n",
    "    elif total >= 60:\n",
    "        grade = 'D'\n",
    "    else:\n",
    "        grade = 'F'\n",
    "    \n",
    "    msg_list.append(str(' '.join(line.split()) + '  ' + str(total) + '(' + grade + ')' + '\\n'))    \n",
    "\n",
    "fr.close()\n",
    "\n",
    "fw = open('C:/Users/moon/Documents/github/posco_academy/report.txt', 'w')\n",
    "for LINE in msg_list:\n",
    "    fw.write(LINE)\n",
    "fw.close()"
   ]
  },
  {
   "cell_type": "code",
   "execution_count": 88,
   "metadata": {},
   "outputs": [],
   "source": []
  }
 ],
 "metadata": {
  "hide_input": false,
  "kernelspec": {
   "display_name": "Python 3",
   "language": "python",
   "name": "python3"
  },
  "language_info": {
   "codemirror_mode": {
    "name": "ipython",
    "version": 3
   },
   "file_extension": ".py",
   "mimetype": "text/x-python",
   "name": "python",
   "nbconvert_exporter": "python",
   "pygments_lexer": "ipython3",
   "version": "3.7.9"
  }
 },
 "nbformat": 4,
 "nbformat_minor": 4
}
